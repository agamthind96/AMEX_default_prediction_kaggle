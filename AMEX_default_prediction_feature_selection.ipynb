{
  "cells": [
    {
      "cell_type": "markdown",
      "metadata": {
        "id": "view-in-github",
        "colab_type": "text"
      },
      "source": [
        "<a href=\"https://colab.research.google.com/github/agamthind96/AMEX_default_prediction_kaggle/blob/main/AMEX_default_prediction_feature_selection.ipynb\" target=\"_parent\"><img src=\"https://colab.research.google.com/assets/colab-badge.svg\" alt=\"Open In Colab\"/></a>"
      ]
    },
    {
      "cell_type": "code",
      "execution_count": 1,
      "metadata": {
        "colab": {
          "base_uri": "https://localhost:8080/"
        },
        "id": "rszu3T-lFPhQ",
        "outputId": "dea1d9c5-d6a7-4658-84d8-1f6ac9818469"
      },
      "outputs": [
        {
          "output_type": "stream",
          "name": "stdout",
          "text": [
            "Mounted at /content/drive\n"
          ]
        }
      ],
      "source": [
        "from google.colab import drive\n",
        "drive.mount('/content/drive')"
      ]
    },
    {
      "cell_type": "code",
      "execution_count": 2,
      "metadata": {
        "id": "0qAa7aa4FQy7"
      },
      "outputs": [],
      "source": [
        "import pandas as pd\n",
        "import numpy as np\n",
        "import matplotlib.pyplot as plt\n",
        "import seaborn as sns"
      ]
    },
    {
      "cell_type": "code",
      "execution_count": 3,
      "metadata": {
        "colab": {
          "base_uri": "https://localhost:8080/",
          "height": 386
        },
        "id": "l7kG2mQWGPS9",
        "outputId": "69c0954e-42e5-4e17-a81e-c20d6a67f0e4"
      },
      "outputs": [
        {
          "output_type": "execute_result",
          "data": {
            "text/plain": [
              "                                         customer_ID         S_2       P_2  \\\n",
              "0  0000099d6bd597052cdcda90ffabf56573fe9d7c79be5f...  2017-03-09  0.938469   \n",
              "1  0000099d6bd597052cdcda90ffabf56573fe9d7c79be5f...  2017-04-07  0.936665   \n",
              "2  0000099d6bd597052cdcda90ffabf56573fe9d7c79be5f...  2017-05-28  0.954180   \n",
              "3  0000099d6bd597052cdcda90ffabf56573fe9d7c79be5f...  2017-06-13  0.960384   \n",
              "4  0000099d6bd597052cdcda90ffabf56573fe9d7c79be5f...  2017-07-16  0.947248   \n",
              "\n",
              "       D_39       B_1       B_2       R_1       S_3      D_41       B_3  ...  \\\n",
              "0  0.001733  0.008724  1.006838  0.009228  0.124035  0.008771  0.004709  ...   \n",
              "1  0.005775  0.004923  1.000653  0.006151  0.126750  0.000798  0.002714  ...   \n",
              "2  0.091505  0.021655  1.009672  0.006815  0.123977  0.007598  0.009423  ...   \n",
              "3  0.002455  0.013683  1.002700  0.001373  0.117169  0.000685  0.005531  ...   \n",
              "4  0.002483  0.015193  1.000727  0.007605  0.117325  0.004653  0.009312  ...   \n",
              "\n",
              "   D_136  D_137  D_138     D_139     D_140     D_141  D_142     D_143  \\\n",
              "0    NaN    NaN    NaN  0.002427  0.003706  0.003818    NaN  0.000569   \n",
              "1    NaN    NaN    NaN  0.003954  0.003167  0.005032    NaN  0.009576   \n",
              "2    NaN    NaN    NaN  0.003269  0.007329  0.000427    NaN  0.003429   \n",
              "3    NaN    NaN    NaN  0.006117  0.004516  0.003200    NaN  0.008419   \n",
              "4    NaN    NaN    NaN  0.003671  0.004946  0.008889    NaN  0.001670   \n",
              "\n",
              "      D_144     D_145  \n",
              "0  0.000610  0.002674  \n",
              "1  0.005492  0.009217  \n",
              "2  0.006986  0.002603  \n",
              "3  0.006527  0.009600  \n",
              "4  0.008126  0.009827  \n",
              "\n",
              "[5 rows x 190 columns]"
            ],
            "text/html": [
              "\n",
              "  <div id=\"df-b9c070ab-edd1-49b8-baaa-ec6b3f05f616\">\n",
              "    <div class=\"colab-df-container\">\n",
              "      <div>\n",
              "<style scoped>\n",
              "    .dataframe tbody tr th:only-of-type {\n",
              "        vertical-align: middle;\n",
              "    }\n",
              "\n",
              "    .dataframe tbody tr th {\n",
              "        vertical-align: top;\n",
              "    }\n",
              "\n",
              "    .dataframe thead th {\n",
              "        text-align: right;\n",
              "    }\n",
              "</style>\n",
              "<table border=\"1\" class=\"dataframe\">\n",
              "  <thead>\n",
              "    <tr style=\"text-align: right;\">\n",
              "      <th></th>\n",
              "      <th>customer_ID</th>\n",
              "      <th>S_2</th>\n",
              "      <th>P_2</th>\n",
              "      <th>D_39</th>\n",
              "      <th>B_1</th>\n",
              "      <th>B_2</th>\n",
              "      <th>R_1</th>\n",
              "      <th>S_3</th>\n",
              "      <th>D_41</th>\n",
              "      <th>B_3</th>\n",
              "      <th>...</th>\n",
              "      <th>D_136</th>\n",
              "      <th>D_137</th>\n",
              "      <th>D_138</th>\n",
              "      <th>D_139</th>\n",
              "      <th>D_140</th>\n",
              "      <th>D_141</th>\n",
              "      <th>D_142</th>\n",
              "      <th>D_143</th>\n",
              "      <th>D_144</th>\n",
              "      <th>D_145</th>\n",
              "    </tr>\n",
              "  </thead>\n",
              "  <tbody>\n",
              "    <tr>\n",
              "      <th>0</th>\n",
              "      <td>0000099d6bd597052cdcda90ffabf56573fe9d7c79be5f...</td>\n",
              "      <td>2017-03-09</td>\n",
              "      <td>0.938469</td>\n",
              "      <td>0.001733</td>\n",
              "      <td>0.008724</td>\n",
              "      <td>1.006838</td>\n",
              "      <td>0.009228</td>\n",
              "      <td>0.124035</td>\n",
              "      <td>0.008771</td>\n",
              "      <td>0.004709</td>\n",
              "      <td>...</td>\n",
              "      <td>NaN</td>\n",
              "      <td>NaN</td>\n",
              "      <td>NaN</td>\n",
              "      <td>0.002427</td>\n",
              "      <td>0.003706</td>\n",
              "      <td>0.003818</td>\n",
              "      <td>NaN</td>\n",
              "      <td>0.000569</td>\n",
              "      <td>0.000610</td>\n",
              "      <td>0.002674</td>\n",
              "    </tr>\n",
              "    <tr>\n",
              "      <th>1</th>\n",
              "      <td>0000099d6bd597052cdcda90ffabf56573fe9d7c79be5f...</td>\n",
              "      <td>2017-04-07</td>\n",
              "      <td>0.936665</td>\n",
              "      <td>0.005775</td>\n",
              "      <td>0.004923</td>\n",
              "      <td>1.000653</td>\n",
              "      <td>0.006151</td>\n",
              "      <td>0.126750</td>\n",
              "      <td>0.000798</td>\n",
              "      <td>0.002714</td>\n",
              "      <td>...</td>\n",
              "      <td>NaN</td>\n",
              "      <td>NaN</td>\n",
              "      <td>NaN</td>\n",
              "      <td>0.003954</td>\n",
              "      <td>0.003167</td>\n",
              "      <td>0.005032</td>\n",
              "      <td>NaN</td>\n",
              "      <td>0.009576</td>\n",
              "      <td>0.005492</td>\n",
              "      <td>0.009217</td>\n",
              "    </tr>\n",
              "    <tr>\n",
              "      <th>2</th>\n",
              "      <td>0000099d6bd597052cdcda90ffabf56573fe9d7c79be5f...</td>\n",
              "      <td>2017-05-28</td>\n",
              "      <td>0.954180</td>\n",
              "      <td>0.091505</td>\n",
              "      <td>0.021655</td>\n",
              "      <td>1.009672</td>\n",
              "      <td>0.006815</td>\n",
              "      <td>0.123977</td>\n",
              "      <td>0.007598</td>\n",
              "      <td>0.009423</td>\n",
              "      <td>...</td>\n",
              "      <td>NaN</td>\n",
              "      <td>NaN</td>\n",
              "      <td>NaN</td>\n",
              "      <td>0.003269</td>\n",
              "      <td>0.007329</td>\n",
              "      <td>0.000427</td>\n",
              "      <td>NaN</td>\n",
              "      <td>0.003429</td>\n",
              "      <td>0.006986</td>\n",
              "      <td>0.002603</td>\n",
              "    </tr>\n",
              "    <tr>\n",
              "      <th>3</th>\n",
              "      <td>0000099d6bd597052cdcda90ffabf56573fe9d7c79be5f...</td>\n",
              "      <td>2017-06-13</td>\n",
              "      <td>0.960384</td>\n",
              "      <td>0.002455</td>\n",
              "      <td>0.013683</td>\n",
              "      <td>1.002700</td>\n",
              "      <td>0.001373</td>\n",
              "      <td>0.117169</td>\n",
              "      <td>0.000685</td>\n",
              "      <td>0.005531</td>\n",
              "      <td>...</td>\n",
              "      <td>NaN</td>\n",
              "      <td>NaN</td>\n",
              "      <td>NaN</td>\n",
              "      <td>0.006117</td>\n",
              "      <td>0.004516</td>\n",
              "      <td>0.003200</td>\n",
              "      <td>NaN</td>\n",
              "      <td>0.008419</td>\n",
              "      <td>0.006527</td>\n",
              "      <td>0.009600</td>\n",
              "    </tr>\n",
              "    <tr>\n",
              "      <th>4</th>\n",
              "      <td>0000099d6bd597052cdcda90ffabf56573fe9d7c79be5f...</td>\n",
              "      <td>2017-07-16</td>\n",
              "      <td>0.947248</td>\n",
              "      <td>0.002483</td>\n",
              "      <td>0.015193</td>\n",
              "      <td>1.000727</td>\n",
              "      <td>0.007605</td>\n",
              "      <td>0.117325</td>\n",
              "      <td>0.004653</td>\n",
              "      <td>0.009312</td>\n",
              "      <td>...</td>\n",
              "      <td>NaN</td>\n",
              "      <td>NaN</td>\n",
              "      <td>NaN</td>\n",
              "      <td>0.003671</td>\n",
              "      <td>0.004946</td>\n",
              "      <td>0.008889</td>\n",
              "      <td>NaN</td>\n",
              "      <td>0.001670</td>\n",
              "      <td>0.008126</td>\n",
              "      <td>0.009827</td>\n",
              "    </tr>\n",
              "  </tbody>\n",
              "</table>\n",
              "<p>5 rows × 190 columns</p>\n",
              "</div>\n",
              "      <button class=\"colab-df-convert\" onclick=\"convertToInteractive('df-b9c070ab-edd1-49b8-baaa-ec6b3f05f616')\"\n",
              "              title=\"Convert this dataframe to an interactive table.\"\n",
              "              style=\"display:none;\">\n",
              "        \n",
              "  <svg xmlns=\"http://www.w3.org/2000/svg\" height=\"24px\"viewBox=\"0 0 24 24\"\n",
              "       width=\"24px\">\n",
              "    <path d=\"M0 0h24v24H0V0z\" fill=\"none\"/>\n",
              "    <path d=\"M18.56 5.44l.94 2.06.94-2.06 2.06-.94-2.06-.94-.94-2.06-.94 2.06-2.06.94zm-11 1L8.5 8.5l.94-2.06 2.06-.94-2.06-.94L8.5 2.5l-.94 2.06-2.06.94zm10 10l.94 2.06.94-2.06 2.06-.94-2.06-.94-.94-2.06-.94 2.06-2.06.94z\"/><path d=\"M17.41 7.96l-1.37-1.37c-.4-.4-.92-.59-1.43-.59-.52 0-1.04.2-1.43.59L10.3 9.45l-7.72 7.72c-.78.78-.78 2.05 0 2.83L4 21.41c.39.39.9.59 1.41.59.51 0 1.02-.2 1.41-.59l7.78-7.78 2.81-2.81c.8-.78.8-2.07 0-2.86zM5.41 20L4 18.59l7.72-7.72 1.47 1.35L5.41 20z\"/>\n",
              "  </svg>\n",
              "      </button>\n",
              "      \n",
              "  <style>\n",
              "    .colab-df-container {\n",
              "      display:flex;\n",
              "      flex-wrap:wrap;\n",
              "      gap: 12px;\n",
              "    }\n",
              "\n",
              "    .colab-df-convert {\n",
              "      background-color: #E8F0FE;\n",
              "      border: none;\n",
              "      border-radius: 50%;\n",
              "      cursor: pointer;\n",
              "      display: none;\n",
              "      fill: #1967D2;\n",
              "      height: 32px;\n",
              "      padding: 0 0 0 0;\n",
              "      width: 32px;\n",
              "    }\n",
              "\n",
              "    .colab-df-convert:hover {\n",
              "      background-color: #E2EBFA;\n",
              "      box-shadow: 0px 1px 2px rgba(60, 64, 67, 0.3), 0px 1px 3px 1px rgba(60, 64, 67, 0.15);\n",
              "      fill: #174EA6;\n",
              "    }\n",
              "\n",
              "    [theme=dark] .colab-df-convert {\n",
              "      background-color: #3B4455;\n",
              "      fill: #D2E3FC;\n",
              "    }\n",
              "\n",
              "    [theme=dark] .colab-df-convert:hover {\n",
              "      background-color: #434B5C;\n",
              "      box-shadow: 0px 1px 3px 1px rgba(0, 0, 0, 0.15);\n",
              "      filter: drop-shadow(0px 1px 2px rgba(0, 0, 0, 0.3));\n",
              "      fill: #FFFFFF;\n",
              "    }\n",
              "  </style>\n",
              "\n",
              "      <script>\n",
              "        const buttonEl =\n",
              "          document.querySelector('#df-b9c070ab-edd1-49b8-baaa-ec6b3f05f616 button.colab-df-convert');\n",
              "        buttonEl.style.display =\n",
              "          google.colab.kernel.accessAllowed ? 'block' : 'none';\n",
              "\n",
              "        async function convertToInteractive(key) {\n",
              "          const element = document.querySelector('#df-b9c070ab-edd1-49b8-baaa-ec6b3f05f616');\n",
              "          const dataTable =\n",
              "            await google.colab.kernel.invokeFunction('convertToInteractive',\n",
              "                                                     [key], {});\n",
              "          if (!dataTable) return;\n",
              "\n",
              "          const docLinkHtml = 'Like what you see? Visit the ' +\n",
              "            '<a target=\"_blank\" href=https://colab.research.google.com/notebooks/data_table.ipynb>data table notebook</a>'\n",
              "            + ' to learn more about interactive tables.';\n",
              "          element.innerHTML = '';\n",
              "          dataTable['output_type'] = 'display_data';\n",
              "          await google.colab.output.renderOutput(dataTable, element);\n",
              "          const docLink = document.createElement('div');\n",
              "          docLink.innerHTML = docLinkHtml;\n",
              "          element.appendChild(docLink);\n",
              "        }\n",
              "      </script>\n",
              "    </div>\n",
              "  </div>\n",
              "  "
            ]
          },
          "metadata": {},
          "execution_count": 3
        }
      ],
      "source": [
        "train_df = pd.read_csv(\"/content/drive/MyDrive/AMEX_default_prediction_kaggle/chunk1.csv\")\n",
        "train_df.head()"
      ]
    },
    {
      "cell_type": "markdown",
      "source": [
        "## D_Variables"
      ],
      "metadata": {
        "id": "IatW943IBz_Y"
      }
    },
    {
      "cell_type": "code",
      "execution_count": 113,
      "metadata": {
        "colab": {
          "base_uri": "https://localhost:8080/",
          "height": 386
        },
        "id": "bs4NA9joGW40",
        "outputId": "6d1ad6db-b387-4460-de23-76c47364687c"
      },
      "outputs": [
        {
          "output_type": "execute_result",
          "data": {
            "text/plain": [
              "                                         customer_ID         S_2       P_2  \\\n",
              "0  0000099d6bd597052cdcda90ffabf56573fe9d7c79be5f...  2017-03-09  0.938469   \n",
              "1  0000099d6bd597052cdcda90ffabf56573fe9d7c79be5f...  2017-04-07  0.936665   \n",
              "2  0000099d6bd597052cdcda90ffabf56573fe9d7c79be5f...  2017-05-28  0.954180   \n",
              "3  0000099d6bd597052cdcda90ffabf56573fe9d7c79be5f...  2017-06-13  0.960384   \n",
              "4  0000099d6bd597052cdcda90ffabf56573fe9d7c79be5f...  2017-07-16  0.947248   \n",
              "\n",
              "       D_39       B_1       B_2       R_1       S_3      D_41       B_3  ...  \\\n",
              "0  0.001733  0.008724  1.006838  0.009228  0.124035  0.008771  0.004709  ...   \n",
              "1  0.005775  0.004923  1.000653  0.006151  0.126750  0.000798  0.002714  ...   \n",
              "2  0.091505  0.021655  1.009672  0.006815  0.123977  0.007598  0.009423  ...   \n",
              "3  0.002455  0.013683  1.002700  0.001373  0.117169  0.000685  0.005531  ...   \n",
              "4  0.002483  0.015193  1.000727  0.007605  0.117325  0.004653  0.009312  ...   \n",
              "\n",
              "   D_136  D_137  D_138     D_139     D_140     D_141  D_142     D_143  \\\n",
              "0    NaN    NaN    NaN  0.002427  0.003706  0.003818    NaN  0.000569   \n",
              "1    NaN    NaN    NaN  0.003954  0.003167  0.005032    NaN  0.009576   \n",
              "2    NaN    NaN    NaN  0.003269  0.007329  0.000427    NaN  0.003429   \n",
              "3    NaN    NaN    NaN  0.006117  0.004516  0.003200    NaN  0.008419   \n",
              "4    NaN    NaN    NaN  0.003671  0.004946  0.008889    NaN  0.001670   \n",
              "\n",
              "      D_144     D_145  \n",
              "0  0.000610  0.002674  \n",
              "1  0.005492  0.009217  \n",
              "2  0.006986  0.002603  \n",
              "3  0.006527  0.009600  \n",
              "4  0.008126  0.009827  \n",
              "\n",
              "[5 rows x 190 columns]"
            ],
            "text/html": [
              "\n",
              "  <div id=\"df-026a4ecd-b15d-4cea-be35-4f14267395ba\">\n",
              "    <div class=\"colab-df-container\">\n",
              "      <div>\n",
              "<style scoped>\n",
              "    .dataframe tbody tr th:only-of-type {\n",
              "        vertical-align: middle;\n",
              "    }\n",
              "\n",
              "    .dataframe tbody tr th {\n",
              "        vertical-align: top;\n",
              "    }\n",
              "\n",
              "    .dataframe thead th {\n",
              "        text-align: right;\n",
              "    }\n",
              "</style>\n",
              "<table border=\"1\" class=\"dataframe\">\n",
              "  <thead>\n",
              "    <tr style=\"text-align: right;\">\n",
              "      <th></th>\n",
              "      <th>customer_ID</th>\n",
              "      <th>S_2</th>\n",
              "      <th>P_2</th>\n",
              "      <th>D_39</th>\n",
              "      <th>B_1</th>\n",
              "      <th>B_2</th>\n",
              "      <th>R_1</th>\n",
              "      <th>S_3</th>\n",
              "      <th>D_41</th>\n",
              "      <th>B_3</th>\n",
              "      <th>...</th>\n",
              "      <th>D_136</th>\n",
              "      <th>D_137</th>\n",
              "      <th>D_138</th>\n",
              "      <th>D_139</th>\n",
              "      <th>D_140</th>\n",
              "      <th>D_141</th>\n",
              "      <th>D_142</th>\n",
              "      <th>D_143</th>\n",
              "      <th>D_144</th>\n",
              "      <th>D_145</th>\n",
              "    </tr>\n",
              "  </thead>\n",
              "  <tbody>\n",
              "    <tr>\n",
              "      <th>0</th>\n",
              "      <td>0000099d6bd597052cdcda90ffabf56573fe9d7c79be5f...</td>\n",
              "      <td>2017-03-09</td>\n",
              "      <td>0.938469</td>\n",
              "      <td>0.001733</td>\n",
              "      <td>0.008724</td>\n",
              "      <td>1.006838</td>\n",
              "      <td>0.009228</td>\n",
              "      <td>0.124035</td>\n",
              "      <td>0.008771</td>\n",
              "      <td>0.004709</td>\n",
              "      <td>...</td>\n",
              "      <td>NaN</td>\n",
              "      <td>NaN</td>\n",
              "      <td>NaN</td>\n",
              "      <td>0.002427</td>\n",
              "      <td>0.003706</td>\n",
              "      <td>0.003818</td>\n",
              "      <td>NaN</td>\n",
              "      <td>0.000569</td>\n",
              "      <td>0.000610</td>\n",
              "      <td>0.002674</td>\n",
              "    </tr>\n",
              "    <tr>\n",
              "      <th>1</th>\n",
              "      <td>0000099d6bd597052cdcda90ffabf56573fe9d7c79be5f...</td>\n",
              "      <td>2017-04-07</td>\n",
              "      <td>0.936665</td>\n",
              "      <td>0.005775</td>\n",
              "      <td>0.004923</td>\n",
              "      <td>1.000653</td>\n",
              "      <td>0.006151</td>\n",
              "      <td>0.126750</td>\n",
              "      <td>0.000798</td>\n",
              "      <td>0.002714</td>\n",
              "      <td>...</td>\n",
              "      <td>NaN</td>\n",
              "      <td>NaN</td>\n",
              "      <td>NaN</td>\n",
              "      <td>0.003954</td>\n",
              "      <td>0.003167</td>\n",
              "      <td>0.005032</td>\n",
              "      <td>NaN</td>\n",
              "      <td>0.009576</td>\n",
              "      <td>0.005492</td>\n",
              "      <td>0.009217</td>\n",
              "    </tr>\n",
              "    <tr>\n",
              "      <th>2</th>\n",
              "      <td>0000099d6bd597052cdcda90ffabf56573fe9d7c79be5f...</td>\n",
              "      <td>2017-05-28</td>\n",
              "      <td>0.954180</td>\n",
              "      <td>0.091505</td>\n",
              "      <td>0.021655</td>\n",
              "      <td>1.009672</td>\n",
              "      <td>0.006815</td>\n",
              "      <td>0.123977</td>\n",
              "      <td>0.007598</td>\n",
              "      <td>0.009423</td>\n",
              "      <td>...</td>\n",
              "      <td>NaN</td>\n",
              "      <td>NaN</td>\n",
              "      <td>NaN</td>\n",
              "      <td>0.003269</td>\n",
              "      <td>0.007329</td>\n",
              "      <td>0.000427</td>\n",
              "      <td>NaN</td>\n",
              "      <td>0.003429</td>\n",
              "      <td>0.006986</td>\n",
              "      <td>0.002603</td>\n",
              "    </tr>\n",
              "    <tr>\n",
              "      <th>3</th>\n",
              "      <td>0000099d6bd597052cdcda90ffabf56573fe9d7c79be5f...</td>\n",
              "      <td>2017-06-13</td>\n",
              "      <td>0.960384</td>\n",
              "      <td>0.002455</td>\n",
              "      <td>0.013683</td>\n",
              "      <td>1.002700</td>\n",
              "      <td>0.001373</td>\n",
              "      <td>0.117169</td>\n",
              "      <td>0.000685</td>\n",
              "      <td>0.005531</td>\n",
              "      <td>...</td>\n",
              "      <td>NaN</td>\n",
              "      <td>NaN</td>\n",
              "      <td>NaN</td>\n",
              "      <td>0.006117</td>\n",
              "      <td>0.004516</td>\n",
              "      <td>0.003200</td>\n",
              "      <td>NaN</td>\n",
              "      <td>0.008419</td>\n",
              "      <td>0.006527</td>\n",
              "      <td>0.009600</td>\n",
              "    </tr>\n",
              "    <tr>\n",
              "      <th>4</th>\n",
              "      <td>0000099d6bd597052cdcda90ffabf56573fe9d7c79be5f...</td>\n",
              "      <td>2017-07-16</td>\n",
              "      <td>0.947248</td>\n",
              "      <td>0.002483</td>\n",
              "      <td>0.015193</td>\n",
              "      <td>1.000727</td>\n",
              "      <td>0.007605</td>\n",
              "      <td>0.117325</td>\n",
              "      <td>0.004653</td>\n",
              "      <td>0.009312</td>\n",
              "      <td>...</td>\n",
              "      <td>NaN</td>\n",
              "      <td>NaN</td>\n",
              "      <td>NaN</td>\n",
              "      <td>0.003671</td>\n",
              "      <td>0.004946</td>\n",
              "      <td>0.008889</td>\n",
              "      <td>NaN</td>\n",
              "      <td>0.001670</td>\n",
              "      <td>0.008126</td>\n",
              "      <td>0.009827</td>\n",
              "    </tr>\n",
              "  </tbody>\n",
              "</table>\n",
              "<p>5 rows × 190 columns</p>\n",
              "</div>\n",
              "      <button class=\"colab-df-convert\" onclick=\"convertToInteractive('df-026a4ecd-b15d-4cea-be35-4f14267395ba')\"\n",
              "              title=\"Convert this dataframe to an interactive table.\"\n",
              "              style=\"display:none;\">\n",
              "        \n",
              "  <svg xmlns=\"http://www.w3.org/2000/svg\" height=\"24px\"viewBox=\"0 0 24 24\"\n",
              "       width=\"24px\">\n",
              "    <path d=\"M0 0h24v24H0V0z\" fill=\"none\"/>\n",
              "    <path d=\"M18.56 5.44l.94 2.06.94-2.06 2.06-.94-2.06-.94-.94-2.06-.94 2.06-2.06.94zm-11 1L8.5 8.5l.94-2.06 2.06-.94-2.06-.94L8.5 2.5l-.94 2.06-2.06.94zm10 10l.94 2.06.94-2.06 2.06-.94-2.06-.94-.94-2.06-.94 2.06-2.06.94z\"/><path d=\"M17.41 7.96l-1.37-1.37c-.4-.4-.92-.59-1.43-.59-.52 0-1.04.2-1.43.59L10.3 9.45l-7.72 7.72c-.78.78-.78 2.05 0 2.83L4 21.41c.39.39.9.59 1.41.59.51 0 1.02-.2 1.41-.59l7.78-7.78 2.81-2.81c.8-.78.8-2.07 0-2.86zM5.41 20L4 18.59l7.72-7.72 1.47 1.35L5.41 20z\"/>\n",
              "  </svg>\n",
              "      </button>\n",
              "      \n",
              "  <style>\n",
              "    .colab-df-container {\n",
              "      display:flex;\n",
              "      flex-wrap:wrap;\n",
              "      gap: 12px;\n",
              "    }\n",
              "\n",
              "    .colab-df-convert {\n",
              "      background-color: #E8F0FE;\n",
              "      border: none;\n",
              "      border-radius: 50%;\n",
              "      cursor: pointer;\n",
              "      display: none;\n",
              "      fill: #1967D2;\n",
              "      height: 32px;\n",
              "      padding: 0 0 0 0;\n",
              "      width: 32px;\n",
              "    }\n",
              "\n",
              "    .colab-df-convert:hover {\n",
              "      background-color: #E2EBFA;\n",
              "      box-shadow: 0px 1px 2px rgba(60, 64, 67, 0.3), 0px 1px 3px 1px rgba(60, 64, 67, 0.15);\n",
              "      fill: #174EA6;\n",
              "    }\n",
              "\n",
              "    [theme=dark] .colab-df-convert {\n",
              "      background-color: #3B4455;\n",
              "      fill: #D2E3FC;\n",
              "    }\n",
              "\n",
              "    [theme=dark] .colab-df-convert:hover {\n",
              "      background-color: #434B5C;\n",
              "      box-shadow: 0px 1px 3px 1px rgba(0, 0, 0, 0.15);\n",
              "      filter: drop-shadow(0px 1px 2px rgba(0, 0, 0, 0.3));\n",
              "      fill: #FFFFFF;\n",
              "    }\n",
              "  </style>\n",
              "\n",
              "      <script>\n",
              "        const buttonEl =\n",
              "          document.querySelector('#df-026a4ecd-b15d-4cea-be35-4f14267395ba button.colab-df-convert');\n",
              "        buttonEl.style.display =\n",
              "          google.colab.kernel.accessAllowed ? 'block' : 'none';\n",
              "\n",
              "        async function convertToInteractive(key) {\n",
              "          const element = document.querySelector('#df-026a4ecd-b15d-4cea-be35-4f14267395ba');\n",
              "          const dataTable =\n",
              "            await google.colab.kernel.invokeFunction('convertToInteractive',\n",
              "                                                     [key], {});\n",
              "          if (!dataTable) return;\n",
              "\n",
              "          const docLinkHtml = 'Like what you see? Visit the ' +\n",
              "            '<a target=\"_blank\" href=https://colab.research.google.com/notebooks/data_table.ipynb>data table notebook</a>'\n",
              "            + ' to learn more about interactive tables.';\n",
              "          element.innerHTML = '';\n",
              "          dataTable['output_type'] = 'display_data';\n",
              "          await google.colab.output.renderOutput(dataTable, element);\n",
              "          const docLink = document.createElement('div');\n",
              "          docLink.innerHTML = docLinkHtml;\n",
              "          element.appendChild(docLink);\n",
              "        }\n",
              "      </script>\n",
              "    </div>\n",
              "  </div>\n",
              "  "
            ]
          },
          "metadata": {},
          "execution_count": 113
        }
      ],
      "source": [
        "train_df_D = train_df.copy()\n",
        "train_df_D.head()"
      ]
    },
    {
      "cell_type": "code",
      "execution_count": 114,
      "metadata": {
        "colab": {
          "base_uri": "https://localhost:8080/"
        },
        "id": "uVtsNTUWGnYq",
        "outputId": "c79102fc-d31c-4e8e-c432-90e1c8325fad"
      },
      "outputs": [
        {
          "output_type": "execute_result",
          "data": {
            "text/plain": [
              "(300000, 96)"
            ]
          },
          "metadata": {},
          "execution_count": 114
        }
      ],
      "source": [
        "for ele in train_df.columns :\n",
        "  if ele[0] != 'D':\n",
        "    train_df_D.drop(ele, axis=1, inplace=True)\n",
        "\n",
        "train_df_D.shape"
      ]
    },
    {
      "cell_type": "code",
      "execution_count": 115,
      "metadata": {
        "colab": {
          "base_uri": "https://localhost:8080/"
        },
        "id": "kx9o7eOmIVrq",
        "outputId": "03455b68-11cc-43a8-c514-c93e33c58221"
      },
      "outputs": [
        {
          "output_type": "execute_result",
          "data": {
            "text/plain": [
              "(300000, 87)"
            ]
          },
          "metadata": {},
          "execution_count": 115
        }
      ],
      "source": [
        "lis_D = ['D_114', 'D_116', 'D_117', 'D_120', 'D_126', 'D_63', 'D_64', 'D_66', 'D_68']\n",
        "for ele in lis_D :\n",
        "  train_df_D.drop(ele, axis=1, inplace=True)\n",
        "\n",
        "train_df_D.shape"
      ]
    },
    {
      "cell_type": "markdown",
      "metadata": {
        "id": "mXCkTubiI_8E"
      },
      "source": [
        "### Feature Selection using VarianceThreshold"
      ]
    },
    {
      "cell_type": "code",
      "execution_count": 116,
      "metadata": {
        "colab": {
          "base_uri": "https://localhost:8080/"
        },
        "id": "P_7p2ZS_G3C7",
        "outputId": "a678a38f-5b14-46ec-c0bd-08b02768dde3"
      },
      "outputs": [
        {
          "output_type": "execute_result",
          "data": {
            "text/plain": [
              "VarianceThreshold(threshold=0)"
            ]
          },
          "metadata": {},
          "execution_count": 116
        }
      ],
      "source": [
        "from sklearn.feature_selection import VarianceThreshold\n",
        "sel = VarianceThreshold(threshold=0)\n",
        "sel.fit(train_df_D)"
      ]
    },
    {
      "cell_type": "code",
      "execution_count": 117,
      "metadata": {
        "colab": {
          "base_uri": "https://localhost:8080/"
        },
        "id": "yTB9QJ45HpYX",
        "outputId": "4716f1e2-d5a4-4ee2-b105-d3135d3823a0"
      },
      "outputs": [
        {
          "output_type": "execute_result",
          "data": {
            "text/plain": [
              "array([ True,  True,  True,  True,  True,  True,  True,  True,  True,\n",
              "        True,  True,  True,  True,  True,  True,  True,  True,  True,\n",
              "        True,  True,  True,  True,  True,  True,  True,  True,  True,\n",
              "        True,  True,  True,  True,  True,  True,  True,  True,  True,\n",
              "        True,  True,  True,  True, False,  True,  True,  True,  True,\n",
              "        True,  True,  True,  True,  True,  True,  True,  True,  True,\n",
              "        True,  True,  True,  True,  True,  True,  True,  True,  True,\n",
              "        True,  True,  True,  True,  True,  True,  True,  True,  True,\n",
              "        True,  True,  True,  True,  True,  True,  True,  True,  True,\n",
              "        True,  True,  True,  True,  True,  True])"
            ]
          },
          "metadata": {},
          "execution_count": 117
        }
      ],
      "source": [
        "sel.get_support()"
      ]
    },
    {
      "cell_type": "code",
      "execution_count": 118,
      "metadata": {
        "colab": {
          "base_uri": "https://localhost:8080/"
        },
        "id": "UtU5TXdAIxH5",
        "outputId": "be630657-ceb3-43d6-9424-01e507df089b"
      },
      "outputs": [
        {
          "output_type": "execute_result",
          "data": {
            "text/plain": [
              "86"
            ]
          },
          "metadata": {},
          "execution_count": 118
        }
      ],
      "source": [
        "sum(sel.get_support())"
      ]
    },
    {
      "cell_type": "markdown",
      "metadata": {
        "id": "tkFRnD9jI0WA"
      },
      "source": [
        "* So there are no column in **train_df_D** dataframe in which all rows have similar values."
      ]
    },
    {
      "cell_type": "markdown",
      "metadata": {
        "id": "VK67o1LSJwS-"
      },
      "source": [
        "### Removing Quasi-constant features using VarianceThreshold"
      ]
    },
    {
      "cell_type": "code",
      "execution_count": 119,
      "metadata": {
        "colab": {
          "base_uri": "https://localhost:8080/"
        },
        "id": "O8Hqx3A0KF4P",
        "outputId": "ceb8dbbb-2103-4351-f1f3-ad95e948559e"
      },
      "outputs": [
        {
          "output_type": "execute_result",
          "data": {
            "text/plain": [
              "VarianceThreshold(threshold=0.01)"
            ]
          },
          "metadata": {},
          "execution_count": 119
        }
      ],
      "source": [
        "sel = VarianceThreshold(threshold=0.01)\n",
        "sel.fit(train_df_D)"
      ]
    },
    {
      "cell_type": "code",
      "execution_count": 120,
      "metadata": {
        "colab": {
          "base_uri": "https://localhost:8080/"
        },
        "id": "h1yeAhJmKRvW",
        "outputId": "e0496c4b-3cc2-4901-8b73-f70122952216"
      },
      "outputs": [
        {
          "output_type": "execute_result",
          "data": {
            "text/plain": [
              "82"
            ]
          },
          "metadata": {},
          "execution_count": 120
        }
      ],
      "source": [
        "sum(sel.get_support())"
      ]
    },
    {
      "cell_type": "markdown",
      "metadata": {
        "id": "ATKHt9ltK41p"
      },
      "source": [
        "* Getting the columns which are quasi-constant "
      ]
    },
    {
      "cell_type": "code",
      "execution_count": 121,
      "metadata": {
        "colab": {
          "base_uri": "https://localhost:8080/"
        },
        "id": "H_zLrCUgKVor",
        "outputId": "b789267d-4816-4d50-f4ac-1e651a6d224d"
      },
      "outputs": [
        {
          "output_type": "execute_result",
          "data": {
            "text/plain": [
              "['D_87', 'D_89', 'D_93', 'D_109', 'D_137']"
            ]
          },
          "metadata": {},
          "execution_count": 121
        }
      ],
      "source": [
        "[x for x in train_df_D.columns if x not in train_df_D.columns[sel.get_support()]]"
      ]
    },
    {
      "cell_type": "markdown",
      "metadata": {
        "id": "2l8EuU1DK_2w"
      },
      "source": [
        "* Here we will check the value counts for each of the above mentioned columns."
      ]
    },
    {
      "cell_type": "code",
      "execution_count": 122,
      "metadata": {
        "colab": {
          "base_uri": "https://localhost:8080/"
        },
        "id": "Pw5VMm_NKqXU",
        "outputId": "d6d049df-0e24-46d3-f63d-3688a6aaa528"
      },
      "outputs": [
        {
          "output_type": "execute_result",
          "data": {
            "text/plain": [
              "1.0    197\n",
              "Name: D_87, dtype: int64"
            ]
          },
          "metadata": {},
          "execution_count": 122
        }
      ],
      "source": [
        "train_df_D['D_87'].value_counts()"
      ]
    },
    {
      "cell_type": "code",
      "execution_count": 123,
      "metadata": {
        "colab": {
          "base_uri": "https://localhost:8080/"
        },
        "id": "NZHYrBt-KzC3",
        "outputId": "029e76c2-b614-445b-a7a4-e8d292e3682e"
      },
      "outputs": [
        {
          "output_type": "execute_result",
          "data": {
            "text/plain": [
              "299803"
            ]
          },
          "metadata": {},
          "execution_count": 123
        }
      ],
      "source": [
        "train_df_D['D_87'].isna().sum()"
      ]
    },
    {
      "cell_type": "code",
      "execution_count": 124,
      "metadata": {
        "colab": {
          "base_uri": "https://localhost:8080/"
        },
        "id": "QPUpygucLUfz",
        "outputId": "1e8990f1-a5b7-487e-e290-5840f1e40ab1"
      },
      "outputs": [
        {
          "output_type": "execute_result",
          "data": {
            "text/plain": [
              "0.002665    1\n",
              "0.003411    1\n",
              "0.003436    1\n",
              "0.001989    1\n",
              "0.009195    1\n",
              "           ..\n",
              "0.004149    1\n",
              "0.008007    1\n",
              "0.000293    1\n",
              "0.000317    1\n",
              "0.003066    1\n",
              "Name: D_89, Length: 298446, dtype: int64"
            ]
          },
          "metadata": {},
          "execution_count": 124
        }
      ],
      "source": [
        "train_df_D['D_89'].value_counts()"
      ]
    },
    {
      "cell_type": "code",
      "execution_count": 125,
      "metadata": {
        "colab": {
          "base_uri": "https://localhost:8080/"
        },
        "id": "P7wZAwRNLbEx",
        "outputId": "7c3d3920-d9d1-45e7-d1be-0324386901fb"
      },
      "outputs": [
        {
          "output_type": "execute_result",
          "data": {
            "text/plain": [
              "0.003569    1\n",
              "0.008548    1\n",
              "0.003533    1\n",
              "0.008076    1\n",
              "0.006639    1\n",
              "           ..\n",
              "0.001256    1\n",
              "0.009673    1\n",
              "0.004841    1\n",
              "0.007141    1\n",
              "0.001376    1\n",
              "Name: D_93, Length: 300000, dtype: int64"
            ]
          },
          "metadata": {},
          "execution_count": 125
        }
      ],
      "source": [
        "train_df_D['D_93'].value_counts()"
      ]
    },
    {
      "cell_type": "code",
      "execution_count": 126,
      "metadata": {
        "colab": {
          "base_uri": "https://localhost:8080/"
        },
        "id": "edFePLhWLr-V",
        "outputId": "9b3137ea-2e5e-4d22-d905-edf27cab30c4"
      },
      "outputs": [
        {
          "output_type": "execute_result",
          "data": {
            "text/plain": [
              "0.004326    1\n",
              "0.003372    1\n",
              "0.001081    1\n",
              "0.009392    1\n",
              "0.000430    1\n",
              "           ..\n",
              "0.006225    1\n",
              "0.003745    1\n",
              "0.007418    1\n",
              "0.000386    1\n",
              "0.008034    1\n",
              "Name: D_109, Length: 299893, dtype: int64"
            ]
          },
          "metadata": {},
          "execution_count": 126
        }
      ],
      "source": [
        "train_df_D['D_109'].value_counts()"
      ]
    },
    {
      "cell_type": "code",
      "execution_count": 127,
      "metadata": {
        "colab": {
          "base_uri": "https://localhost:8080/"
        },
        "id": "SOvbV43TL0ve",
        "outputId": "4a938bfb-cee4-4e0c-8aed-196e86cb24a0"
      },
      "outputs": [
        {
          "output_type": "execute_result",
          "data": {
            "text/plain": [
              "0.006671    1\n",
              "0.002737    1\n",
              "0.000102    1\n",
              "0.000209    1\n",
              "0.005333    1\n",
              "           ..\n",
              "0.004346    1\n",
              "0.005335    1\n",
              "0.009360    1\n",
              "0.004858    1\n",
              "0.008778    1\n",
              "Name: D_137, Length: 10517, dtype: int64"
            ]
          },
          "metadata": {},
          "execution_count": 127
        }
      ],
      "source": [
        "train_df_D['D_137'].value_counts()"
      ]
    },
    {
      "cell_type": "code",
      "execution_count": 128,
      "metadata": {
        "colab": {
          "base_uri": "https://localhost:8080/"
        },
        "id": "7McESwsPL5It",
        "outputId": "a7379864-7185-4431-b4e8-29caefc668a2"
      },
      "outputs": [
        {
          "output_type": "execute_result",
          "data": {
            "text/plain": [
              "289483"
            ]
          },
          "metadata": {},
          "execution_count": 128
        }
      ],
      "source": [
        "train_df_D['D_137'].isna().sum()"
      ]
    },
    {
      "cell_type": "markdown",
      "metadata": {
        "id": "Hb2weoOtMAtH"
      },
      "source": [
        "* We will be removing **D_87** and **D_137** from our dataframe."
      ]
    },
    {
      "cell_type": "code",
      "execution_count": 129,
      "metadata": {
        "colab": {
          "base_uri": "https://localhost:8080/"
        },
        "id": "WuOF2IJoMSTr",
        "outputId": "eb11005d-1ffe-4646-9b30-4dc3b837b1a8"
      },
      "outputs": [
        {
          "output_type": "execute_result",
          "data": {
            "text/plain": [
              "(300000, 85)"
            ]
          },
          "metadata": {},
          "execution_count": 129
        }
      ],
      "source": [
        "train_df_D = train_df_D.drop(['D_87','D_137'], axis=1)\n",
        "train_df_D.shape"
      ]
    },
    {
      "cell_type": "code",
      "execution_count": 130,
      "metadata": {
        "colab": {
          "base_uri": "https://localhost:8080/"
        },
        "id": "WRfdDg_wcBoC",
        "outputId": "7558787c-4a58-4f19-af75-5297cf104d62"
      },
      "outputs": [
        {
          "output_type": "execute_result",
          "data": {
            "text/plain": [
              "0    0\n",
              "1    0\n",
              "2    0\n",
              "3    0\n",
              "4    0\n",
              "Name: target, dtype: int64"
            ]
          },
          "metadata": {},
          "execution_count": 130
        }
      ],
      "source": [
        "y_train = pd.read_csv(\"/content/drive/MyDrive/AMEX_default_prediction_kaggle/labels_300000\")['target']\n",
        "y_train.head()"
      ]
    },
    {
      "cell_type": "code",
      "execution_count": 131,
      "metadata": {
        "id": "_tpERn_qdk77"
      },
      "outputs": [],
      "source": [
        "for ele in train_df_D.columns :\n",
        "  if train_df_D[ele].isna().sum() != 0:\n",
        "    mean_value = train_df_D[ele].mean()\n",
        "    train_df_D[ele].fillna(mean_value, inplace=True)"
      ]
    },
    {
      "cell_type": "code",
      "execution_count": 132,
      "metadata": {
        "id": "bEvFYET7g5DP"
      },
      "outputs": [],
      "source": [
        "train_df_D_copy = train_df_D.copy()\n",
        "\n",
        "train_df_D_copy = abs(train_df_D)"
      ]
    },
    {
      "cell_type": "code",
      "execution_count": 133,
      "metadata": {
        "colab": {
          "base_uri": "https://localhost:8080/"
        },
        "id": "BFRCfcSUblx-",
        "outputId": "37dc56fc-8720-4139-a35b-06b626970649"
      },
      "outputs": [
        {
          "output_type": "execute_result",
          "data": {
            "text/plain": [
              "(300000, 40)"
            ]
          },
          "metadata": {},
          "execution_count": 133
        }
      ],
      "source": [
        "from sklearn.feature_selection import SelectKBest, chi2\n",
        "X_new = SelectKBest(chi2, k=40).fit_transform(train_df_D_copy, y_train)\n",
        "X_new.shape"
      ]
    },
    {
      "cell_type": "code",
      "execution_count": 134,
      "metadata": {
        "colab": {
          "base_uri": "https://localhost:8080/"
        },
        "id": "kvXFTnK6dads",
        "outputId": "ce9c1564-56e3-4269-d96d-6e2d4017535a"
      },
      "outputs": [
        {
          "output_type": "execute_result",
          "data": {
            "text/plain": [
              "array([[8.77113199e-03, 1.81156958e-01, 7.08906305e-01, 1.48697956e-01,\n",
              "        1.33585579e+00, 7.68139170e-02, 3.54596012e-01, 1.52025236e-01,\n",
              "        1.99617006e-01, 3.08233267e-01, 7.12616266e-03, 9.01329907e-03,\n",
              "        1.19403206e-01, 2.54088603e-01, 1.57573621e-03, 4.06052351e-03,\n",
              "        3.53197991e-03, 1.50367301e+00, 1.00613348e+00, 3.56854091e-03,\n",
              "        8.87059291e-03, 4.95002943e-03, 7.66688198e-01, 6.70040782e-01,\n",
              "        4.32552955e-03, 7.87113929e-03, 2.38250214e-01, 2.32119946e-01,\n",
              "        2.36265664e-01, 4.34344808e-01, 6.86516479e-01, 8.73971922e-03,\n",
              "        1.00331900e+00, 1.00007996e+00, 2.05168612e-03, 2.42703780e-03,\n",
              "        3.81782021e-03, 5.69239561e-04, 6.09837070e-04, 2.67421405e-03],\n",
              "       [7.98359495e-04, 1.81156958e-01, 7.12794725e-01, 1.49722538e-01,\n",
              "        1.33979395e+00, 7.68139170e-02, 3.26756976e-01, 1.56200908e-01,\n",
              "        1.51386994e-01, 2.65025967e-01, 2.41323923e-03, 7.84238463e-03,\n",
              "        1.40610722e-01, 2.54088603e-01, 9.89583507e-03, 1.26509447e-04,\n",
              "        7.77270078e-03, 1.50357729e+00, 1.00579126e+00, 5.70901221e-04,\n",
              "        3.90776431e-04, 3.18008436e-03, 7.86006925e-01, 6.68647031e-01,\n",
              "        8.70721014e-03, 3.44440372e-03, 2.47217325e-01, 2.43531650e-01,\n",
              "        2.41884779e-01, 4.30500678e-01, 6.86414207e-01, 7.55018662e-04,\n",
              "        1.00839436e+00, 1.00834409e+00, 1.03356378e-03, 3.95421271e-03,\n",
              "        5.03163396e-03, 9.57648103e-03, 5.49204514e-03, 9.21682750e-03],\n",
              "       [7.59761394e-03, 1.81156958e-01, 7.20883591e-01, 1.51955349e-01,\n",
              "        1.33717892e+00, 7.68139170e-02, 3.04123991e-01, 1.53794553e-01,\n",
              "        3.05883241e-01, 2.12165419e-01, 1.87804651e-03, 6.02527145e-03,\n",
              "        7.58679917e-02, 2.54088603e-01, 9.62857474e-03, 9.54254488e-04,\n",
              "        8.81122354e-03, 1.50335905e+00, 1.00580093e+00, 7.42544775e-03,\n",
              "        9.23360031e-03, 5.43349532e-03, 8.06840052e-01, 6.70900507e-01,\n",
              "        4.09194093e-03, 3.26918134e-03, 2.39866865e-01, 2.40767955e-01,\n",
              "        2.39709951e-01, 4.34408505e-01, 6.90100525e-01, 9.61738973e-03,\n",
              "        1.00930657e+00, 1.00687811e+00, 5.68122103e-03, 3.26899067e-03,\n",
              "        4.26917926e-04, 3.42907965e-03, 6.98580161e-03, 2.60327090e-03],\n",
              "       [6.85177238e-04, 1.81156958e-01, 7.23996974e-01, 1.51219413e-01,\n",
              "        1.33990892e+00, 7.68139170e-02, 2.75055400e-01, 1.55772443e-01,\n",
              "        2.73552802e-01, 2.04299782e-01, 5.89856066e-03, 5.27065978e-03,\n",
              "        1.50208521e-01, 2.54088603e-01, 8.56773168e-03, 5.66532536e-03,\n",
              "        4.65197842e-03, 1.50370144e+00, 1.00703585e+00, 6.64469687e-04,\n",
              "        3.20016908e-03, 6.29101446e-05, 8.08213660e-01, 6.72619634e-01,\n",
              "        9.70346939e-03, 5.32086129e-05, 2.40909906e-01, 2.39399641e-01,\n",
              "        2.40726987e-01, 4.36902597e-01, 6.87779395e-01, 4.64897664e-03,\n",
              "        1.00167067e+00, 1.00757257e+00, 7.10808004e-03, 6.11694272e-03,\n",
              "        3.19997745e-03, 8.41922197e-03, 6.52730440e-03, 9.59990771e-03],\n",
              "       [4.65264060e-03, 1.81156958e-01, 7.20619083e-01, 1.54025679e-01,\n",
              "        1.34173541e+00, 7.68139170e-02, 2.31109953e-01, 1.54914030e-01,\n",
              "        2.33102604e-01, 1.75655058e-01, 9.47912973e-03, 1.52084086e-04,\n",
              "        9.64408087e-02, 2.54088603e-01, 3.28907641e-03, 4.46450966e-03,\n",
              "        1.14095086e-03, 1.50990534e+00, 1.00291468e+00, 3.07859507e-03,\n",
              "        3.84451316e-03, 5.34921584e-04, 8.22281118e-01, 6.73869456e-01,\n",
              "        9.12025533e-03, 8.72381080e-03, 2.47939209e-01, 2.44199268e-01,\n",
              "        2.42325421e-01, 4.37432570e-01, 6.88774066e-01, 9.73447773e-05,\n",
              "        1.00988571e+00, 1.00813233e+00, 9.68048388e-03, 3.67140743e-03,\n",
              "        8.88892121e-03, 1.67029609e-03, 8.12632867e-03, 9.82685533e-03],\n",
              "       [9.85663277e-03, 1.81156958e-01, 7.21370757e-01, 1.49505539e-01,\n",
              "        1.00057954e+00, 7.68139170e-02, 1.87969747e-01, 1.53647100e-01,\n",
              "        3.57346663e-01, 1.21276015e-01, 2.22826668e-03, 2.78770273e-03,\n",
              "        9.37989338e-02, 2.54088603e-01, 2.40679327e-03, 7.40443283e-03,\n",
              "        4.82863596e-03, 1.00520749e+00, 1.00799455e+00, 5.28063994e-03,\n",
              "        6.82962994e-03, 9.85876815e-03, 8.43321464e-01, 6.73100346e-01,\n",
              "        7.93803939e-03, 9.55225251e-03, 2.38260248e-01, 2.44246986e-01,\n",
              "        2.42621927e-01, 4.29885982e-01, 6.82296778e-01, 9.30474833e-03,\n",
              "        1.00448146e+00, 1.00848545e+00, 5.15062700e-03, 1.92426261e-03,\n",
              "        4.52921577e-03, 6.73555390e-04, 2.22270143e-03, 2.88358188e-03],\n",
              "       [6.60341114e-03, 1.81156958e-01, 7.21724800e-01, 1.46442263e-01,\n",
              "        1.00166889e+00, 7.68139170e-02, 1.48284265e-01, 1.59438171e-01,\n",
              "        1.00680167e+00, 4.33913386e-01, 1.23402257e-03, 4.62264163e-03,\n",
              "        1.37101661e-01, 2.54088603e-01, 6.49960548e-03, 2.83960437e-03,\n",
              "        9.84696657e-03, 1.00843301e+00, 1.00846905e+00, 6.63912969e-03,\n",
              "        5.05518570e-03, 2.65365436e-03, 8.63517517e-01, 6.74932436e-01,\n",
              "        9.57279767e-03, 7.41571086e-03, 2.44206422e-01, 2.45034347e-01,\n",
              "        2.44246256e-01, 4.35914307e-01, 6.82367734e-01, 6.34665742e-03,\n",
              "        1.00235250e+00, 1.00265758e+00, 2.16901837e-03, 1.33606930e-03,\n",
              "        9.38669807e-03, 7.72702848e-03, 7.66088959e-03, 2.22466776e-03],\n",
              "       [9.52660972e-03, 1.81156958e-01, 7.23292724e-01, 1.47615304e-01,\n",
              "        6.71205140e-01, 7.68139170e-02, 1.64949729e-01, 1.61966469e-01,\n",
              "        1.00052354e+00, 4.33913386e-01, 3.45148097e-03, 7.81894155e-04,\n",
              "        1.45203837e-01, 2.54088603e-01, 5.84326186e-03, 5.92237259e-03,\n",
              "        7.06932652e-03, 1.00216925e+00, 3.93639554e-03, 3.43303864e-03,\n",
              "        7.24835827e-03, 7.85617885e-03, 8.66999687e-01, 6.68131004e-01,\n",
              "        7.26081763e-03, 2.01852891e-03, 2.47284468e-01, 2.39660264e-01,\n",
              "        2.46852406e-01, 4.31740527e-01, 6.87171422e-01, 9.09877786e-03,\n",
              "        1.00582039e+00, 1.00126246e+00, 7.82311844e-03, 2.39677167e-03,\n",
              "        5.55339582e-03, 1.83145263e-03, 9.61608501e-03, 7.38513885e-03],\n",
              "       [2.51865768e-03, 1.81156958e-01, 7.30917796e-01, 1.52756354e-01,\n",
              "        6.69800546e-01, 7.68139170e-02, 1.60043504e-01, 1.58126759e-01,\n",
              "        1.00942364e+00, 1.77125209e-01, 3.10089332e-05, 4.43594498e-03,\n",
              "        2.86014293e-01, 2.54088603e-01, 3.62427542e-05, 2.07638879e-01,\n",
              "        4.60416107e-03, 1.00366272e+00, 6.87279403e-03, 5.79504520e-03,\n",
              "        8.47770267e-03, 3.66799255e-03, 8.82474710e-01, 6.74803080e-01,\n",
              "        1.45978627e-03, 9.72364542e-03, 2.49872096e-01, 2.41341471e-01,\n",
              "        2.44347983e-01, 4.33685281e-01, 6.87714780e-01, 2.68656542e-04,\n",
              "        1.00992520e+00, 1.00701284e+00, 6.65186799e-03, 9.74236553e-03,\n",
              "        7.94481517e-03, 8.72154360e-03, 4.36938079e-03, 9.95343010e-04],\n",
              "       [4.62567914e-03, 1.81156958e-01, 7.35001154e-01, 1.54326224e-01,\n",
              "        6.68378773e-01, 7.68139170e-02, 1.86765825e-01, 1.61247429e-01,\n",
              "        1.00853371e+00, 1.81290558e-01, 1.15705681e-03, 5.50016349e-03,\n",
              "        4.30953800e-01, 2.54088603e-01, 8.34109255e-03, 2.05174463e-01,\n",
              "        3.88665263e-03, 1.00816110e+00, 1.55519537e-03, 9.44208072e-03,\n",
              "        3.82682129e-03, 1.14584764e-04, 9.06699037e-01, 6.73030461e-01,\n",
              "        5.98053432e-03, 3.36638206e-03, 2.50612097e-01, 2.51557428e-01,\n",
              "        2.47126972e-01, 4.30119310e-01, 6.83206318e-01, 5.51308748e-03,\n",
              "        1.00249864e+00, 1.00544465e+00, 4.97629536e-03, 3.61079053e-03,\n",
              "        7.26603996e-03, 8.76343203e-03, 4.75250679e-03, 9.06830688e-03]])"
            ]
          },
          "metadata": {},
          "execution_count": 134
        }
      ],
      "source": [
        "X_new[:10]"
      ]
    },
    {
      "cell_type": "markdown",
      "metadata": {
        "id": "HD6Pcwg0jwwd"
      },
      "source": [
        "## Forward Selection - Wrapper Method\n",
        "\n",
        "* In wrapper methods, the feature selection process is based on a specific machine learning algorithm that we are trying to fit on a given dataset.\n",
        "\n",
        "* It follows a greedy search approach by evaluating all the possible combinations of features against the evaluation criterion. The evaluation criterion is simply the performance measure which depends on the type of problem, for e.g. For regression evaluation criterion can be p-values, R-squared, Adjusted R-squared, similarly for classification the evaluation criterion can be accuracy, precision, recall, f1-score, etc. Finally, it selects the combination of features that gives the optimal results for the specified machine learning algorithm.\n",
        "\n",
        "* In forward selection, we start with a null model and then start fitting the model with each individual feature one at a time and select the feature with the minimum p-value. Now fit a model with two features by trying combinations of the earlier selected feature with all other remaining features. Again select the feature with the minimum p-value. Now fit a model with three features by trying combinations of two previously selected features with other remaining features. Repeat this process until we have a set of selected features with a p-value of individual features less than the significance level."
      ]
    },
    {
      "cell_type": "code",
      "execution_count": 135,
      "metadata": {
        "id": "ojtjgHVuI3qz"
      },
      "outputs": [],
      "source": [
        "from sklearn.model_selection import train_test_split\n",
        "from sklearn.ensemble import RandomForestClassifier\n",
        "from sklearn.metrics import roc_auc_score\n"
      ]
    },
    {
      "cell_type": "code",
      "execution_count": 136,
      "metadata": {
        "colab": {
          "base_uri": "https://localhost:8080/"
        },
        "id": "0Iu1GGFiJPOS",
        "outputId": "20f4e701-a22e-41e9-f568-1fa5b1f30110"
      },
      "outputs": [
        {
          "output_type": "execute_result",
          "data": {
            "text/plain": [
              "(300000, 85)"
            ]
          },
          "metadata": {},
          "execution_count": 136
        }
      ],
      "source": [
        "train_df_D.shape"
      ]
    },
    {
      "cell_type": "code",
      "execution_count": 137,
      "metadata": {
        "colab": {
          "base_uri": "https://localhost:8080/"
        },
        "id": "3NEHLMGMJZRZ",
        "outputId": "f2250667-8e8e-460f-dd9f-053c13a3add8"
      },
      "outputs": [
        {
          "output_type": "execute_result",
          "data": {
            "text/plain": [
              "(300000,)"
            ]
          },
          "metadata": {},
          "execution_count": 137
        }
      ],
      "source": [
        "y_train.shape"
      ]
    },
    {
      "cell_type": "code",
      "execution_count": 138,
      "metadata": {
        "colab": {
          "base_uri": "https://localhost:8080/"
        },
        "id": "XKITIfCiJdFn",
        "outputId": "de78c768-6c04-499b-f137-265a3d1ebce5"
      },
      "outputs": [
        {
          "output_type": "execute_result",
          "data": {
            "text/plain": [
              "(300000, 85)"
            ]
          },
          "metadata": {},
          "execution_count": 138
        }
      ],
      "source": [
        "numerics = ['int16','int32','int64','float16','float32','float64']\n",
        "numerical_vars = list(train_df_D.select_dtypes(include=numerics).columns)\n",
        "X_train_forward = train_df_D[numerical_vars]\n",
        "X_train_forward.shape"
      ]
    },
    {
      "cell_type": "code",
      "execution_count": 139,
      "metadata": {
        "colab": {
          "base_uri": "https://localhost:8080/"
        },
        "id": "fJ_pbMYLKZnT",
        "outputId": "9966b3ea-96b9-4fd5-bdc3-333e890ff7fb"
      },
      "outputs": [
        {
          "output_type": "execute_result",
          "data": {
            "text/plain": [
              "((225000, 85), (75000, 85), (225000,), (75000,))"
            ]
          },
          "metadata": {},
          "execution_count": 139
        }
      ],
      "source": [
        "X_train_forward, X_test_forward, y_train_forward, y_test_forward = train_test_split(train_df_D, y_train, random_state=42)\n",
        "X_train_forward.shape, X_test_forward.shape, y_train_forward.shape, y_test_forward.shape"
      ]
    },
    {
      "cell_type": "code",
      "execution_count": 140,
      "metadata": {
        "colab": {
          "base_uri": "https://localhost:8080/"
        },
        "id": "Qc1HqwjVK3VY",
        "outputId": "4c5fb8cc-43f5-4137-c29b-66933e7c1efb"
      },
      "outputs": [
        {
          "output_type": "stream",
          "name": "stdout",
          "text": [
            "correlated features:  12\n"
          ]
        }
      ],
      "source": [
        "# find and remove correlated features\n",
        "def correlation(dataset, threshold):\n",
        "    col_corr = set()  # Set of all the names of correlated columns\n",
        "    corr_matrix = dataset.corr()\n",
        "    for i in range(len(corr_matrix.columns)):\n",
        "        for j in range(i):\n",
        "            if abs(corr_matrix.iloc[i, j]) > threshold: # we are interested in absolute coeff value\n",
        "                colname = corr_matrix.columns[i]  # getting the name of column\n",
        "                col_corr.add(colname)\n",
        "    return col_corr\n",
        "\n",
        "corr_features = correlation(X_train_forward, 0.8)\n",
        "print('correlated features: ', len(set(corr_features)) )"
      ]
    },
    {
      "cell_type": "code",
      "execution_count": 141,
      "metadata": {
        "colab": {
          "base_uri": "https://localhost:8080/"
        },
        "id": "harTwh_PLS_q",
        "outputId": "d840fed3-7bb5-4abe-a873-01f320000638"
      },
      "outputs": [
        {
          "output_type": "execute_result",
          "data": {
            "text/plain": [
              "{'D_104',\n",
              " 'D_107',\n",
              " 'D_118',\n",
              " 'D_119',\n",
              " 'D_131',\n",
              " 'D_141',\n",
              " 'D_143',\n",
              " 'D_55',\n",
              " 'D_61',\n",
              " 'D_74',\n",
              " 'D_75',\n",
              " 'D_77'}"
            ]
          },
          "metadata": {},
          "execution_count": 141
        }
      ],
      "source": [
        "corr_features"
      ]
    },
    {
      "cell_type": "code",
      "execution_count": 33,
      "metadata": {
        "id": "WxEBQW9XLd5Z"
      },
      "outputs": [],
      "source": [
        "# removed correlated  features\n",
        "X_train_forward.drop(labels=corr_features, axis=1, inplace=True)\n",
        "X_test_forward.drop(labels=corr_features, axis=1, inplace=True)"
      ]
    },
    {
      "cell_type": "code",
      "execution_count": 34,
      "metadata": {
        "colab": {
          "base_uri": "https://localhost:8080/"
        },
        "id": "LTuGCPvsU0xt",
        "outputId": "8f6b8991-b969-4d10-c6b4-f373487e4f4d"
      },
      "outputs": [
        {
          "output_type": "execute_result",
          "data": {
            "text/plain": [
              "((225000, 73), (75000, 73))"
            ]
          },
          "metadata": {},
          "execution_count": 34
        }
      ],
      "source": [
        "X_train_forward.shape, X_test_forward.shape"
      ]
    },
    {
      "cell_type": "code",
      "execution_count": 35,
      "metadata": {
        "colab": {
          "base_uri": "https://localhost:8080/"
        },
        "id": "C8bjxjv9U69o",
        "outputId": "8b2b49a4-006d-41b0-87eb-4816a99957ff"
      },
      "outputs": [
        {
          "output_type": "stream",
          "name": "stdout",
          "text": [
            "Looking in indexes: https://pypi.org/simple, https://us-python.pkg.dev/colab-wheels/public/simple/\n",
            "Requirement already satisfied: mlxtend in /usr/local/lib/python3.7/dist-packages (0.14.0)\n",
            "Requirement already satisfied: scipy>=0.17 in /usr/local/lib/python3.7/dist-packages (from mlxtend) (1.7.3)\n",
            "Requirement already satisfied: scikit-learn>=0.18 in /usr/local/lib/python3.7/dist-packages (from mlxtend) (1.0.2)\n",
            "Requirement already satisfied: numpy>=1.10.4 in /usr/local/lib/python3.7/dist-packages (from mlxtend) (1.21.6)\n",
            "Requirement already satisfied: matplotlib>=1.5.1 in /usr/local/lib/python3.7/dist-packages (from mlxtend) (3.2.2)\n",
            "Requirement already satisfied: setuptools in /usr/local/lib/python3.7/dist-packages (from mlxtend) (57.4.0)\n",
            "Requirement already satisfied: pandas>=0.17.1 in /usr/local/lib/python3.7/dist-packages (from mlxtend) (1.3.5)\n",
            "Requirement already satisfied: pyparsing!=2.0.4,!=2.1.2,!=2.1.6,>=2.0.1 in /usr/local/lib/python3.7/dist-packages (from matplotlib>=1.5.1->mlxtend) (3.0.9)\n",
            "Requirement already satisfied: python-dateutil>=2.1 in /usr/local/lib/python3.7/dist-packages (from matplotlib>=1.5.1->mlxtend) (2.8.2)\n",
            "Requirement already satisfied: cycler>=0.10 in /usr/local/lib/python3.7/dist-packages (from matplotlib>=1.5.1->mlxtend) (0.11.0)\n",
            "Requirement already satisfied: kiwisolver>=1.0.1 in /usr/local/lib/python3.7/dist-packages (from matplotlib>=1.5.1->mlxtend) (1.4.3)\n",
            "Requirement already satisfied: typing-extensions in /usr/local/lib/python3.7/dist-packages (from kiwisolver>=1.0.1->matplotlib>=1.5.1->mlxtend) (4.1.1)\n",
            "Requirement already satisfied: pytz>=2017.3 in /usr/local/lib/python3.7/dist-packages (from pandas>=0.17.1->mlxtend) (2022.1)\n",
            "Requirement already satisfied: six>=1.5 in /usr/local/lib/python3.7/dist-packages (from python-dateutil>=2.1->matplotlib>=1.5.1->mlxtend) (1.15.0)\n",
            "Requirement already satisfied: joblib>=0.11 in /usr/local/lib/python3.7/dist-packages (from scikit-learn>=0.18->mlxtend) (1.1.0)\n",
            "Requirement already satisfied: threadpoolctl>=2.0.0 in /usr/local/lib/python3.7/dist-packages (from scikit-learn>=0.18->mlxtend) (3.1.0)\n"
          ]
        }
      ],
      "source": [
        "!pip install mlxtend\n"
      ]
    },
    {
      "cell_type": "code",
      "execution_count": 36,
      "metadata": {
        "id": "XKjJkNdMVWlu"
      },
      "outputs": [],
      "source": [
        "import joblib\n",
        "import sys\n",
        "sys.modules['sklearn.externals.joblib'] = joblib\n",
        "\n",
        "from mlxtend.feature_selection import SequentialFeatureSelector as SFS"
      ]
    },
    {
      "cell_type": "code",
      "execution_count": 37,
      "metadata": {
        "colab": {
          "base_uri": "https://localhost:8080/"
        },
        "id": "Ww_pLjyogFaR",
        "outputId": "8ff47884-1348-473b-d88a-02c501ce734c"
      },
      "outputs": [
        {
          "output_type": "execute_result",
          "data": {
            "text/plain": [
              "0    168265\n",
              "1     56735\n",
              "Name: target, dtype: int64"
            ]
          },
          "metadata": {},
          "execution_count": 37
        }
      ],
      "source": [
        "pd.Series(y_train_forward).value_counts()"
      ]
    },
    {
      "cell_type": "code",
      "execution_count": 38,
      "metadata": {
        "id": "ZJPgDwsen67M"
      },
      "outputs": [],
      "source": [
        "\n",
        "y_train_forward = y_train_forward.astype('int64')\n",
        "\n"
      ]
    },
    {
      "cell_type": "code",
      "source": [
        "X_train_forward_subset = X_train_forward[3000:13000]\n",
        "y_train_forward_subset = y_train_forward[3000:13000]"
      ],
      "metadata": {
        "id": "xaaV867y6nuU"
      },
      "execution_count": 39,
      "outputs": []
    },
    {
      "cell_type": "code",
      "execution_count": 40,
      "metadata": {
        "colab": {
          "base_uri": "https://localhost:8080/"
        },
        "id": "t0EDAnaMaeNn",
        "outputId": "893916f6-81e9-4a05-df99-19c0f8de2400"
      },
      "outputs": [
        {
          "output_type": "stream",
          "name": "stderr",
          "text": [
            "[Parallel(n_jobs=1)]: Using backend SequentialBackend with 1 concurrent workers.\n",
            "[Parallel(n_jobs=1)]: Done   1 out of   1 | elapsed:    4.1s remaining:    0.0s\n",
            "/usr/local/lib/python3.7/dist-packages/sklearn/metrics/_classification.py:1318: UndefinedMetricWarning: Precision is ill-defined and being set to 0.0 due to no predicted samples. Use `zero_division` parameter to control this behavior.\n",
            "  _warn_prf(average, modifier, msg_start, len(result))\n",
            "[Parallel(n_jobs=1)]: Done  73 out of  73 | elapsed:  4.3min finished\n",
            "\n",
            "[2022-07-18 06:14:36] Features: 1/10 -- score: 0.6944444444444445[Parallel(n_jobs=1)]: Using backend SequentialBackend with 1 concurrent workers.\n",
            "[Parallel(n_jobs=1)]: Done   1 out of   1 | elapsed:    4.2s remaining:    0.0s\n",
            "[Parallel(n_jobs=1)]: Done  72 out of  72 | elapsed:  4.3min finished\n",
            "\n",
            "[2022-07-18 06:18:52] Features: 2/10 -- score: 0.5476190476190476[Parallel(n_jobs=1)]: Using backend SequentialBackend with 1 concurrent workers.\n",
            "[Parallel(n_jobs=1)]: Done   1 out of   1 | elapsed:    4.2s remaining:    0.0s\n",
            "[Parallel(n_jobs=1)]: Done  71 out of  71 | elapsed:  4.3min finished\n",
            "\n",
            "[2022-07-18 06:23:10] Features: 3/10 -- score: 0.31803751803751806[Parallel(n_jobs=1)]: Using backend SequentialBackend with 1 concurrent workers.\n",
            "[Parallel(n_jobs=1)]: Done   1 out of   1 | elapsed:    4.0s remaining:    0.0s\n",
            "[Parallel(n_jobs=1)]: Done  70 out of  70 | elapsed:  4.2min finished\n",
            "\n",
            "[2022-07-18 06:27:24] Features: 4/10 -- score: 0.3555387967152673[Parallel(n_jobs=1)]: Using backend SequentialBackend with 1 concurrent workers.\n",
            "[Parallel(n_jobs=1)]: Done   1 out of   1 | elapsed:    4.1s remaining:    0.0s\n",
            "[Parallel(n_jobs=1)]: Done  69 out of  69 | elapsed:  4.3min finished\n",
            "\n",
            "[2022-07-18 06:31:40] Features: 5/10 -- score: 0.3306923222033578[Parallel(n_jobs=1)]: Using backend SequentialBackend with 1 concurrent workers.\n",
            "[Parallel(n_jobs=1)]: Done   1 out of   1 | elapsed:    4.1s remaining:    0.0s\n",
            "[Parallel(n_jobs=1)]: Done  68 out of  68 | elapsed:  4.3min finished\n",
            "\n",
            "[2022-07-18 06:35:58] Features: 6/10 -- score: 0.3291997354497354[Parallel(n_jobs=1)]: Using backend SequentialBackend with 1 concurrent workers.\n",
            "[Parallel(n_jobs=1)]: Done   1 out of   1 | elapsed:    4.1s remaining:    0.0s\n",
            "[Parallel(n_jobs=1)]: Done  67 out of  67 | elapsed:  4.3min finished\n",
            "\n",
            "[2022-07-18 06:40:16] Features: 7/10 -- score: 0.3192960588793922[Parallel(n_jobs=1)]: Using backend SequentialBackend with 1 concurrent workers.\n",
            "[Parallel(n_jobs=1)]: Done   1 out of   1 | elapsed:    4.1s remaining:    0.0s\n",
            "[Parallel(n_jobs=1)]: Done  66 out of  66 | elapsed:  4.3min finished\n",
            "\n",
            "[2022-07-18 06:44:33] Features: 8/10 -- score: 0.3041797046687527[Parallel(n_jobs=1)]: Using backend SequentialBackend with 1 concurrent workers.\n",
            "[Parallel(n_jobs=1)]: Done   1 out of   1 | elapsed:    4.0s remaining:    0.0s\n",
            "[Parallel(n_jobs=1)]: Done  65 out of  65 | elapsed:  4.3min finished\n",
            "\n",
            "[2022-07-18 06:48:52] Features: 9/10 -- score: 0.2970832992516221[Parallel(n_jobs=1)]: Using backend SequentialBackend with 1 concurrent workers.\n",
            "[Parallel(n_jobs=1)]: Done   1 out of   1 | elapsed:    4.1s remaining:    0.0s\n",
            "[Parallel(n_jobs=1)]: Done  64 out of  64 | elapsed:  4.3min finished\n",
            "\n",
            "[2022-07-18 06:53:07] Features: 10/10 -- score: 0.2957180755631353"
          ]
        }
      ],
      "source": [
        "sfs1 = SFS(RandomForestClassifier(),\n",
        "           k_features = 10,\n",
        "           forward = True,\n",
        "           floating = False,\n",
        "           verbose = 2,\n",
        "           scoring = 'precision',\n",
        "           cv = 3)\n",
        "\n",
        "sfs1 = sfs1.fit(np.array(X_train_forward_subset), y_train_forward_subset)"
      ]
    },
    {
      "cell_type": "code",
      "execution_count": 42,
      "metadata": {
        "id": "TVJUq_lqnJcI",
        "colab": {
          "base_uri": "https://localhost:8080/"
        },
        "outputId": "fddd6829-cabc-4b5b-9e1b-89ed7f7bf77d"
      },
      "outputs": [
        {
          "output_type": "execute_result",
          "data": {
            "text/plain": [
              "[9, 25, 31, 35, 46, 48, 49, 62, 64, 67]"
            ]
          },
          "metadata": {},
          "execution_count": 42
        }
      ],
      "source": [
        "list(sfs1.k_feature_idx_)"
      ]
    },
    {
      "cell_type": "code",
      "source": [
        "X_train_forward_subset.columns[list(sfs1.k_feature_idx_)]"
      ],
      "metadata": {
        "colab": {
          "base_uri": "https://localhost:8080/"
        },
        "id": "WvKFazo4Is9Q",
        "outputId": "b8d50022-b507-4b28-fe89-dbe66a5b3bb4"
      },
      "execution_count": 43,
      "outputs": [
        {
          "output_type": "execute_result",
          "data": {
            "text/plain": [
              "Index(['D_49', 'D_73', 'D_82', 'D_88', 'D_108', 'D_110', 'D_111', 'D_132',\n",
              "       'D_134', 'D_138'],\n",
              "      dtype='object')"
            ]
          },
          "metadata": {},
          "execution_count": 43
        }
      ]
    },
    {
      "cell_type": "markdown",
      "source": [
        "### Try Forward Selection again with some changes in data and change K value."
      ],
      "metadata": {
        "id": "RvVBOUY7I64h"
      }
    },
    {
      "cell_type": "code",
      "source": [
        "X_train_forward['target'] = y_train_forward"
      ],
      "metadata": {
        "id": "Z7x3WD4CKXqp"
      },
      "execution_count": 44,
      "outputs": []
    },
    {
      "cell_type": "code",
      "source": [
        "X_train_forward.shape"
      ],
      "metadata": {
        "colab": {
          "base_uri": "https://localhost:8080/"
        },
        "id": "1FBYNossLngy",
        "outputId": "b4b631ef-783a-43be-da89-ad42f93a8e8d"
      },
      "execution_count": 45,
      "outputs": [
        {
          "output_type": "execute_result",
          "data": {
            "text/plain": [
              "(225000, 74)"
            ]
          },
          "metadata": {},
          "execution_count": 45
        }
      ]
    },
    {
      "cell_type": "code",
      "source": [
        "X_train_forward_part2 = X_train_forward.sample(n=15000)"
      ],
      "metadata": {
        "id": "lI5eFttDLpyj"
      },
      "execution_count": 46,
      "outputs": []
    },
    {
      "cell_type": "code",
      "source": [
        "y_train_forward_part2 = X_train_forward_part2['target']\n",
        "X_train_forward_part2 = X_train_forward_part2.drop('target', axis=1)"
      ],
      "metadata": {
        "id": "HsVZM-TWMA00"
      },
      "execution_count": 47,
      "outputs": []
    },
    {
      "cell_type": "code",
      "source": [
        "sfs1 = SFS(RandomForestClassifier(),\n",
        "           k_features = 20,\n",
        "           forward = True,\n",
        "           floating = False,\n",
        "           verbose = 2,\n",
        "           scoring = 'precision',\n",
        "           cv = 3)\n",
        "\n",
        "sfs1 = sfs1.fit(np.array(X_train_forward_part2), y_train_forward_part2)"
      ],
      "metadata": {
        "colab": {
          "base_uri": "https://localhost:8080/"
        },
        "id": "aoykysCdMUd3",
        "outputId": "6dd8cae5-6fd1-4c9c-ec43-25fbf5c637f2"
      },
      "execution_count": 48,
      "outputs": [
        {
          "output_type": "stream",
          "name": "stderr",
          "text": [
            "[Parallel(n_jobs=1)]: Using backend SequentialBackend with 1 concurrent workers.\n",
            "[Parallel(n_jobs=1)]: Done   1 out of   1 | elapsed:    7.0s remaining:    0.0s\n",
            "/usr/local/lib/python3.7/dist-packages/sklearn/metrics/_classification.py:1318: UndefinedMetricWarning: Precision is ill-defined and being set to 0.0 due to no predicted samples. Use `zero_division` parameter to control this behavior.\n",
            "  _warn_prf(average, modifier, msg_start, len(result))\n",
            "[Parallel(n_jobs=1)]: Done  73 out of  73 | elapsed:  7.1min finished\n",
            "\n",
            "[2022-07-18 07:31:56] Features: 1/20 -- score: 0.6071428571428571[Parallel(n_jobs=1)]: Using backend SequentialBackend with 1 concurrent workers.\n",
            "[Parallel(n_jobs=1)]: Done   1 out of   1 | elapsed:    7.1s remaining:    0.0s\n",
            "[Parallel(n_jobs=1)]: Done  72 out of  72 | elapsed:  7.1min finished\n",
            "\n",
            "[2022-07-18 07:39:02] Features: 2/20 -- score: 0.6185185185185186[Parallel(n_jobs=1)]: Using backend SequentialBackend with 1 concurrent workers.\n",
            "[Parallel(n_jobs=1)]: Done   1 out of   1 | elapsed:    7.0s remaining:    0.0s\n",
            "[Parallel(n_jobs=1)]: Done  71 out of  71 | elapsed:  7.2min finished\n",
            "\n",
            "[2022-07-18 07:46:11] Features: 3/20 -- score: 0.44804318488529016[Parallel(n_jobs=1)]: Using backend SequentialBackend with 1 concurrent workers.\n",
            "[Parallel(n_jobs=1)]: Done   1 out of   1 | elapsed:    7.3s remaining:    0.0s\n",
            "[Parallel(n_jobs=1)]: Done  70 out of  70 | elapsed:  7.1min finished\n",
            "\n",
            "[2022-07-18 07:53:20] Features: 4/20 -- score: 0.3915750915750915[Parallel(n_jobs=1)]: Using backend SequentialBackend with 1 concurrent workers.\n",
            "[Parallel(n_jobs=1)]: Done   1 out of   1 | elapsed:    7.0s remaining:    0.0s\n",
            "[Parallel(n_jobs=1)]: Done  69 out of  69 | elapsed:  7.2min finished\n",
            "\n",
            "[2022-07-18 08:00:31] Features: 5/20 -- score: 0.361009361009361[Parallel(n_jobs=1)]: Using backend SequentialBackend with 1 concurrent workers.\n",
            "[Parallel(n_jobs=1)]: Done   1 out of   1 | elapsed:    6.9s remaining:    0.0s\n",
            "[Parallel(n_jobs=1)]: Done  68 out of  68 | elapsed:  7.1min finished\n",
            "\n",
            "[2022-07-18 08:07:37] Features: 6/20 -- score: 0.34732724902216433[Parallel(n_jobs=1)]: Using backend SequentialBackend with 1 concurrent workers.\n",
            "[Parallel(n_jobs=1)]: Done   1 out of   1 | elapsed:    6.9s remaining:    0.0s\n",
            "[Parallel(n_jobs=1)]: Done  67 out of  67 | elapsed:  7.1min finished\n",
            "\n",
            "[2022-07-18 08:14:43] Features: 7/20 -- score: 0.33523860713996995[Parallel(n_jobs=1)]: Using backend SequentialBackend with 1 concurrent workers.\n",
            "[Parallel(n_jobs=1)]: Done   1 out of   1 | elapsed:    6.6s remaining:    0.0s\n",
            "[Parallel(n_jobs=1)]: Done  66 out of  66 | elapsed:  6.9min finished\n",
            "\n",
            "[2022-07-18 08:21:37] Features: 8/20 -- score: 0.32613071039109415[Parallel(n_jobs=1)]: Using backend SequentialBackend with 1 concurrent workers.\n",
            "[Parallel(n_jobs=1)]: Done   1 out of   1 | elapsed:    7.0s remaining:    0.0s\n",
            "[Parallel(n_jobs=1)]: Done  65 out of  65 | elapsed:  7.3min finished\n",
            "\n",
            "[2022-07-18 08:28:53] Features: 9/20 -- score: 0.3268975093804473[Parallel(n_jobs=1)]: Using backend SequentialBackend with 1 concurrent workers.\n",
            "[Parallel(n_jobs=1)]: Done   1 out of   1 | elapsed:    7.0s remaining:    0.0s\n",
            "[Parallel(n_jobs=1)]: Done  64 out of  64 | elapsed:  7.2min finished\n",
            "\n",
            "[2022-07-18 08:36:06] Features: 10/20 -- score: 0.32870517576399927[Parallel(n_jobs=1)]: Using backend SequentialBackend with 1 concurrent workers.\n",
            "[Parallel(n_jobs=1)]: Done   1 out of   1 | elapsed:    7.0s remaining:    0.0s\n",
            "[Parallel(n_jobs=1)]: Done  63 out of  63 | elapsed:  7.2min finished\n",
            "\n",
            "[2022-07-18 08:43:16] Features: 11/20 -- score: 0.30805755728781037[Parallel(n_jobs=1)]: Using backend SequentialBackend with 1 concurrent workers.\n",
            "[Parallel(n_jobs=1)]: Done   1 out of   1 | elapsed:    6.8s remaining:    0.0s\n",
            "[Parallel(n_jobs=1)]: Done  62 out of  62 | elapsed:  7.0min finished\n",
            "\n",
            "[2022-07-18 08:50:16] Features: 12/20 -- score: 0.3044248647355992[Parallel(n_jobs=1)]: Using backend SequentialBackend with 1 concurrent workers.\n",
            "[Parallel(n_jobs=1)]: Done   1 out of   1 | elapsed:    6.8s remaining:    0.0s\n",
            "[Parallel(n_jobs=1)]: Done  61 out of  61 | elapsed:  6.9min finished\n",
            "\n",
            "[2022-07-18 08:57:10] Features: 13/20 -- score: 0.3018705290187589[Parallel(n_jobs=1)]: Using backend SequentialBackend with 1 concurrent workers.\n",
            "[Parallel(n_jobs=1)]: Done   1 out of   1 | elapsed:    7.0s remaining:    0.0s\n",
            "[Parallel(n_jobs=1)]: Done  60 out of  60 | elapsed:  6.9min finished\n",
            "\n",
            "[2022-07-18 09:04:02] Features: 14/20 -- score: 0.30721428127170586[Parallel(n_jobs=1)]: Using backend SequentialBackend with 1 concurrent workers.\n",
            "[Parallel(n_jobs=1)]: Done   1 out of   1 | elapsed:    7.1s remaining:    0.0s\n",
            "[Parallel(n_jobs=1)]: Done  59 out of  59 | elapsed:  6.8min finished\n",
            "\n",
            "[2022-07-18 09:10:52] Features: 15/20 -- score: 0.30356734954934966[Parallel(n_jobs=1)]: Using backend SequentialBackend with 1 concurrent workers.\n",
            "[Parallel(n_jobs=1)]: Done   1 out of   1 | elapsed:    7.8s remaining:    0.0s\n",
            "[Parallel(n_jobs=1)]: Done  58 out of  58 | elapsed:  7.5min finished\n",
            "\n",
            "[2022-07-18 09:18:24] Features: 16/20 -- score: 0.2913404780690219[Parallel(n_jobs=1)]: Using backend SequentialBackend with 1 concurrent workers.\n",
            "[Parallel(n_jobs=1)]: Done   1 out of   1 | elapsed:    7.9s remaining:    0.0s\n",
            "[Parallel(n_jobs=1)]: Done  57 out of  57 | elapsed:  7.5min finished\n",
            "\n",
            "[2022-07-18 09:25:52] Features: 17/20 -- score: 0.2949910257702107[Parallel(n_jobs=1)]: Using backend SequentialBackend with 1 concurrent workers.\n",
            "[Parallel(n_jobs=1)]: Done   1 out of   1 | elapsed:    8.5s remaining:    0.0s\n",
            "[Parallel(n_jobs=1)]: Done  56 out of  56 | elapsed:  7.8min finished\n",
            "\n",
            "[2022-07-18 09:33:43] Features: 18/20 -- score: 0.30689467676443916[Parallel(n_jobs=1)]: Using backend SequentialBackend with 1 concurrent workers.\n",
            "[Parallel(n_jobs=1)]: Done   1 out of   1 | elapsed:    8.5s remaining:    0.0s\n",
            "[Parallel(n_jobs=1)]: Done  55 out of  55 | elapsed:  7.8min finished\n",
            "\n",
            "[2022-07-18 09:41:32] Features: 19/20 -- score: 0.35186788520121853[Parallel(n_jobs=1)]: Using backend SequentialBackend with 1 concurrent workers.\n",
            "[Parallel(n_jobs=1)]: Done   1 out of   1 | elapsed:    8.5s remaining:    0.0s\n",
            "[Parallel(n_jobs=1)]: Done  54 out of  54 | elapsed:  7.6min finished\n",
            "\n",
            "[2022-07-18 09:49:08] Features: 20/20 -- score: 0.39170787590453965"
          ]
        }
      ]
    },
    {
      "cell_type": "code",
      "source": [
        "sfs1.k_feature_idx_"
      ],
      "metadata": {
        "colab": {
          "base_uri": "https://localhost:8080/"
        },
        "id": "nu1ES4LMMgTw",
        "outputId": "99befa9e-f38e-455b-868f-97b297d331db"
      },
      "execution_count": 49,
      "outputs": [
        {
          "output_type": "execute_result",
          "data": {
            "text/plain": [
              "(2, 9, 12, 13, 15, 25, 26, 35, 45, 46, 48, 49, 53, 62, 64, 65, 66, 67, 69, 70)"
            ]
          },
          "metadata": {},
          "execution_count": 49
        }
      ]
    },
    {
      "cell_type": "code",
      "source": [
        "X_train_forward_part2.columns[list(sfs1.k_feature_idx_)]"
      ],
      "metadata": {
        "colab": {
          "base_uri": "https://localhost:8080/"
        },
        "id": "D25fz_Q07sCX",
        "outputId": "7f3adb6f-bfc0-4ce5-8471-6bfd5b05d940"
      },
      "execution_count": 50,
      "outputs": [
        {
          "output_type": "execute_result",
          "data": {
            "text/plain": [
              "Index(['D_42', 'D_49', 'D_52', 'D_53', 'D_56', 'D_73', 'D_76', 'D_88', 'D_106',\n",
              "       'D_108', 'D_110', 'D_111', 'D_121', 'D_132', 'D_134', 'D_135', 'D_136',\n",
              "       'D_138', 'D_140', 'D_142'],\n",
              "      dtype='object')"
            ]
          },
          "metadata": {},
          "execution_count": 50
        }
      ]
    },
    {
      "cell_type": "markdown",
      "source": [
        "## Backward Elimination\n",
        "\n",
        "* In backward elimination, we start with the full model (including all the independent variables) and then remove the insignificant feature with the highest p-value(> significance level). This process repeats again and again until we have the final set of significant features."
      ],
      "metadata": {
        "id": "-Bie-cTa7zS7"
      }
    },
    {
      "cell_type": "code",
      "source": [
        "X_train_backward_part1 = X_train_forward.sample(n=15000)"
      ],
      "metadata": {
        "id": "VCn3e0ta8wYs"
      },
      "execution_count": 51,
      "outputs": []
    },
    {
      "cell_type": "code",
      "source": [
        "y_train_backward_part1 = X_train_backward_part1['target']\n",
        "X_train_backward_part1 = X_train_backward_part1.drop('target', axis=1)"
      ],
      "metadata": {
        "id": "Tyns0FZ58-ps"
      },
      "execution_count": 52,
      "outputs": []
    },
    {
      "cell_type": "code",
      "source": [
        "sfsb = SFS(RandomForestClassifier(), \n",
        "           k_features=20, \n",
        "           forward=False, \n",
        "           floating=False, \n",
        "           verbose=2,\n",
        "           scoring='accuracy',\n",
        "           cv=3)\n",
        "\n",
        "sfsb = sfsb.fit(np.array(X_train_backward_part1), y_train_backward_part1)"
      ],
      "metadata": {
        "colab": {
          "base_uri": "https://localhost:8080/"
        },
        "id": "0e8Oc2ri8biN",
        "outputId": "a31ccf65-8d64-4f5e-8692-1286fb3bc3e4"
      },
      "execution_count": 54,
      "outputs": [
        {
          "output_type": "stream",
          "name": "stderr",
          "text": [
            "[Parallel(n_jobs=1)]: Using backend SequentialBackend with 1 concurrent workers.\n",
            "[Parallel(n_jobs=1)]: Done   1 out of   1 | elapsed:   27.0s remaining:    0.0s\n",
            "[Parallel(n_jobs=1)]: Done  73 out of  73 | elapsed: 33.1min finished\n",
            "\n",
            "[2022-07-18 11:45:15] Features: 72/20 -- score: 0.7467999999999999[Parallel(n_jobs=1)]: Using backend SequentialBackend with 1 concurrent workers.\n",
            "[Parallel(n_jobs=1)]: Done   1 out of   1 | elapsed:   26.8s remaining:    0.0s\n",
            "[Parallel(n_jobs=1)]: Done  72 out of  72 | elapsed: 32.7min finished\n",
            "\n",
            "[2022-07-18 12:17:57] Features: 71/20 -- score: 0.7468666666666667[Parallel(n_jobs=1)]: Using backend SequentialBackend with 1 concurrent workers.\n",
            "[Parallel(n_jobs=1)]: Done   1 out of   1 | elapsed:   26.9s remaining:    0.0s\n",
            "[Parallel(n_jobs=1)]: Done  71 out of  71 | elapsed: 32.0min finished\n",
            "\n",
            "[2022-07-18 12:49:58] Features: 70/20 -- score: 0.7469333333333333[Parallel(n_jobs=1)]: Using backend SequentialBackend with 1 concurrent workers.\n",
            "[Parallel(n_jobs=1)]: Done   1 out of   1 | elapsed:   26.9s remaining:    0.0s\n",
            "\n",
            "STOPPING EARLY DUE TO KEYBOARD INTERRUPT..."
          ]
        }
      ]
    },
    {
      "cell_type": "markdown",
      "source": [
        "* Feature selection refers to techniques that select a subset of the most relevant features (columns) for a dataset."
      ],
      "metadata": {
        "id": "A2CzKDPw9aqR"
      }
    },
    {
      "cell_type": "markdown",
      "source": [
        "## Recursive Feature Elimination\n",
        "\n",
        "* It is a greedy optimization algorithm which aims to find the best performing feature subset. It repeatedly creates models and keeps aside the best or the worst performing feature at each iteration. It constructs the next model with the left features until all the features are exhausted. It then ranks the features based on the order of their elimination.\n",
        "\n",
        "* Recursive feature elimination performs a greedy search to find the best performing feature subset. It iteratively creates models and determines the best or the worst performing feature at each iteration. It constructs the subsequent models with the left features until all the features are explored. It then ranks the features based on the order of their elimination. In the worst case, if a dataset contains N number of features RFE will do a greedy search for 2N combinations of features."
      ],
      "metadata": {
        "id": "gF6oeWD2XS07"
      }
    },
    {
      "cell_type": "code",
      "source": [
        "from sklearn.feature_selection import RFE"
      ],
      "metadata": {
        "id": "LoVhByY2Zclf"
      },
      "execution_count": 55,
      "outputs": []
    },
    {
      "cell_type": "code",
      "source": [
        "# Init the transformer\n",
        "rfe = RFE(estimator=RandomForestClassifier(), n_features_to_select=30)\n",
        "\n",
        "# Fit to the training data\n",
        "rfe = rfe.fit(X_train_backward_part1, y_train_backward_part1)"
      ],
      "metadata": {
        "id": "zedPebqCdueK"
      },
      "execution_count": 56,
      "outputs": []
    },
    {
      "cell_type": "code",
      "source": [
        "X_train_backward_part1.columns[rfe.support_]"
      ],
      "metadata": {
        "colab": {
          "base_uri": "https://localhost:8080/"
        },
        "id": "-qbz6GEveGth",
        "outputId": "6e745955-2677-4c41-ec6e-09f2be0a2f16"
      },
      "execution_count": 57,
      "outputs": [
        {
          "output_type": "execute_result",
          "data": {
            "text/plain": [
              "Index(['D_39', 'D_44', 'D_47', 'D_52', 'D_54', 'D_59', 'D_60', 'D_65', 'D_70',\n",
              "       'D_72', 'D_81', 'D_83', 'D_84', 'D_86', 'D_89', 'D_92', 'D_94', 'D_96',\n",
              "       'D_103', 'D_109', 'D_112', 'D_113', 'D_124', 'D_127', 'D_128', 'D_133',\n",
              "       'D_139', 'D_140', 'D_144', 'D_145'],\n",
              "      dtype='object')"
            ]
          },
          "metadata": {},
          "execution_count": 57
        }
      ]
    },
    {
      "cell_type": "code",
      "source": [
        "X_train_forward_part2.columns[list(sfs1.k_feature_idx_)]"
      ],
      "metadata": {
        "colab": {
          "base_uri": "https://localhost:8080/"
        },
        "id": "8HSY-GYGrkw2",
        "outputId": "0a4afa6c-a563-42b3-d9c3-1e125d636d56"
      },
      "execution_count": 58,
      "outputs": [
        {
          "output_type": "execute_result",
          "data": {
            "text/plain": [
              "Index(['D_42', 'D_49', 'D_52', 'D_53', 'D_56', 'D_73', 'D_76', 'D_88', 'D_106',\n",
              "       'D_108', 'D_110', 'D_111', 'D_121', 'D_132', 'D_134', 'D_135', 'D_136',\n",
              "       'D_138', 'D_140', 'D_142'],\n",
              "      dtype='object')"
            ]
          },
          "metadata": {},
          "execution_count": 58
        }
      ]
    },
    {
      "cell_type": "markdown",
      "source": [
        "## Embedding Methods\n",
        "\n",
        "* Embedded methods are iterative in a sense that takes care of each iteration of the model training process and carefully extract those features which contribute the most to the training for a particular iteration. Regularization methods are the most commonly used embedded methods which penalize a feature given a coefficient threshold.\n",
        "\n",
        "* This is why Regularization methods are also called penalization methods that introduce additional constraints into the optimization of a predictive algorithm (such as a regression algorithm) that bias the model toward lower complexity (fewer coefficients).\n",
        "\n",
        "* Some of the most popular examples of these methods are LASSO and RIDGE regression which have inbuilt penalization functions to reduce overfitting."
      ],
      "metadata": {
        "id": "i4dJ5WCtrsYG"
      }
    },
    {
      "cell_type": "markdown",
      "source": [
        "### LASSO Regression\n",
        "\n",
        "* Lasso regression performs L1 regularization which adds penalty equivalent to absolute value of the magnitude of coefficients.\n",
        "\n",
        "* Regularisation consists in adding a penalty to the different parameters of the machine learning model to reduce the freedom of the model and in other words to avoid overfitting. In linear model regularisation, the penalty is applied over the coefficients that multiply each of the predictors. From the different types of regularisation, Lasso or l1 has the property that is able to shrink some of the coefficients to zero. Therefore, that feature can be removed from the model.\n",
        "\n"
      ],
      "metadata": {
        "id": "FoY-yo0ZsKcl"
      }
    },
    {
      "cell_type": "code",
      "source": [
        "from sklearn.linear_model import Lasso\n",
        "from sklearn.feature_selection import SelectFromModel\n",
        "from sklearn.preprocessing import StandardScaler"
      ],
      "metadata": {
        "id": "dmYUGHMxtJmj"
      },
      "execution_count": 60,
      "outputs": []
    },
    {
      "cell_type": "code",
      "source": [
        "scaler = StandardScaler()\n",
        "scaler.fit(X_train_backward_part1)"
      ],
      "metadata": {
        "colab": {
          "base_uri": "https://localhost:8080/"
        },
        "id": "dBb4ebGQtOHo",
        "outputId": "6136e9ff-478a-4414-afd1-626b06f656b8"
      },
      "execution_count": 61,
      "outputs": [
        {
          "output_type": "execute_result",
          "data": {
            "text/plain": [
              "StandardScaler()"
            ]
          },
          "metadata": {},
          "execution_count": 61
        }
      ]
    },
    {
      "cell_type": "markdown",
      "source": [
        "## S-Variables "
      ],
      "metadata": {
        "id": "BVzr79Ctt641"
      }
    },
    {
      "cell_type": "code",
      "source": [
        "train_df_S = train_df.copy()\n",
        "train_df_S.head()"
      ],
      "metadata": {
        "colab": {
          "base_uri": "https://localhost:8080/",
          "height": 386
        },
        "id": "s3qUeodvGgp0",
        "outputId": "67a046cb-e56a-474a-a99b-7f6e486dd51b"
      },
      "execution_count": 4,
      "outputs": [
        {
          "output_type": "execute_result",
          "data": {
            "text/plain": [
              "                                         customer_ID         S_2       P_2  \\\n",
              "0  0000099d6bd597052cdcda90ffabf56573fe9d7c79be5f...  2017-03-09  0.938469   \n",
              "1  0000099d6bd597052cdcda90ffabf56573fe9d7c79be5f...  2017-04-07  0.936665   \n",
              "2  0000099d6bd597052cdcda90ffabf56573fe9d7c79be5f...  2017-05-28  0.954180   \n",
              "3  0000099d6bd597052cdcda90ffabf56573fe9d7c79be5f...  2017-06-13  0.960384   \n",
              "4  0000099d6bd597052cdcda90ffabf56573fe9d7c79be5f...  2017-07-16  0.947248   \n",
              "\n",
              "       D_39       B_1       B_2       R_1       S_3      D_41       B_3  ...  \\\n",
              "0  0.001733  0.008724  1.006838  0.009228  0.124035  0.008771  0.004709  ...   \n",
              "1  0.005775  0.004923  1.000653  0.006151  0.126750  0.000798  0.002714  ...   \n",
              "2  0.091505  0.021655  1.009672  0.006815  0.123977  0.007598  0.009423  ...   \n",
              "3  0.002455  0.013683  1.002700  0.001373  0.117169  0.000685  0.005531  ...   \n",
              "4  0.002483  0.015193  1.000727  0.007605  0.117325  0.004653  0.009312  ...   \n",
              "\n",
              "   D_136  D_137  D_138     D_139     D_140     D_141  D_142     D_143  \\\n",
              "0    NaN    NaN    NaN  0.002427  0.003706  0.003818    NaN  0.000569   \n",
              "1    NaN    NaN    NaN  0.003954  0.003167  0.005032    NaN  0.009576   \n",
              "2    NaN    NaN    NaN  0.003269  0.007329  0.000427    NaN  0.003429   \n",
              "3    NaN    NaN    NaN  0.006117  0.004516  0.003200    NaN  0.008419   \n",
              "4    NaN    NaN    NaN  0.003671  0.004946  0.008889    NaN  0.001670   \n",
              "\n",
              "      D_144     D_145  \n",
              "0  0.000610  0.002674  \n",
              "1  0.005492  0.009217  \n",
              "2  0.006986  0.002603  \n",
              "3  0.006527  0.009600  \n",
              "4  0.008126  0.009827  \n",
              "\n",
              "[5 rows x 190 columns]"
            ],
            "text/html": [
              "\n",
              "  <div id=\"df-8bc6c9fc-5f03-4c66-99a0-5b5a59decde0\">\n",
              "    <div class=\"colab-df-container\">\n",
              "      <div>\n",
              "<style scoped>\n",
              "    .dataframe tbody tr th:only-of-type {\n",
              "        vertical-align: middle;\n",
              "    }\n",
              "\n",
              "    .dataframe tbody tr th {\n",
              "        vertical-align: top;\n",
              "    }\n",
              "\n",
              "    .dataframe thead th {\n",
              "        text-align: right;\n",
              "    }\n",
              "</style>\n",
              "<table border=\"1\" class=\"dataframe\">\n",
              "  <thead>\n",
              "    <tr style=\"text-align: right;\">\n",
              "      <th></th>\n",
              "      <th>customer_ID</th>\n",
              "      <th>S_2</th>\n",
              "      <th>P_2</th>\n",
              "      <th>D_39</th>\n",
              "      <th>B_1</th>\n",
              "      <th>B_2</th>\n",
              "      <th>R_1</th>\n",
              "      <th>S_3</th>\n",
              "      <th>D_41</th>\n",
              "      <th>B_3</th>\n",
              "      <th>...</th>\n",
              "      <th>D_136</th>\n",
              "      <th>D_137</th>\n",
              "      <th>D_138</th>\n",
              "      <th>D_139</th>\n",
              "      <th>D_140</th>\n",
              "      <th>D_141</th>\n",
              "      <th>D_142</th>\n",
              "      <th>D_143</th>\n",
              "      <th>D_144</th>\n",
              "      <th>D_145</th>\n",
              "    </tr>\n",
              "  </thead>\n",
              "  <tbody>\n",
              "    <tr>\n",
              "      <th>0</th>\n",
              "      <td>0000099d6bd597052cdcda90ffabf56573fe9d7c79be5f...</td>\n",
              "      <td>2017-03-09</td>\n",
              "      <td>0.938469</td>\n",
              "      <td>0.001733</td>\n",
              "      <td>0.008724</td>\n",
              "      <td>1.006838</td>\n",
              "      <td>0.009228</td>\n",
              "      <td>0.124035</td>\n",
              "      <td>0.008771</td>\n",
              "      <td>0.004709</td>\n",
              "      <td>...</td>\n",
              "      <td>NaN</td>\n",
              "      <td>NaN</td>\n",
              "      <td>NaN</td>\n",
              "      <td>0.002427</td>\n",
              "      <td>0.003706</td>\n",
              "      <td>0.003818</td>\n",
              "      <td>NaN</td>\n",
              "      <td>0.000569</td>\n",
              "      <td>0.000610</td>\n",
              "      <td>0.002674</td>\n",
              "    </tr>\n",
              "    <tr>\n",
              "      <th>1</th>\n",
              "      <td>0000099d6bd597052cdcda90ffabf56573fe9d7c79be5f...</td>\n",
              "      <td>2017-04-07</td>\n",
              "      <td>0.936665</td>\n",
              "      <td>0.005775</td>\n",
              "      <td>0.004923</td>\n",
              "      <td>1.000653</td>\n",
              "      <td>0.006151</td>\n",
              "      <td>0.126750</td>\n",
              "      <td>0.000798</td>\n",
              "      <td>0.002714</td>\n",
              "      <td>...</td>\n",
              "      <td>NaN</td>\n",
              "      <td>NaN</td>\n",
              "      <td>NaN</td>\n",
              "      <td>0.003954</td>\n",
              "      <td>0.003167</td>\n",
              "      <td>0.005032</td>\n",
              "      <td>NaN</td>\n",
              "      <td>0.009576</td>\n",
              "      <td>0.005492</td>\n",
              "      <td>0.009217</td>\n",
              "    </tr>\n",
              "    <tr>\n",
              "      <th>2</th>\n",
              "      <td>0000099d6bd597052cdcda90ffabf56573fe9d7c79be5f...</td>\n",
              "      <td>2017-05-28</td>\n",
              "      <td>0.954180</td>\n",
              "      <td>0.091505</td>\n",
              "      <td>0.021655</td>\n",
              "      <td>1.009672</td>\n",
              "      <td>0.006815</td>\n",
              "      <td>0.123977</td>\n",
              "      <td>0.007598</td>\n",
              "      <td>0.009423</td>\n",
              "      <td>...</td>\n",
              "      <td>NaN</td>\n",
              "      <td>NaN</td>\n",
              "      <td>NaN</td>\n",
              "      <td>0.003269</td>\n",
              "      <td>0.007329</td>\n",
              "      <td>0.000427</td>\n",
              "      <td>NaN</td>\n",
              "      <td>0.003429</td>\n",
              "      <td>0.006986</td>\n",
              "      <td>0.002603</td>\n",
              "    </tr>\n",
              "    <tr>\n",
              "      <th>3</th>\n",
              "      <td>0000099d6bd597052cdcda90ffabf56573fe9d7c79be5f...</td>\n",
              "      <td>2017-06-13</td>\n",
              "      <td>0.960384</td>\n",
              "      <td>0.002455</td>\n",
              "      <td>0.013683</td>\n",
              "      <td>1.002700</td>\n",
              "      <td>0.001373</td>\n",
              "      <td>0.117169</td>\n",
              "      <td>0.000685</td>\n",
              "      <td>0.005531</td>\n",
              "      <td>...</td>\n",
              "      <td>NaN</td>\n",
              "      <td>NaN</td>\n",
              "      <td>NaN</td>\n",
              "      <td>0.006117</td>\n",
              "      <td>0.004516</td>\n",
              "      <td>0.003200</td>\n",
              "      <td>NaN</td>\n",
              "      <td>0.008419</td>\n",
              "      <td>0.006527</td>\n",
              "      <td>0.009600</td>\n",
              "    </tr>\n",
              "    <tr>\n",
              "      <th>4</th>\n",
              "      <td>0000099d6bd597052cdcda90ffabf56573fe9d7c79be5f...</td>\n",
              "      <td>2017-07-16</td>\n",
              "      <td>0.947248</td>\n",
              "      <td>0.002483</td>\n",
              "      <td>0.015193</td>\n",
              "      <td>1.000727</td>\n",
              "      <td>0.007605</td>\n",
              "      <td>0.117325</td>\n",
              "      <td>0.004653</td>\n",
              "      <td>0.009312</td>\n",
              "      <td>...</td>\n",
              "      <td>NaN</td>\n",
              "      <td>NaN</td>\n",
              "      <td>NaN</td>\n",
              "      <td>0.003671</td>\n",
              "      <td>0.004946</td>\n",
              "      <td>0.008889</td>\n",
              "      <td>NaN</td>\n",
              "      <td>0.001670</td>\n",
              "      <td>0.008126</td>\n",
              "      <td>0.009827</td>\n",
              "    </tr>\n",
              "  </tbody>\n",
              "</table>\n",
              "<p>5 rows × 190 columns</p>\n",
              "</div>\n",
              "      <button class=\"colab-df-convert\" onclick=\"convertToInteractive('df-8bc6c9fc-5f03-4c66-99a0-5b5a59decde0')\"\n",
              "              title=\"Convert this dataframe to an interactive table.\"\n",
              "              style=\"display:none;\">\n",
              "        \n",
              "  <svg xmlns=\"http://www.w3.org/2000/svg\" height=\"24px\"viewBox=\"0 0 24 24\"\n",
              "       width=\"24px\">\n",
              "    <path d=\"M0 0h24v24H0V0z\" fill=\"none\"/>\n",
              "    <path d=\"M18.56 5.44l.94 2.06.94-2.06 2.06-.94-2.06-.94-.94-2.06-.94 2.06-2.06.94zm-11 1L8.5 8.5l.94-2.06 2.06-.94-2.06-.94L8.5 2.5l-.94 2.06-2.06.94zm10 10l.94 2.06.94-2.06 2.06-.94-2.06-.94-.94-2.06-.94 2.06-2.06.94z\"/><path d=\"M17.41 7.96l-1.37-1.37c-.4-.4-.92-.59-1.43-.59-.52 0-1.04.2-1.43.59L10.3 9.45l-7.72 7.72c-.78.78-.78 2.05 0 2.83L4 21.41c.39.39.9.59 1.41.59.51 0 1.02-.2 1.41-.59l7.78-7.78 2.81-2.81c.8-.78.8-2.07 0-2.86zM5.41 20L4 18.59l7.72-7.72 1.47 1.35L5.41 20z\"/>\n",
              "  </svg>\n",
              "      </button>\n",
              "      \n",
              "  <style>\n",
              "    .colab-df-container {\n",
              "      display:flex;\n",
              "      flex-wrap:wrap;\n",
              "      gap: 12px;\n",
              "    }\n",
              "\n",
              "    .colab-df-convert {\n",
              "      background-color: #E8F0FE;\n",
              "      border: none;\n",
              "      border-radius: 50%;\n",
              "      cursor: pointer;\n",
              "      display: none;\n",
              "      fill: #1967D2;\n",
              "      height: 32px;\n",
              "      padding: 0 0 0 0;\n",
              "      width: 32px;\n",
              "    }\n",
              "\n",
              "    .colab-df-convert:hover {\n",
              "      background-color: #E2EBFA;\n",
              "      box-shadow: 0px 1px 2px rgba(60, 64, 67, 0.3), 0px 1px 3px 1px rgba(60, 64, 67, 0.15);\n",
              "      fill: #174EA6;\n",
              "    }\n",
              "\n",
              "    [theme=dark] .colab-df-convert {\n",
              "      background-color: #3B4455;\n",
              "      fill: #D2E3FC;\n",
              "    }\n",
              "\n",
              "    [theme=dark] .colab-df-convert:hover {\n",
              "      background-color: #434B5C;\n",
              "      box-shadow: 0px 1px 3px 1px rgba(0, 0, 0, 0.15);\n",
              "      filter: drop-shadow(0px 1px 2px rgba(0, 0, 0, 0.3));\n",
              "      fill: #FFFFFF;\n",
              "    }\n",
              "  </style>\n",
              "\n",
              "      <script>\n",
              "        const buttonEl =\n",
              "          document.querySelector('#df-8bc6c9fc-5f03-4c66-99a0-5b5a59decde0 button.colab-df-convert');\n",
              "        buttonEl.style.display =\n",
              "          google.colab.kernel.accessAllowed ? 'block' : 'none';\n",
              "\n",
              "        async function convertToInteractive(key) {\n",
              "          const element = document.querySelector('#df-8bc6c9fc-5f03-4c66-99a0-5b5a59decde0');\n",
              "          const dataTable =\n",
              "            await google.colab.kernel.invokeFunction('convertToInteractive',\n",
              "                                                     [key], {});\n",
              "          if (!dataTable) return;\n",
              "\n",
              "          const docLinkHtml = 'Like what you see? Visit the ' +\n",
              "            '<a target=\"_blank\" href=https://colab.research.google.com/notebooks/data_table.ipynb>data table notebook</a>'\n",
              "            + ' to learn more about interactive tables.';\n",
              "          element.innerHTML = '';\n",
              "          dataTable['output_type'] = 'display_data';\n",
              "          await google.colab.output.renderOutput(dataTable, element);\n",
              "          const docLink = document.createElement('div');\n",
              "          docLink.innerHTML = docLinkHtml;\n",
              "          element.appendChild(docLink);\n",
              "        }\n",
              "      </script>\n",
              "    </div>\n",
              "  </div>\n",
              "  "
            ]
          },
          "metadata": {},
          "execution_count": 4
        }
      ]
    },
    {
      "cell_type": "code",
      "source": [
        "for ele in train_df.columns :\n",
        "  if ele[0] != 'S':\n",
        "    train_df_S.drop(ele, axis=1, inplace=True)\n",
        "\n",
        "train_df_S.shape"
      ],
      "metadata": {
        "colab": {
          "base_uri": "https://localhost:8080/"
        },
        "id": "jhKrg3hsGsdx",
        "outputId": "8b67edfc-f028-4b56-b884-867b865c03c7"
      },
      "execution_count": 5,
      "outputs": [
        {
          "output_type": "execute_result",
          "data": {
            "text/plain": [
              "(300000, 22)"
            ]
          },
          "metadata": {},
          "execution_count": 5
        }
      ]
    },
    {
      "cell_type": "code",
      "source": [
        "train_df_S.head()"
      ],
      "metadata": {
        "colab": {
          "base_uri": "https://localhost:8080/",
          "height": 386
        },
        "id": "OxItLQ7XGyjC",
        "outputId": "8aff8ede-af7b-43a5-8039-b1ba106ea399"
      },
      "execution_count": 7,
      "outputs": [
        {
          "output_type": "execute_result",
          "data": {
            "text/plain": [
              "          S_2       S_3       S_5       S_6       S_7       S_8       S_9  \\\n",
              "0  2017-03-09  0.124035  0.023381  0.008322  0.161345  0.922998  0.065728   \n",
              "1  2017-04-07  0.126750  0.030599  0.002482  0.140951  0.919414  0.093935   \n",
              "2  2017-05-28  0.123977  0.048367  0.000530  0.112229  1.001977  0.084757   \n",
              "3  2017-06-13  0.117169  0.030063  0.000783  0.102838  0.704016  0.048382   \n",
              "4  2017-07-16  0.117325  0.054221  0.006698  0.094311  0.917133  0.039259   \n",
              "\n",
              "       S_11      S_12      S_13  ...      S_17      S_18      S_19      S_20  \\\n",
              "0  0.401619  0.272008  0.515222  ...  0.008033  0.005720  0.002537  0.009705   \n",
              "1  0.406326  0.188970  0.509048  ...  0.000760  0.007584  0.008427  0.009924   \n",
              "2  0.406768  0.495308  0.679257  ...  0.004056  0.005901  0.007327  0.008446   \n",
              "3  0.405175  0.508670  0.515282  ...  0.006969  0.002520  0.007053  0.006614   \n",
              "4  0.487460  0.216507  0.507712  ...  0.001770  0.000155  0.007728  0.005511   \n",
              "\n",
              "       S_22      S_23      S_24      S_25      S_26      S_27  \n",
              "0  0.894090  0.135561  0.911191  0.974539  0.001243  0.676922  \n",
              "1  0.902135  0.136333  0.919876  0.975624  0.004561  0.822281  \n",
              "2  0.939654  0.134938  0.958699  0.974067  0.011736  0.853498  \n",
              "3  0.913205  0.140058  0.926341  0.975499  0.007571  0.844667  \n",
              "4  0.921026  0.131620  0.933479  0.978027  0.018200  0.811199  \n",
              "\n",
              "[5 rows x 22 columns]"
            ],
            "text/html": [
              "\n",
              "  <div id=\"df-3efe58e7-575d-48e3-a09a-d77797c14d8b\">\n",
              "    <div class=\"colab-df-container\">\n",
              "      <div>\n",
              "<style scoped>\n",
              "    .dataframe tbody tr th:only-of-type {\n",
              "        vertical-align: middle;\n",
              "    }\n",
              "\n",
              "    .dataframe tbody tr th {\n",
              "        vertical-align: top;\n",
              "    }\n",
              "\n",
              "    .dataframe thead th {\n",
              "        text-align: right;\n",
              "    }\n",
              "</style>\n",
              "<table border=\"1\" class=\"dataframe\">\n",
              "  <thead>\n",
              "    <tr style=\"text-align: right;\">\n",
              "      <th></th>\n",
              "      <th>S_2</th>\n",
              "      <th>S_3</th>\n",
              "      <th>S_5</th>\n",
              "      <th>S_6</th>\n",
              "      <th>S_7</th>\n",
              "      <th>S_8</th>\n",
              "      <th>S_9</th>\n",
              "      <th>S_11</th>\n",
              "      <th>S_12</th>\n",
              "      <th>S_13</th>\n",
              "      <th>...</th>\n",
              "      <th>S_17</th>\n",
              "      <th>S_18</th>\n",
              "      <th>S_19</th>\n",
              "      <th>S_20</th>\n",
              "      <th>S_22</th>\n",
              "      <th>S_23</th>\n",
              "      <th>S_24</th>\n",
              "      <th>S_25</th>\n",
              "      <th>S_26</th>\n",
              "      <th>S_27</th>\n",
              "    </tr>\n",
              "  </thead>\n",
              "  <tbody>\n",
              "    <tr>\n",
              "      <th>0</th>\n",
              "      <td>2017-03-09</td>\n",
              "      <td>0.124035</td>\n",
              "      <td>0.023381</td>\n",
              "      <td>0.008322</td>\n",
              "      <td>0.161345</td>\n",
              "      <td>0.922998</td>\n",
              "      <td>0.065728</td>\n",
              "      <td>0.401619</td>\n",
              "      <td>0.272008</td>\n",
              "      <td>0.515222</td>\n",
              "      <td>...</td>\n",
              "      <td>0.008033</td>\n",
              "      <td>0.005720</td>\n",
              "      <td>0.002537</td>\n",
              "      <td>0.009705</td>\n",
              "      <td>0.894090</td>\n",
              "      <td>0.135561</td>\n",
              "      <td>0.911191</td>\n",
              "      <td>0.974539</td>\n",
              "      <td>0.001243</td>\n",
              "      <td>0.676922</td>\n",
              "    </tr>\n",
              "    <tr>\n",
              "      <th>1</th>\n",
              "      <td>2017-04-07</td>\n",
              "      <td>0.126750</td>\n",
              "      <td>0.030599</td>\n",
              "      <td>0.002482</td>\n",
              "      <td>0.140951</td>\n",
              "      <td>0.919414</td>\n",
              "      <td>0.093935</td>\n",
              "      <td>0.406326</td>\n",
              "      <td>0.188970</td>\n",
              "      <td>0.509048</td>\n",
              "      <td>...</td>\n",
              "      <td>0.000760</td>\n",
              "      <td>0.007584</td>\n",
              "      <td>0.008427</td>\n",
              "      <td>0.009924</td>\n",
              "      <td>0.902135</td>\n",
              "      <td>0.136333</td>\n",
              "      <td>0.919876</td>\n",
              "      <td>0.975624</td>\n",
              "      <td>0.004561</td>\n",
              "      <td>0.822281</td>\n",
              "    </tr>\n",
              "    <tr>\n",
              "      <th>2</th>\n",
              "      <td>2017-05-28</td>\n",
              "      <td>0.123977</td>\n",
              "      <td>0.048367</td>\n",
              "      <td>0.000530</td>\n",
              "      <td>0.112229</td>\n",
              "      <td>1.001977</td>\n",
              "      <td>0.084757</td>\n",
              "      <td>0.406768</td>\n",
              "      <td>0.495308</td>\n",
              "      <td>0.679257</td>\n",
              "      <td>...</td>\n",
              "      <td>0.004056</td>\n",
              "      <td>0.005901</td>\n",
              "      <td>0.007327</td>\n",
              "      <td>0.008446</td>\n",
              "      <td>0.939654</td>\n",
              "      <td>0.134938</td>\n",
              "      <td>0.958699</td>\n",
              "      <td>0.974067</td>\n",
              "      <td>0.011736</td>\n",
              "      <td>0.853498</td>\n",
              "    </tr>\n",
              "    <tr>\n",
              "      <th>3</th>\n",
              "      <td>2017-06-13</td>\n",
              "      <td>0.117169</td>\n",
              "      <td>0.030063</td>\n",
              "      <td>0.000783</td>\n",
              "      <td>0.102838</td>\n",
              "      <td>0.704016</td>\n",
              "      <td>0.048382</td>\n",
              "      <td>0.405175</td>\n",
              "      <td>0.508670</td>\n",
              "      <td>0.515282</td>\n",
              "      <td>...</td>\n",
              "      <td>0.006969</td>\n",
              "      <td>0.002520</td>\n",
              "      <td>0.007053</td>\n",
              "      <td>0.006614</td>\n",
              "      <td>0.913205</td>\n",
              "      <td>0.140058</td>\n",
              "      <td>0.926341</td>\n",
              "      <td>0.975499</td>\n",
              "      <td>0.007571</td>\n",
              "      <td>0.844667</td>\n",
              "    </tr>\n",
              "    <tr>\n",
              "      <th>4</th>\n",
              "      <td>2017-07-16</td>\n",
              "      <td>0.117325</td>\n",
              "      <td>0.054221</td>\n",
              "      <td>0.006698</td>\n",
              "      <td>0.094311</td>\n",
              "      <td>0.917133</td>\n",
              "      <td>0.039259</td>\n",
              "      <td>0.487460</td>\n",
              "      <td>0.216507</td>\n",
              "      <td>0.507712</td>\n",
              "      <td>...</td>\n",
              "      <td>0.001770</td>\n",
              "      <td>0.000155</td>\n",
              "      <td>0.007728</td>\n",
              "      <td>0.005511</td>\n",
              "      <td>0.921026</td>\n",
              "      <td>0.131620</td>\n",
              "      <td>0.933479</td>\n",
              "      <td>0.978027</td>\n",
              "      <td>0.018200</td>\n",
              "      <td>0.811199</td>\n",
              "    </tr>\n",
              "  </tbody>\n",
              "</table>\n",
              "<p>5 rows × 22 columns</p>\n",
              "</div>\n",
              "      <button class=\"colab-df-convert\" onclick=\"convertToInteractive('df-3efe58e7-575d-48e3-a09a-d77797c14d8b')\"\n",
              "              title=\"Convert this dataframe to an interactive table.\"\n",
              "              style=\"display:none;\">\n",
              "        \n",
              "  <svg xmlns=\"http://www.w3.org/2000/svg\" height=\"24px\"viewBox=\"0 0 24 24\"\n",
              "       width=\"24px\">\n",
              "    <path d=\"M0 0h24v24H0V0z\" fill=\"none\"/>\n",
              "    <path d=\"M18.56 5.44l.94 2.06.94-2.06 2.06-.94-2.06-.94-.94-2.06-.94 2.06-2.06.94zm-11 1L8.5 8.5l.94-2.06 2.06-.94-2.06-.94L8.5 2.5l-.94 2.06-2.06.94zm10 10l.94 2.06.94-2.06 2.06-.94-2.06-.94-.94-2.06-.94 2.06-2.06.94z\"/><path d=\"M17.41 7.96l-1.37-1.37c-.4-.4-.92-.59-1.43-.59-.52 0-1.04.2-1.43.59L10.3 9.45l-7.72 7.72c-.78.78-.78 2.05 0 2.83L4 21.41c.39.39.9.59 1.41.59.51 0 1.02-.2 1.41-.59l7.78-7.78 2.81-2.81c.8-.78.8-2.07 0-2.86zM5.41 20L4 18.59l7.72-7.72 1.47 1.35L5.41 20z\"/>\n",
              "  </svg>\n",
              "      </button>\n",
              "      \n",
              "  <style>\n",
              "    .colab-df-container {\n",
              "      display:flex;\n",
              "      flex-wrap:wrap;\n",
              "      gap: 12px;\n",
              "    }\n",
              "\n",
              "    .colab-df-convert {\n",
              "      background-color: #E8F0FE;\n",
              "      border: none;\n",
              "      border-radius: 50%;\n",
              "      cursor: pointer;\n",
              "      display: none;\n",
              "      fill: #1967D2;\n",
              "      height: 32px;\n",
              "      padding: 0 0 0 0;\n",
              "      width: 32px;\n",
              "    }\n",
              "\n",
              "    .colab-df-convert:hover {\n",
              "      background-color: #E2EBFA;\n",
              "      box-shadow: 0px 1px 2px rgba(60, 64, 67, 0.3), 0px 1px 3px 1px rgba(60, 64, 67, 0.15);\n",
              "      fill: #174EA6;\n",
              "    }\n",
              "\n",
              "    [theme=dark] .colab-df-convert {\n",
              "      background-color: #3B4455;\n",
              "      fill: #D2E3FC;\n",
              "    }\n",
              "\n",
              "    [theme=dark] .colab-df-convert:hover {\n",
              "      background-color: #434B5C;\n",
              "      box-shadow: 0px 1px 3px 1px rgba(0, 0, 0, 0.15);\n",
              "      filter: drop-shadow(0px 1px 2px rgba(0, 0, 0, 0.3));\n",
              "      fill: #FFFFFF;\n",
              "    }\n",
              "  </style>\n",
              "\n",
              "      <script>\n",
              "        const buttonEl =\n",
              "          document.querySelector('#df-3efe58e7-575d-48e3-a09a-d77797c14d8b button.colab-df-convert');\n",
              "        buttonEl.style.display =\n",
              "          google.colab.kernel.accessAllowed ? 'block' : 'none';\n",
              "\n",
              "        async function convertToInteractive(key) {\n",
              "          const element = document.querySelector('#df-3efe58e7-575d-48e3-a09a-d77797c14d8b');\n",
              "          const dataTable =\n",
              "            await google.colab.kernel.invokeFunction('convertToInteractive',\n",
              "                                                     [key], {});\n",
              "          if (!dataTable) return;\n",
              "\n",
              "          const docLinkHtml = 'Like what you see? Visit the ' +\n",
              "            '<a target=\"_blank\" href=https://colab.research.google.com/notebooks/data_table.ipynb>data table notebook</a>'\n",
              "            + ' to learn more about interactive tables.';\n",
              "          element.innerHTML = '';\n",
              "          dataTable['output_type'] = 'display_data';\n",
              "          await google.colab.output.renderOutput(dataTable, element);\n",
              "          const docLink = document.createElement('div');\n",
              "          docLink.innerHTML = docLinkHtml;\n",
              "          element.appendChild(docLink);\n",
              "        }\n",
              "      </script>\n",
              "    </div>\n",
              "  </div>\n",
              "  "
            ]
          },
          "metadata": {},
          "execution_count": 7
        }
      ]
    },
    {
      "cell_type": "code",
      "source": [
        "train_df_S.info()"
      ],
      "metadata": {
        "colab": {
          "base_uri": "https://localhost:8080/"
        },
        "id": "bP4-c4hLG4hV",
        "outputId": "aaefc696-6e3d-48a9-eb68-5fac4251fdee"
      },
      "execution_count": 9,
      "outputs": [
        {
          "output_type": "stream",
          "name": "stdout",
          "text": [
            "<class 'pandas.core.frame.DataFrame'>\n",
            "RangeIndex: 300000 entries, 0 to 299999\n",
            "Data columns (total 22 columns):\n",
            " #   Column  Non-Null Count   Dtype  \n",
            "---  ------  --------------   -----  \n",
            " 0   S_2     300000 non-null  object \n",
            " 1   S_3     243539 non-null  float64\n",
            " 2   S_5     300000 non-null  float64\n",
            " 3   S_6     300000 non-null  float64\n",
            " 4   S_7     243539 non-null  float64\n",
            " 5   S_8     300000 non-null  float64\n",
            " 6   S_9     140375 non-null  float64\n",
            " 7   S_11    300000 non-null  float64\n",
            " 8   S_12    300000 non-null  float64\n",
            " 9   S_13    300000 non-null  float64\n",
            " 10  S_15    300000 non-null  float64\n",
            " 11  S_16    300000 non-null  float64\n",
            " 12  S_17    300000 non-null  float64\n",
            " 13  S_18    300000 non-null  float64\n",
            " 14  S_19    300000 non-null  float64\n",
            " 15  S_20    300000 non-null  float64\n",
            " 16  S_22    298965 non-null  float64\n",
            " 17  S_23    299985 non-null  float64\n",
            " 18  S_24    298989 non-null  float64\n",
            " 19  S_25    299273 non-null  float64\n",
            " 20  S_26    299950 non-null  float64\n",
            " 21  S_27    223221 non-null  float64\n",
            "dtypes: float64(21), object(1)\n",
            "memory usage: 50.4+ MB\n"
          ]
        }
      ]
    },
    {
      "cell_type": "code",
      "source": [
        "train_df_S.drop('S_2', axis=1, inplace=True)"
      ],
      "metadata": {
        "id": "cG0bOcLOHA8Y"
      },
      "execution_count": 10,
      "outputs": []
    },
    {
      "cell_type": "markdown",
      "source": [
        "### Feature Selection using VarianceThreshold"
      ],
      "metadata": {
        "id": "npd2BITVHQb9"
      }
    },
    {
      "cell_type": "code",
      "source": [
        "from sklearn.feature_selection import VarianceThreshold\n",
        "sel = VarianceThreshold(threshold=0)\n",
        "sel.fit(train_df_S)"
      ],
      "metadata": {
        "colab": {
          "base_uri": "https://localhost:8080/"
        },
        "id": "__0YoVubHgLG",
        "outputId": "3bcbd43d-e1e5-43d8-cc06-c9f5589cc902"
      },
      "execution_count": 11,
      "outputs": [
        {
          "output_type": "execute_result",
          "data": {
            "text/plain": [
              "VarianceThreshold(threshold=0)"
            ]
          },
          "metadata": {},
          "execution_count": 11
        }
      ]
    },
    {
      "cell_type": "code",
      "source": [
        "sel.get_support()"
      ],
      "metadata": {
        "colab": {
          "base_uri": "https://localhost:8080/"
        },
        "id": "Z8GJGY_GHiFi",
        "outputId": "25cd6fd6-956e-4dfc-85e0-4ba67830fb09"
      },
      "execution_count": 12,
      "outputs": [
        {
          "output_type": "execute_result",
          "data": {
            "text/plain": [
              "array([ True,  True,  True,  True,  True,  True,  True,  True,  True,\n",
              "        True,  True,  True,  True,  True,  True,  True,  True,  True,\n",
              "        True,  True,  True])"
            ]
          },
          "metadata": {},
          "execution_count": 12
        }
      ]
    },
    {
      "cell_type": "markdown",
      "source": [
        "* There are no column in **S_Variables** having same values throughout."
      ],
      "metadata": {
        "id": "7X1vU5paHkJT"
      }
    },
    {
      "cell_type": "code",
      "source": [
        "sel_S = VarianceThreshold(threshold=0.03)\n",
        "sel_S.fit(train_df_S)"
      ],
      "metadata": {
        "colab": {
          "base_uri": "https://localhost:8080/"
        },
        "id": "jNekayX6HtU0",
        "outputId": "c5c4f757-cbf1-4501-9144-8b916fa672c2"
      },
      "execution_count": 17,
      "outputs": [
        {
          "output_type": "execute_result",
          "data": {
            "text/plain": [
              "VarianceThreshold(threshold=0.03)"
            ]
          },
          "metadata": {},
          "execution_count": 17
        }
      ]
    },
    {
      "cell_type": "code",
      "source": [
        "sel_S.get_support()"
      ],
      "metadata": {
        "colab": {
          "base_uri": "https://localhost:8080/"
        },
        "id": "-NAekQJ2H1xC",
        "outputId": "914b970e-8fa9-46f7-d7c9-0a56b3ce9e83"
      },
      "execution_count": 18,
      "outputs": [
        {
          "output_type": "execute_result",
          "data": {
            "text/plain": [
              "array([ True,  True,  True,  True,  True,  True,  True,  True,  True,\n",
              "        True,  True,  True, False, False, False,  True,  True,  True,\n",
              "        True,  True,  True])"
            ]
          },
          "metadata": {},
          "execution_count": 18
        }
      ]
    },
    {
      "cell_type": "markdown",
      "source": [
        "* Here we don't have proper idea for which features to be considered, so we will be working with Wrapper techniques."
      ],
      "metadata": {
        "id": "8yPB7vAPH4eL"
      }
    },
    {
      "cell_type": "markdown",
      "source": [
        "### Wrapper Techniques"
      ],
      "metadata": {
        "id": "RTe--ynEILyp"
      }
    },
    {
      "cell_type": "code",
      "source": [
        "from sklearn.model_selection import train_test_split\n",
        "from sklearn.ensemble import RandomForestClassifier"
      ],
      "metadata": {
        "id": "KT5nP6gVITxv"
      },
      "execution_count": 19,
      "outputs": []
    },
    {
      "cell_type": "code",
      "source": [
        "y_train = pd.read_csv(\"/content/drive/MyDrive/AMEX_default_prediction_kaggle/labels_300000\")['target']\n",
        "y_train.value_counts()"
      ],
      "metadata": {
        "colab": {
          "base_uri": "https://localhost:8080/"
        },
        "id": "NJIydo91IUVK",
        "outputId": "ed316554-eed6-4fea-8e04-c27138690ef9"
      },
      "execution_count": 22,
      "outputs": [
        {
          "output_type": "execute_result",
          "data": {
            "text/plain": [
              "0    224534\n",
              "1     75466\n",
              "Name: target, dtype: int64"
            ]
          },
          "metadata": {},
          "execution_count": 22
        }
      ]
    },
    {
      "cell_type": "code",
      "source": [
        "X_train_forward_S, X_test_forward_S, y_train_forward_S, y_test_forward_S = train_test_split(train_df_S, y_train, test_size=0.2, random_state=42)\n",
        "X_train_forward_S.shape, X_test_forward_S.shape, y_train_forward_S.shape, y_test_forward_S.shape"
      ],
      "metadata": {
        "colab": {
          "base_uri": "https://localhost:8080/"
        },
        "id": "NGke66ZrIYfz",
        "outputId": "9f258de5-1aa1-42f6-9618-6ad46aa4d164"
      },
      "execution_count": 23,
      "outputs": [
        {
          "output_type": "execute_result",
          "data": {
            "text/plain": [
              "((240000, 21), (60000, 21), (240000,), (60000,))"
            ]
          },
          "metadata": {},
          "execution_count": 23
        }
      ]
    },
    {
      "cell_type": "code",
      "source": [
        "# find and remove correlated features\n",
        "def correlation(dataset, threshold):\n",
        "    col_corr = set()  # Set of all the names of correlated columns\n",
        "    corr_matrix = dataset.corr()\n",
        "    for i in range(len(corr_matrix.columns)):\n",
        "        for j in range(i):\n",
        "            if abs(corr_matrix.iloc[i, j]) > threshold: # we are interested in absolute coeff value\n",
        "                colname = corr_matrix.columns[i]  # getting the name of column\n",
        "                col_corr.add(colname)\n",
        "    return col_corr\n",
        "\n",
        "corr_features = correlation(X_train_forward_S, 0.8)\n",
        "print('correlated features: ', len(set(corr_features)) )"
      ],
      "metadata": {
        "colab": {
          "base_uri": "https://localhost:8080/"
        },
        "id": "xU6K7gE3JAD-",
        "outputId": "5b64f060-1518-4d25-fdfb-1144f34b6b70"
      },
      "execution_count": 25,
      "outputs": [
        {
          "output_type": "stream",
          "name": "stdout",
          "text": [
            "correlated features:  2\n"
          ]
        }
      ]
    },
    {
      "cell_type": "code",
      "source": [
        "corr_features"
      ],
      "metadata": {
        "colab": {
          "base_uri": "https://localhost:8080/"
        },
        "id": "3jLpm-LqJQ30",
        "outputId": "9c27b2e6-2306-4dac-d5f7-a729c00f805e"
      },
      "execution_count": 26,
      "outputs": [
        {
          "output_type": "execute_result",
          "data": {
            "text/plain": [
              "{'S_24', 'S_7'}"
            ]
          },
          "metadata": {},
          "execution_count": 26
        }
      ]
    },
    {
      "cell_type": "code",
      "source": [
        "X_train_forward_S.drop(labels=corr_features, axis=1, inplace=True)\n",
        "X_train_forward_S.shape"
      ],
      "metadata": {
        "colab": {
          "base_uri": "https://localhost:8080/"
        },
        "id": "fC2tOYVvJW6L",
        "outputId": "dc788241-73e8-4a00-98f8-148e42c4d6e2"
      },
      "execution_count": 27,
      "outputs": [
        {
          "output_type": "execute_result",
          "data": {
            "text/plain": [
              "(240000, 19)"
            ]
          },
          "metadata": {},
          "execution_count": 27
        }
      ]
    },
    {
      "cell_type": "code",
      "source": [
        "X_test_forward_S.drop(labels=corr_features, axis=1, inplace=True)\n",
        "X_test_forward_S.shape"
      ],
      "metadata": {
        "colab": {
          "base_uri": "https://localhost:8080/"
        },
        "id": "qtq0JDf0JiZU",
        "outputId": "1fb3dad9-af43-4863-fe98-8ea653ad58e2"
      },
      "execution_count": 28,
      "outputs": [
        {
          "output_type": "execute_result",
          "data": {
            "text/plain": [
              "(60000, 19)"
            ]
          },
          "metadata": {},
          "execution_count": 28
        }
      ]
    },
    {
      "cell_type": "code",
      "source": [
        "import joblib\n",
        "import sys\n",
        "sys.modules['sklearn.externals.joblib'] = joblib\n",
        "\n",
        "from mlxtend.feature_selection import SequentialFeatureSelector as SFS"
      ],
      "metadata": {
        "id": "vBtloddiJtuT"
      },
      "execution_count": 29,
      "outputs": []
    },
    {
      "cell_type": "code",
      "source": [
        "train_df_S.info()"
      ],
      "metadata": {
        "colab": {
          "base_uri": "https://localhost:8080/"
        },
        "id": "tDGVuSpoK8kn",
        "outputId": "e47f955e-7a31-449c-e6d5-48057b235f26"
      },
      "execution_count": 32,
      "outputs": [
        {
          "output_type": "stream",
          "name": "stdout",
          "text": [
            "<class 'pandas.core.frame.DataFrame'>\n",
            "RangeIndex: 300000 entries, 0 to 299999\n",
            "Data columns (total 21 columns):\n",
            " #   Column  Non-Null Count   Dtype  \n",
            "---  ------  --------------   -----  \n",
            " 0   S_3     300000 non-null  float64\n",
            " 1   S_5     300000 non-null  float64\n",
            " 2   S_6     300000 non-null  float64\n",
            " 3   S_7     300000 non-null  float64\n",
            " 4   S_8     300000 non-null  float64\n",
            " 5   S_9     300000 non-null  float64\n",
            " 6   S_11    300000 non-null  float64\n",
            " 7   S_12    300000 non-null  float64\n",
            " 8   S_13    300000 non-null  float64\n",
            " 9   S_15    300000 non-null  float64\n",
            " 10  S_16    300000 non-null  float64\n",
            " 11  S_17    300000 non-null  float64\n",
            " 12  S_18    300000 non-null  float64\n",
            " 13  S_19    300000 non-null  float64\n",
            " 14  S_20    300000 non-null  float64\n",
            " 15  S_22    300000 non-null  float64\n",
            " 16  S_23    300000 non-null  float64\n",
            " 17  S_24    300000 non-null  float64\n",
            " 18  S_25    300000 non-null  float64\n",
            " 19  S_26    300000 non-null  float64\n",
            " 20  S_27    300000 non-null  float64\n",
            "dtypes: float64(21)\n",
            "memory usage: 48.1 MB\n"
          ]
        }
      ]
    },
    {
      "cell_type": "code",
      "source": [
        "X_train_forward_S['target'] = y_train_forward_S"
      ],
      "metadata": {
        "id": "GLPr6iJFMEi5"
      },
      "execution_count": 34,
      "outputs": []
    },
    {
      "cell_type": "code",
      "source": [
        "X_train_forward_S_sample = X_train_forward_S.sample(n=15000)"
      ],
      "metadata": {
        "id": "RvNISxNgMR_Q"
      },
      "execution_count": 35,
      "outputs": []
    },
    {
      "cell_type": "code",
      "source": [
        "y_train_forward_S_sample = X_train_forward_S_sample['target']\n",
        "X_train_forward_S_sample.drop('target', axis=1, inplace=True)"
      ],
      "metadata": {
        "id": "234K4VmAMS3n"
      },
      "execution_count": 36,
      "outputs": []
    },
    {
      "cell_type": "code",
      "source": [
        "X_train_forward_S_sample = X_train_forward_S_sample.astype('float64')"
      ],
      "metadata": {
        "id": "jQAC7CXsM2lh"
      },
      "execution_count": 38,
      "outputs": []
    },
    {
      "cell_type": "code",
      "source": [
        "X_train_forward_S_sample.info()"
      ],
      "metadata": {
        "colab": {
          "base_uri": "https://localhost:8080/"
        },
        "id": "5N-IC7twNPi2",
        "outputId": "c785a242-cdb6-49b8-865c-599467abb86b"
      },
      "execution_count": 40,
      "outputs": [
        {
          "output_type": "stream",
          "name": "stdout",
          "text": [
            "<class 'pandas.core.frame.DataFrame'>\n",
            "Int64Index: 15000 entries, 32492 to 120188\n",
            "Data columns (total 19 columns):\n",
            " #   Column  Non-Null Count  Dtype  \n",
            "---  ------  --------------  -----  \n",
            " 0   S_3     12114 non-null  float64\n",
            " 1   S_5     15000 non-null  float64\n",
            " 2   S_6     15000 non-null  float64\n",
            " 3   S_8     15000 non-null  float64\n",
            " 4   S_9     6971 non-null   float64\n",
            " 5   S_11    15000 non-null  float64\n",
            " 6   S_12    15000 non-null  float64\n",
            " 7   S_13    15000 non-null  float64\n",
            " 8   S_15    15000 non-null  float64\n",
            " 9   S_16    15000 non-null  float64\n",
            " 10  S_17    15000 non-null  float64\n",
            " 11  S_18    15000 non-null  float64\n",
            " 12  S_19    15000 non-null  float64\n",
            " 13  S_20    15000 non-null  float64\n",
            " 14  S_22    14960 non-null  float64\n",
            " 15  S_23    15000 non-null  float64\n",
            " 16  S_25    14958 non-null  float64\n",
            " 17  S_26    14997 non-null  float64\n",
            " 18  S_27    11134 non-null  float64\n",
            "dtypes: float64(19)\n",
            "memory usage: 2.3 MB\n"
          ]
        }
      ]
    },
    {
      "cell_type": "code",
      "source": [
        "for ele in X_train_forward_S_sample.columns :\n",
        "  if X_train_forward_S_sample[ele].isna().sum() != 0:\n",
        "    mean_value = X_train_forward_S_sample[ele].mean()\n",
        "    X_train_forward_S_sample[ele].fillna(mean_value, inplace=True)"
      ],
      "metadata": {
        "id": "KpKm85gJNziQ"
      },
      "execution_count": 41,
      "outputs": []
    },
    {
      "cell_type": "code",
      "source": [
        "X_train_forward_S_sample.info()"
      ],
      "metadata": {
        "colab": {
          "base_uri": "https://localhost:8080/"
        },
        "id": "d-Ci8c_wN1_Y",
        "outputId": "07911e1d-f19e-4ab2-c700-7c0b04cfe3db"
      },
      "execution_count": 42,
      "outputs": [
        {
          "output_type": "stream",
          "name": "stdout",
          "text": [
            "<class 'pandas.core.frame.DataFrame'>\n",
            "Int64Index: 15000 entries, 32492 to 120188\n",
            "Data columns (total 19 columns):\n",
            " #   Column  Non-Null Count  Dtype  \n",
            "---  ------  --------------  -----  \n",
            " 0   S_3     15000 non-null  float64\n",
            " 1   S_5     15000 non-null  float64\n",
            " 2   S_6     15000 non-null  float64\n",
            " 3   S_8     15000 non-null  float64\n",
            " 4   S_9     15000 non-null  float64\n",
            " 5   S_11    15000 non-null  float64\n",
            " 6   S_12    15000 non-null  float64\n",
            " 7   S_13    15000 non-null  float64\n",
            " 8   S_15    15000 non-null  float64\n",
            " 9   S_16    15000 non-null  float64\n",
            " 10  S_17    15000 non-null  float64\n",
            " 11  S_18    15000 non-null  float64\n",
            " 12  S_19    15000 non-null  float64\n",
            " 13  S_20    15000 non-null  float64\n",
            " 14  S_22    15000 non-null  float64\n",
            " 15  S_23    15000 non-null  float64\n",
            " 16  S_25    15000 non-null  float64\n",
            " 17  S_26    15000 non-null  float64\n",
            " 18  S_27    15000 non-null  float64\n",
            "dtypes: float64(19)\n",
            "memory usage: 2.3 MB\n"
          ]
        }
      ]
    },
    {
      "cell_type": "markdown",
      "source": [
        "### Forward Feature Selection"
      ],
      "metadata": {
        "id": "Dpyr5QjzwDL_"
      }
    },
    {
      "cell_type": "code",
      "source": [
        "sfs1_s = SFS(RandomForestClassifier(), \n",
        "           k_features=8, \n",
        "           forward=True, \n",
        "           floating=False, \n",
        "           verbose=2,\n",
        "           scoring='roc_auc',\n",
        "           cv=3)\n",
        "\n",
        "sfs1_s = sfs1_s.fit(np.array(X_train_forward_S_sample), y_train_forward_S_sample)"
      ],
      "metadata": {
        "colab": {
          "base_uri": "https://localhost:8080/"
        },
        "id": "sWsDkISkJ2_e",
        "outputId": "f6776a35-7230-4847-e5e8-c397efcf90fb"
      },
      "execution_count": 46,
      "outputs": [
        {
          "output_type": "stream",
          "name": "stderr",
          "text": [
            "[Parallel(n_jobs=1)]: Using backend SequentialBackend with 1 concurrent workers.\n",
            "[Parallel(n_jobs=1)]: Done   1 out of   1 | elapsed:    7.5s remaining:    0.0s\n",
            "[Parallel(n_jobs=1)]: Done  19 out of  19 | elapsed:  2.3min finished\n",
            "\n",
            "[2022-07-19 06:57:16] Features: 1/8 -- score: 0.5126356781054812[Parallel(n_jobs=1)]: Using backend SequentialBackend with 1 concurrent workers.\n",
            "[Parallel(n_jobs=1)]: Done   1 out of   1 | elapsed:    6.1s remaining:    0.0s\n",
            "[Parallel(n_jobs=1)]: Done  18 out of  18 | elapsed:  1.9min finished\n",
            "\n",
            "[2022-07-19 06:59:08] Features: 2/8 -- score: 0.5125143912329714[Parallel(n_jobs=1)]: Using backend SequentialBackend with 1 concurrent workers.\n",
            "[Parallel(n_jobs=1)]: Done   1 out of   1 | elapsed:    5.9s remaining:    0.0s\n",
            "[Parallel(n_jobs=1)]: Done  17 out of  17 | elapsed:  1.7min finished\n",
            "\n",
            "[2022-07-19 07:00:48] Features: 3/8 -- score: 0.521989397264495[Parallel(n_jobs=1)]: Using backend SequentialBackend with 1 concurrent workers.\n",
            "[Parallel(n_jobs=1)]: Done   1 out of   1 | elapsed:    8.9s remaining:    0.0s\n",
            "[Parallel(n_jobs=1)]: Done  16 out of  16 | elapsed:  2.4min finished\n",
            "\n",
            "[2022-07-19 07:03:11] Features: 4/8 -- score: 0.5202306338912074[Parallel(n_jobs=1)]: Using backend SequentialBackend with 1 concurrent workers.\n",
            "[Parallel(n_jobs=1)]: Done   1 out of   1 | elapsed:    9.1s remaining:    0.0s\n",
            "[Parallel(n_jobs=1)]: Done  15 out of  15 | elapsed:  2.3min finished\n",
            "\n",
            "[2022-07-19 07:05:27] Features: 5/8 -- score: 0.5242822199240256[Parallel(n_jobs=1)]: Using backend SequentialBackend with 1 concurrent workers.\n",
            "[Parallel(n_jobs=1)]: Done   1 out of   1 | elapsed:    9.2s remaining:    0.0s\n",
            "[Parallel(n_jobs=1)]: Done  14 out of  14 | elapsed:  2.1min finished\n",
            "\n",
            "[2022-07-19 07:07:34] Features: 6/8 -- score: 0.5196701242789998[Parallel(n_jobs=1)]: Using backend SequentialBackend with 1 concurrent workers.\n",
            "[Parallel(n_jobs=1)]: Done   1 out of   1 | elapsed:    8.9s remaining:    0.0s\n",
            "[Parallel(n_jobs=1)]: Done  13 out of  13 | elapsed:  1.9min finished\n",
            "\n",
            "[2022-07-19 07:09:30] Features: 7/8 -- score: 0.5205421374656474[Parallel(n_jobs=1)]: Using backend SequentialBackend with 1 concurrent workers.\n",
            "[Parallel(n_jobs=1)]: Done   1 out of   1 | elapsed:    9.1s remaining:    0.0s\n",
            "[Parallel(n_jobs=1)]: Done  12 out of  12 | elapsed:  1.8min finished\n",
            "\n",
            "[2022-07-19 07:11:18] Features: 8/8 -- score: 0.5203722082199295"
          ]
        }
      ]
    },
    {
      "cell_type": "code",
      "source": [
        "X_train_forward_S_sample.columns[list(sfs1_s.k_feature_idx_)]"
      ],
      "metadata": {
        "colab": {
          "base_uri": "https://localhost:8080/"
        },
        "id": "xlwrNFskKuSD",
        "outputId": "d3bd40ea-4ce6-4796-d08d-54fb153d659e"
      },
      "execution_count": 48,
      "outputs": [
        {
          "output_type": "execute_result",
          "data": {
            "text/plain": [
              "Index(['S_5', 'S_9', 'S_15', 'S_17', 'S_18', 'S_22', 'S_25', 'S_27'], dtype='object')"
            ]
          },
          "metadata": {},
          "execution_count": 48
        }
      ]
    },
    {
      "cell_type": "markdown",
      "source": [
        "### Recursive Feature Elimination"
      ],
      "metadata": {
        "id": "Bb0oFjWFTUhx"
      }
    },
    {
      "cell_type": "code",
      "source": [
        "from sklearn.feature_selection import RFE"
      ],
      "metadata": {
        "id": "GVLGgfQ4Tf4e"
      },
      "execution_count": 49,
      "outputs": []
    },
    {
      "cell_type": "code",
      "source": [
        "# Init the transformer\n",
        "rfe_S = RFE(estimator=RandomForestClassifier(), n_features_to_select=8)\n",
        "\n",
        "# Fit to the training data\n",
        "rfe_S = rfe_S.fit(X_train_forward_S_sample, y_train_forward_S_sample)"
      ],
      "metadata": {
        "id": "ST1I2SW1TjkC"
      },
      "execution_count": 50,
      "outputs": []
    },
    {
      "cell_type": "code",
      "source": [
        "X_train_forward_S_sample.columns[rfe_S.support_]"
      ],
      "metadata": {
        "colab": {
          "base_uri": "https://localhost:8080/"
        },
        "id": "AhYGAD2cTwqQ",
        "outputId": "6471aa78-d017-4807-a6a7-c5a536422a17"
      },
      "execution_count": 51,
      "outputs": [
        {
          "output_type": "execute_result",
          "data": {
            "text/plain": [
              "Index(['S_5', 'S_11', 'S_12', 'S_17', 'S_18', 'S_19', 'S_20', 'S_25'], dtype='object')"
            ]
          },
          "metadata": {},
          "execution_count": 51
        }
      ]
    },
    {
      "cell_type": "markdown",
      "source": [
        "## P-Variables"
      ],
      "metadata": {
        "id": "YxMOpo2dT8U6"
      }
    },
    {
      "cell_type": "code",
      "source": [
        "train_df_P = train_df.copy()\n",
        "train_df_P.head()"
      ],
      "metadata": {
        "colab": {
          "base_uri": "https://localhost:8080/",
          "height": 386
        },
        "id": "wxN-elu5V-HP",
        "outputId": "3abd400b-fbf5-4083-8ab1-910dfce03536"
      },
      "execution_count": 52,
      "outputs": [
        {
          "output_type": "execute_result",
          "data": {
            "text/plain": [
              "                                         customer_ID         S_2       P_2  \\\n",
              "0  0000099d6bd597052cdcda90ffabf56573fe9d7c79be5f...  2017-03-09  0.938469   \n",
              "1  0000099d6bd597052cdcda90ffabf56573fe9d7c79be5f...  2017-04-07  0.936665   \n",
              "2  0000099d6bd597052cdcda90ffabf56573fe9d7c79be5f...  2017-05-28  0.954180   \n",
              "3  0000099d6bd597052cdcda90ffabf56573fe9d7c79be5f...  2017-06-13  0.960384   \n",
              "4  0000099d6bd597052cdcda90ffabf56573fe9d7c79be5f...  2017-07-16  0.947248   \n",
              "\n",
              "       D_39       B_1       B_2       R_1       S_3      D_41       B_3  ...  \\\n",
              "0  0.001733  0.008724  1.006838  0.009228  0.124035  0.008771  0.004709  ...   \n",
              "1  0.005775  0.004923  1.000653  0.006151  0.126750  0.000798  0.002714  ...   \n",
              "2  0.091505  0.021655  1.009672  0.006815  0.123977  0.007598  0.009423  ...   \n",
              "3  0.002455  0.013683  1.002700  0.001373  0.117169  0.000685  0.005531  ...   \n",
              "4  0.002483  0.015193  1.000727  0.007605  0.117325  0.004653  0.009312  ...   \n",
              "\n",
              "   D_136  D_137  D_138     D_139     D_140     D_141  D_142     D_143  \\\n",
              "0    NaN    NaN    NaN  0.002427  0.003706  0.003818    NaN  0.000569   \n",
              "1    NaN    NaN    NaN  0.003954  0.003167  0.005032    NaN  0.009576   \n",
              "2    NaN    NaN    NaN  0.003269  0.007329  0.000427    NaN  0.003429   \n",
              "3    NaN    NaN    NaN  0.006117  0.004516  0.003200    NaN  0.008419   \n",
              "4    NaN    NaN    NaN  0.003671  0.004946  0.008889    NaN  0.001670   \n",
              "\n",
              "      D_144     D_145  \n",
              "0  0.000610  0.002674  \n",
              "1  0.005492  0.009217  \n",
              "2  0.006986  0.002603  \n",
              "3  0.006527  0.009600  \n",
              "4  0.008126  0.009827  \n",
              "\n",
              "[5 rows x 190 columns]"
            ],
            "text/html": [
              "\n",
              "  <div id=\"df-701c0589-c1d7-48c8-a749-c316b2c382aa\">\n",
              "    <div class=\"colab-df-container\">\n",
              "      <div>\n",
              "<style scoped>\n",
              "    .dataframe tbody tr th:only-of-type {\n",
              "        vertical-align: middle;\n",
              "    }\n",
              "\n",
              "    .dataframe tbody tr th {\n",
              "        vertical-align: top;\n",
              "    }\n",
              "\n",
              "    .dataframe thead th {\n",
              "        text-align: right;\n",
              "    }\n",
              "</style>\n",
              "<table border=\"1\" class=\"dataframe\">\n",
              "  <thead>\n",
              "    <tr style=\"text-align: right;\">\n",
              "      <th></th>\n",
              "      <th>customer_ID</th>\n",
              "      <th>S_2</th>\n",
              "      <th>P_2</th>\n",
              "      <th>D_39</th>\n",
              "      <th>B_1</th>\n",
              "      <th>B_2</th>\n",
              "      <th>R_1</th>\n",
              "      <th>S_3</th>\n",
              "      <th>D_41</th>\n",
              "      <th>B_3</th>\n",
              "      <th>...</th>\n",
              "      <th>D_136</th>\n",
              "      <th>D_137</th>\n",
              "      <th>D_138</th>\n",
              "      <th>D_139</th>\n",
              "      <th>D_140</th>\n",
              "      <th>D_141</th>\n",
              "      <th>D_142</th>\n",
              "      <th>D_143</th>\n",
              "      <th>D_144</th>\n",
              "      <th>D_145</th>\n",
              "    </tr>\n",
              "  </thead>\n",
              "  <tbody>\n",
              "    <tr>\n",
              "      <th>0</th>\n",
              "      <td>0000099d6bd597052cdcda90ffabf56573fe9d7c79be5f...</td>\n",
              "      <td>2017-03-09</td>\n",
              "      <td>0.938469</td>\n",
              "      <td>0.001733</td>\n",
              "      <td>0.008724</td>\n",
              "      <td>1.006838</td>\n",
              "      <td>0.009228</td>\n",
              "      <td>0.124035</td>\n",
              "      <td>0.008771</td>\n",
              "      <td>0.004709</td>\n",
              "      <td>...</td>\n",
              "      <td>NaN</td>\n",
              "      <td>NaN</td>\n",
              "      <td>NaN</td>\n",
              "      <td>0.002427</td>\n",
              "      <td>0.003706</td>\n",
              "      <td>0.003818</td>\n",
              "      <td>NaN</td>\n",
              "      <td>0.000569</td>\n",
              "      <td>0.000610</td>\n",
              "      <td>0.002674</td>\n",
              "    </tr>\n",
              "    <tr>\n",
              "      <th>1</th>\n",
              "      <td>0000099d6bd597052cdcda90ffabf56573fe9d7c79be5f...</td>\n",
              "      <td>2017-04-07</td>\n",
              "      <td>0.936665</td>\n",
              "      <td>0.005775</td>\n",
              "      <td>0.004923</td>\n",
              "      <td>1.000653</td>\n",
              "      <td>0.006151</td>\n",
              "      <td>0.126750</td>\n",
              "      <td>0.000798</td>\n",
              "      <td>0.002714</td>\n",
              "      <td>...</td>\n",
              "      <td>NaN</td>\n",
              "      <td>NaN</td>\n",
              "      <td>NaN</td>\n",
              "      <td>0.003954</td>\n",
              "      <td>0.003167</td>\n",
              "      <td>0.005032</td>\n",
              "      <td>NaN</td>\n",
              "      <td>0.009576</td>\n",
              "      <td>0.005492</td>\n",
              "      <td>0.009217</td>\n",
              "    </tr>\n",
              "    <tr>\n",
              "      <th>2</th>\n",
              "      <td>0000099d6bd597052cdcda90ffabf56573fe9d7c79be5f...</td>\n",
              "      <td>2017-05-28</td>\n",
              "      <td>0.954180</td>\n",
              "      <td>0.091505</td>\n",
              "      <td>0.021655</td>\n",
              "      <td>1.009672</td>\n",
              "      <td>0.006815</td>\n",
              "      <td>0.123977</td>\n",
              "      <td>0.007598</td>\n",
              "      <td>0.009423</td>\n",
              "      <td>...</td>\n",
              "      <td>NaN</td>\n",
              "      <td>NaN</td>\n",
              "      <td>NaN</td>\n",
              "      <td>0.003269</td>\n",
              "      <td>0.007329</td>\n",
              "      <td>0.000427</td>\n",
              "      <td>NaN</td>\n",
              "      <td>0.003429</td>\n",
              "      <td>0.006986</td>\n",
              "      <td>0.002603</td>\n",
              "    </tr>\n",
              "    <tr>\n",
              "      <th>3</th>\n",
              "      <td>0000099d6bd597052cdcda90ffabf56573fe9d7c79be5f...</td>\n",
              "      <td>2017-06-13</td>\n",
              "      <td>0.960384</td>\n",
              "      <td>0.002455</td>\n",
              "      <td>0.013683</td>\n",
              "      <td>1.002700</td>\n",
              "      <td>0.001373</td>\n",
              "      <td>0.117169</td>\n",
              "      <td>0.000685</td>\n",
              "      <td>0.005531</td>\n",
              "      <td>...</td>\n",
              "      <td>NaN</td>\n",
              "      <td>NaN</td>\n",
              "      <td>NaN</td>\n",
              "      <td>0.006117</td>\n",
              "      <td>0.004516</td>\n",
              "      <td>0.003200</td>\n",
              "      <td>NaN</td>\n",
              "      <td>0.008419</td>\n",
              "      <td>0.006527</td>\n",
              "      <td>0.009600</td>\n",
              "    </tr>\n",
              "    <tr>\n",
              "      <th>4</th>\n",
              "      <td>0000099d6bd597052cdcda90ffabf56573fe9d7c79be5f...</td>\n",
              "      <td>2017-07-16</td>\n",
              "      <td>0.947248</td>\n",
              "      <td>0.002483</td>\n",
              "      <td>0.015193</td>\n",
              "      <td>1.000727</td>\n",
              "      <td>0.007605</td>\n",
              "      <td>0.117325</td>\n",
              "      <td>0.004653</td>\n",
              "      <td>0.009312</td>\n",
              "      <td>...</td>\n",
              "      <td>NaN</td>\n",
              "      <td>NaN</td>\n",
              "      <td>NaN</td>\n",
              "      <td>0.003671</td>\n",
              "      <td>0.004946</td>\n",
              "      <td>0.008889</td>\n",
              "      <td>NaN</td>\n",
              "      <td>0.001670</td>\n",
              "      <td>0.008126</td>\n",
              "      <td>0.009827</td>\n",
              "    </tr>\n",
              "  </tbody>\n",
              "</table>\n",
              "<p>5 rows × 190 columns</p>\n",
              "</div>\n",
              "      <button class=\"colab-df-convert\" onclick=\"convertToInteractive('df-701c0589-c1d7-48c8-a749-c316b2c382aa')\"\n",
              "              title=\"Convert this dataframe to an interactive table.\"\n",
              "              style=\"display:none;\">\n",
              "        \n",
              "  <svg xmlns=\"http://www.w3.org/2000/svg\" height=\"24px\"viewBox=\"0 0 24 24\"\n",
              "       width=\"24px\">\n",
              "    <path d=\"M0 0h24v24H0V0z\" fill=\"none\"/>\n",
              "    <path d=\"M18.56 5.44l.94 2.06.94-2.06 2.06-.94-2.06-.94-.94-2.06-.94 2.06-2.06.94zm-11 1L8.5 8.5l.94-2.06 2.06-.94-2.06-.94L8.5 2.5l-.94 2.06-2.06.94zm10 10l.94 2.06.94-2.06 2.06-.94-2.06-.94-.94-2.06-.94 2.06-2.06.94z\"/><path d=\"M17.41 7.96l-1.37-1.37c-.4-.4-.92-.59-1.43-.59-.52 0-1.04.2-1.43.59L10.3 9.45l-7.72 7.72c-.78.78-.78 2.05 0 2.83L4 21.41c.39.39.9.59 1.41.59.51 0 1.02-.2 1.41-.59l7.78-7.78 2.81-2.81c.8-.78.8-2.07 0-2.86zM5.41 20L4 18.59l7.72-7.72 1.47 1.35L5.41 20z\"/>\n",
              "  </svg>\n",
              "      </button>\n",
              "      \n",
              "  <style>\n",
              "    .colab-df-container {\n",
              "      display:flex;\n",
              "      flex-wrap:wrap;\n",
              "      gap: 12px;\n",
              "    }\n",
              "\n",
              "    .colab-df-convert {\n",
              "      background-color: #E8F0FE;\n",
              "      border: none;\n",
              "      border-radius: 50%;\n",
              "      cursor: pointer;\n",
              "      display: none;\n",
              "      fill: #1967D2;\n",
              "      height: 32px;\n",
              "      padding: 0 0 0 0;\n",
              "      width: 32px;\n",
              "    }\n",
              "\n",
              "    .colab-df-convert:hover {\n",
              "      background-color: #E2EBFA;\n",
              "      box-shadow: 0px 1px 2px rgba(60, 64, 67, 0.3), 0px 1px 3px 1px rgba(60, 64, 67, 0.15);\n",
              "      fill: #174EA6;\n",
              "    }\n",
              "\n",
              "    [theme=dark] .colab-df-convert {\n",
              "      background-color: #3B4455;\n",
              "      fill: #D2E3FC;\n",
              "    }\n",
              "\n",
              "    [theme=dark] .colab-df-convert:hover {\n",
              "      background-color: #434B5C;\n",
              "      box-shadow: 0px 1px 3px 1px rgba(0, 0, 0, 0.15);\n",
              "      filter: drop-shadow(0px 1px 2px rgba(0, 0, 0, 0.3));\n",
              "      fill: #FFFFFF;\n",
              "    }\n",
              "  </style>\n",
              "\n",
              "      <script>\n",
              "        const buttonEl =\n",
              "          document.querySelector('#df-701c0589-c1d7-48c8-a749-c316b2c382aa button.colab-df-convert');\n",
              "        buttonEl.style.display =\n",
              "          google.colab.kernel.accessAllowed ? 'block' : 'none';\n",
              "\n",
              "        async function convertToInteractive(key) {\n",
              "          const element = document.querySelector('#df-701c0589-c1d7-48c8-a749-c316b2c382aa');\n",
              "          const dataTable =\n",
              "            await google.colab.kernel.invokeFunction('convertToInteractive',\n",
              "                                                     [key], {});\n",
              "          if (!dataTable) return;\n",
              "\n",
              "          const docLinkHtml = 'Like what you see? Visit the ' +\n",
              "            '<a target=\"_blank\" href=https://colab.research.google.com/notebooks/data_table.ipynb>data table notebook</a>'\n",
              "            + ' to learn more about interactive tables.';\n",
              "          element.innerHTML = '';\n",
              "          dataTable['output_type'] = 'display_data';\n",
              "          await google.colab.output.renderOutput(dataTable, element);\n",
              "          const docLink = document.createElement('div');\n",
              "          docLink.innerHTML = docLinkHtml;\n",
              "          element.appendChild(docLink);\n",
              "        }\n",
              "      </script>\n",
              "    </div>\n",
              "  </div>\n",
              "  "
            ]
          },
          "metadata": {},
          "execution_count": 52
        }
      ]
    },
    {
      "cell_type": "code",
      "source": [
        "for ele in train_df.columns :\n",
        "  if ele[0] != 'P':\n",
        "    train_df_P.drop(ele, axis=1, inplace=True)\n",
        "\n",
        "train_df_P.shape"
      ],
      "metadata": {
        "colab": {
          "base_uri": "https://localhost:8080/"
        },
        "id": "cr0TvAxKWHwf",
        "outputId": "89c961da-6e71-4d45-bb59-b67830d54f5c"
      },
      "execution_count": 53,
      "outputs": [
        {
          "output_type": "execute_result",
          "data": {
            "text/plain": [
              "(300000, 3)"
            ]
          },
          "metadata": {},
          "execution_count": 53
        }
      ]
    },
    {
      "cell_type": "code",
      "source": [
        "train_df_P.head()"
      ],
      "metadata": {
        "colab": {
          "base_uri": "https://localhost:8080/",
          "height": 206
        },
        "id": "atc714wxWRGH",
        "outputId": "3e753cc8-d600-4c9e-dcae-c6e65c089605"
      },
      "execution_count": 54,
      "outputs": [
        {
          "output_type": "execute_result",
          "data": {
            "text/plain": [
              "        P_2       P_3       P_4\n",
              "0  0.938469  0.736463  0.007554\n",
              "1  0.936665  0.720886  0.004832\n",
              "2  0.954180  0.738044  0.006561\n",
              "3  0.960384  0.741813  0.009559\n",
              "4  0.947248  0.691986  0.008156"
            ],
            "text/html": [
              "\n",
              "  <div id=\"df-4aff791e-d6f9-4f49-b548-2d2e9ecb71f5\">\n",
              "    <div class=\"colab-df-container\">\n",
              "      <div>\n",
              "<style scoped>\n",
              "    .dataframe tbody tr th:only-of-type {\n",
              "        vertical-align: middle;\n",
              "    }\n",
              "\n",
              "    .dataframe tbody tr th {\n",
              "        vertical-align: top;\n",
              "    }\n",
              "\n",
              "    .dataframe thead th {\n",
              "        text-align: right;\n",
              "    }\n",
              "</style>\n",
              "<table border=\"1\" class=\"dataframe\">\n",
              "  <thead>\n",
              "    <tr style=\"text-align: right;\">\n",
              "      <th></th>\n",
              "      <th>P_2</th>\n",
              "      <th>P_3</th>\n",
              "      <th>P_4</th>\n",
              "    </tr>\n",
              "  </thead>\n",
              "  <tbody>\n",
              "    <tr>\n",
              "      <th>0</th>\n",
              "      <td>0.938469</td>\n",
              "      <td>0.736463</td>\n",
              "      <td>0.007554</td>\n",
              "    </tr>\n",
              "    <tr>\n",
              "      <th>1</th>\n",
              "      <td>0.936665</td>\n",
              "      <td>0.720886</td>\n",
              "      <td>0.004832</td>\n",
              "    </tr>\n",
              "    <tr>\n",
              "      <th>2</th>\n",
              "      <td>0.954180</td>\n",
              "      <td>0.738044</td>\n",
              "      <td>0.006561</td>\n",
              "    </tr>\n",
              "    <tr>\n",
              "      <th>3</th>\n",
              "      <td>0.960384</td>\n",
              "      <td>0.741813</td>\n",
              "      <td>0.009559</td>\n",
              "    </tr>\n",
              "    <tr>\n",
              "      <th>4</th>\n",
              "      <td>0.947248</td>\n",
              "      <td>0.691986</td>\n",
              "      <td>0.008156</td>\n",
              "    </tr>\n",
              "  </tbody>\n",
              "</table>\n",
              "</div>\n",
              "      <button class=\"colab-df-convert\" onclick=\"convertToInteractive('df-4aff791e-d6f9-4f49-b548-2d2e9ecb71f5')\"\n",
              "              title=\"Convert this dataframe to an interactive table.\"\n",
              "              style=\"display:none;\">\n",
              "        \n",
              "  <svg xmlns=\"http://www.w3.org/2000/svg\" height=\"24px\"viewBox=\"0 0 24 24\"\n",
              "       width=\"24px\">\n",
              "    <path d=\"M0 0h24v24H0V0z\" fill=\"none\"/>\n",
              "    <path d=\"M18.56 5.44l.94 2.06.94-2.06 2.06-.94-2.06-.94-.94-2.06-.94 2.06-2.06.94zm-11 1L8.5 8.5l.94-2.06 2.06-.94-2.06-.94L8.5 2.5l-.94 2.06-2.06.94zm10 10l.94 2.06.94-2.06 2.06-.94-2.06-.94-.94-2.06-.94 2.06-2.06.94z\"/><path d=\"M17.41 7.96l-1.37-1.37c-.4-.4-.92-.59-1.43-.59-.52 0-1.04.2-1.43.59L10.3 9.45l-7.72 7.72c-.78.78-.78 2.05 0 2.83L4 21.41c.39.39.9.59 1.41.59.51 0 1.02-.2 1.41-.59l7.78-7.78 2.81-2.81c.8-.78.8-2.07 0-2.86zM5.41 20L4 18.59l7.72-7.72 1.47 1.35L5.41 20z\"/>\n",
              "  </svg>\n",
              "      </button>\n",
              "      \n",
              "  <style>\n",
              "    .colab-df-container {\n",
              "      display:flex;\n",
              "      flex-wrap:wrap;\n",
              "      gap: 12px;\n",
              "    }\n",
              "\n",
              "    .colab-df-convert {\n",
              "      background-color: #E8F0FE;\n",
              "      border: none;\n",
              "      border-radius: 50%;\n",
              "      cursor: pointer;\n",
              "      display: none;\n",
              "      fill: #1967D2;\n",
              "      height: 32px;\n",
              "      padding: 0 0 0 0;\n",
              "      width: 32px;\n",
              "    }\n",
              "\n",
              "    .colab-df-convert:hover {\n",
              "      background-color: #E2EBFA;\n",
              "      box-shadow: 0px 1px 2px rgba(60, 64, 67, 0.3), 0px 1px 3px 1px rgba(60, 64, 67, 0.15);\n",
              "      fill: #174EA6;\n",
              "    }\n",
              "\n",
              "    [theme=dark] .colab-df-convert {\n",
              "      background-color: #3B4455;\n",
              "      fill: #D2E3FC;\n",
              "    }\n",
              "\n",
              "    [theme=dark] .colab-df-convert:hover {\n",
              "      background-color: #434B5C;\n",
              "      box-shadow: 0px 1px 3px 1px rgba(0, 0, 0, 0.15);\n",
              "      filter: drop-shadow(0px 1px 2px rgba(0, 0, 0, 0.3));\n",
              "      fill: #FFFFFF;\n",
              "    }\n",
              "  </style>\n",
              "\n",
              "      <script>\n",
              "        const buttonEl =\n",
              "          document.querySelector('#df-4aff791e-d6f9-4f49-b548-2d2e9ecb71f5 button.colab-df-convert');\n",
              "        buttonEl.style.display =\n",
              "          google.colab.kernel.accessAllowed ? 'block' : 'none';\n",
              "\n",
              "        async function convertToInteractive(key) {\n",
              "          const element = document.querySelector('#df-4aff791e-d6f9-4f49-b548-2d2e9ecb71f5');\n",
              "          const dataTable =\n",
              "            await google.colab.kernel.invokeFunction('convertToInteractive',\n",
              "                                                     [key], {});\n",
              "          if (!dataTable) return;\n",
              "\n",
              "          const docLinkHtml = 'Like what you see? Visit the ' +\n",
              "            '<a target=\"_blank\" href=https://colab.research.google.com/notebooks/data_table.ipynb>data table notebook</a>'\n",
              "            + ' to learn more about interactive tables.';\n",
              "          element.innerHTML = '';\n",
              "          dataTable['output_type'] = 'display_data';\n",
              "          await google.colab.output.renderOutput(dataTable, element);\n",
              "          const docLink = document.createElement('div');\n",
              "          docLink.innerHTML = docLinkHtml;\n",
              "          element.appendChild(docLink);\n",
              "        }\n",
              "      </script>\n",
              "    </div>\n",
              "  </div>\n",
              "  "
            ]
          },
          "metadata": {},
          "execution_count": 54
        }
      ]
    },
    {
      "cell_type": "markdown",
      "source": [
        "## B_Variables"
      ],
      "metadata": {
        "id": "tQgmDkNLWXP5"
      }
    },
    {
      "cell_type": "code",
      "source": [
        "train_df_B = train_df.copy()\n",
        "train_df_B.head()"
      ],
      "metadata": {
        "colab": {
          "base_uri": "https://localhost:8080/",
          "height": 386
        },
        "id": "7QL5H5p9WhSL",
        "outputId": "75d780f7-3d8c-46be-ff8f-39ae119ebdd0"
      },
      "execution_count": 56,
      "outputs": [
        {
          "output_type": "execute_result",
          "data": {
            "text/plain": [
              "                                         customer_ID         S_2       P_2  \\\n",
              "0  0000099d6bd597052cdcda90ffabf56573fe9d7c79be5f...  2017-03-09  0.938469   \n",
              "1  0000099d6bd597052cdcda90ffabf56573fe9d7c79be5f...  2017-04-07  0.936665   \n",
              "2  0000099d6bd597052cdcda90ffabf56573fe9d7c79be5f...  2017-05-28  0.954180   \n",
              "3  0000099d6bd597052cdcda90ffabf56573fe9d7c79be5f...  2017-06-13  0.960384   \n",
              "4  0000099d6bd597052cdcda90ffabf56573fe9d7c79be5f...  2017-07-16  0.947248   \n",
              "\n",
              "       D_39       B_1       B_2       R_1       S_3      D_41       B_3  ...  \\\n",
              "0  0.001733  0.008724  1.006838  0.009228  0.124035  0.008771  0.004709  ...   \n",
              "1  0.005775  0.004923  1.000653  0.006151  0.126750  0.000798  0.002714  ...   \n",
              "2  0.091505  0.021655  1.009672  0.006815  0.123977  0.007598  0.009423  ...   \n",
              "3  0.002455  0.013683  1.002700  0.001373  0.117169  0.000685  0.005531  ...   \n",
              "4  0.002483  0.015193  1.000727  0.007605  0.117325  0.004653  0.009312  ...   \n",
              "\n",
              "   D_136  D_137  D_138     D_139     D_140     D_141  D_142     D_143  \\\n",
              "0    NaN    NaN    NaN  0.002427  0.003706  0.003818    NaN  0.000569   \n",
              "1    NaN    NaN    NaN  0.003954  0.003167  0.005032    NaN  0.009576   \n",
              "2    NaN    NaN    NaN  0.003269  0.007329  0.000427    NaN  0.003429   \n",
              "3    NaN    NaN    NaN  0.006117  0.004516  0.003200    NaN  0.008419   \n",
              "4    NaN    NaN    NaN  0.003671  0.004946  0.008889    NaN  0.001670   \n",
              "\n",
              "      D_144     D_145  \n",
              "0  0.000610  0.002674  \n",
              "1  0.005492  0.009217  \n",
              "2  0.006986  0.002603  \n",
              "3  0.006527  0.009600  \n",
              "4  0.008126  0.009827  \n",
              "\n",
              "[5 rows x 190 columns]"
            ],
            "text/html": [
              "\n",
              "  <div id=\"df-5be0b634-70e7-426a-9a13-abd562baf7ad\">\n",
              "    <div class=\"colab-df-container\">\n",
              "      <div>\n",
              "<style scoped>\n",
              "    .dataframe tbody tr th:only-of-type {\n",
              "        vertical-align: middle;\n",
              "    }\n",
              "\n",
              "    .dataframe tbody tr th {\n",
              "        vertical-align: top;\n",
              "    }\n",
              "\n",
              "    .dataframe thead th {\n",
              "        text-align: right;\n",
              "    }\n",
              "</style>\n",
              "<table border=\"1\" class=\"dataframe\">\n",
              "  <thead>\n",
              "    <tr style=\"text-align: right;\">\n",
              "      <th></th>\n",
              "      <th>customer_ID</th>\n",
              "      <th>S_2</th>\n",
              "      <th>P_2</th>\n",
              "      <th>D_39</th>\n",
              "      <th>B_1</th>\n",
              "      <th>B_2</th>\n",
              "      <th>R_1</th>\n",
              "      <th>S_3</th>\n",
              "      <th>D_41</th>\n",
              "      <th>B_3</th>\n",
              "      <th>...</th>\n",
              "      <th>D_136</th>\n",
              "      <th>D_137</th>\n",
              "      <th>D_138</th>\n",
              "      <th>D_139</th>\n",
              "      <th>D_140</th>\n",
              "      <th>D_141</th>\n",
              "      <th>D_142</th>\n",
              "      <th>D_143</th>\n",
              "      <th>D_144</th>\n",
              "      <th>D_145</th>\n",
              "    </tr>\n",
              "  </thead>\n",
              "  <tbody>\n",
              "    <tr>\n",
              "      <th>0</th>\n",
              "      <td>0000099d6bd597052cdcda90ffabf56573fe9d7c79be5f...</td>\n",
              "      <td>2017-03-09</td>\n",
              "      <td>0.938469</td>\n",
              "      <td>0.001733</td>\n",
              "      <td>0.008724</td>\n",
              "      <td>1.006838</td>\n",
              "      <td>0.009228</td>\n",
              "      <td>0.124035</td>\n",
              "      <td>0.008771</td>\n",
              "      <td>0.004709</td>\n",
              "      <td>...</td>\n",
              "      <td>NaN</td>\n",
              "      <td>NaN</td>\n",
              "      <td>NaN</td>\n",
              "      <td>0.002427</td>\n",
              "      <td>0.003706</td>\n",
              "      <td>0.003818</td>\n",
              "      <td>NaN</td>\n",
              "      <td>0.000569</td>\n",
              "      <td>0.000610</td>\n",
              "      <td>0.002674</td>\n",
              "    </tr>\n",
              "    <tr>\n",
              "      <th>1</th>\n",
              "      <td>0000099d6bd597052cdcda90ffabf56573fe9d7c79be5f...</td>\n",
              "      <td>2017-04-07</td>\n",
              "      <td>0.936665</td>\n",
              "      <td>0.005775</td>\n",
              "      <td>0.004923</td>\n",
              "      <td>1.000653</td>\n",
              "      <td>0.006151</td>\n",
              "      <td>0.126750</td>\n",
              "      <td>0.000798</td>\n",
              "      <td>0.002714</td>\n",
              "      <td>...</td>\n",
              "      <td>NaN</td>\n",
              "      <td>NaN</td>\n",
              "      <td>NaN</td>\n",
              "      <td>0.003954</td>\n",
              "      <td>0.003167</td>\n",
              "      <td>0.005032</td>\n",
              "      <td>NaN</td>\n",
              "      <td>0.009576</td>\n",
              "      <td>0.005492</td>\n",
              "      <td>0.009217</td>\n",
              "    </tr>\n",
              "    <tr>\n",
              "      <th>2</th>\n",
              "      <td>0000099d6bd597052cdcda90ffabf56573fe9d7c79be5f...</td>\n",
              "      <td>2017-05-28</td>\n",
              "      <td>0.954180</td>\n",
              "      <td>0.091505</td>\n",
              "      <td>0.021655</td>\n",
              "      <td>1.009672</td>\n",
              "      <td>0.006815</td>\n",
              "      <td>0.123977</td>\n",
              "      <td>0.007598</td>\n",
              "      <td>0.009423</td>\n",
              "      <td>...</td>\n",
              "      <td>NaN</td>\n",
              "      <td>NaN</td>\n",
              "      <td>NaN</td>\n",
              "      <td>0.003269</td>\n",
              "      <td>0.007329</td>\n",
              "      <td>0.000427</td>\n",
              "      <td>NaN</td>\n",
              "      <td>0.003429</td>\n",
              "      <td>0.006986</td>\n",
              "      <td>0.002603</td>\n",
              "    </tr>\n",
              "    <tr>\n",
              "      <th>3</th>\n",
              "      <td>0000099d6bd597052cdcda90ffabf56573fe9d7c79be5f...</td>\n",
              "      <td>2017-06-13</td>\n",
              "      <td>0.960384</td>\n",
              "      <td>0.002455</td>\n",
              "      <td>0.013683</td>\n",
              "      <td>1.002700</td>\n",
              "      <td>0.001373</td>\n",
              "      <td>0.117169</td>\n",
              "      <td>0.000685</td>\n",
              "      <td>0.005531</td>\n",
              "      <td>...</td>\n",
              "      <td>NaN</td>\n",
              "      <td>NaN</td>\n",
              "      <td>NaN</td>\n",
              "      <td>0.006117</td>\n",
              "      <td>0.004516</td>\n",
              "      <td>0.003200</td>\n",
              "      <td>NaN</td>\n",
              "      <td>0.008419</td>\n",
              "      <td>0.006527</td>\n",
              "      <td>0.009600</td>\n",
              "    </tr>\n",
              "    <tr>\n",
              "      <th>4</th>\n",
              "      <td>0000099d6bd597052cdcda90ffabf56573fe9d7c79be5f...</td>\n",
              "      <td>2017-07-16</td>\n",
              "      <td>0.947248</td>\n",
              "      <td>0.002483</td>\n",
              "      <td>0.015193</td>\n",
              "      <td>1.000727</td>\n",
              "      <td>0.007605</td>\n",
              "      <td>0.117325</td>\n",
              "      <td>0.004653</td>\n",
              "      <td>0.009312</td>\n",
              "      <td>...</td>\n",
              "      <td>NaN</td>\n",
              "      <td>NaN</td>\n",
              "      <td>NaN</td>\n",
              "      <td>0.003671</td>\n",
              "      <td>0.004946</td>\n",
              "      <td>0.008889</td>\n",
              "      <td>NaN</td>\n",
              "      <td>0.001670</td>\n",
              "      <td>0.008126</td>\n",
              "      <td>0.009827</td>\n",
              "    </tr>\n",
              "  </tbody>\n",
              "</table>\n",
              "<p>5 rows × 190 columns</p>\n",
              "</div>\n",
              "      <button class=\"colab-df-convert\" onclick=\"convertToInteractive('df-5be0b634-70e7-426a-9a13-abd562baf7ad')\"\n",
              "              title=\"Convert this dataframe to an interactive table.\"\n",
              "              style=\"display:none;\">\n",
              "        \n",
              "  <svg xmlns=\"http://www.w3.org/2000/svg\" height=\"24px\"viewBox=\"0 0 24 24\"\n",
              "       width=\"24px\">\n",
              "    <path d=\"M0 0h24v24H0V0z\" fill=\"none\"/>\n",
              "    <path d=\"M18.56 5.44l.94 2.06.94-2.06 2.06-.94-2.06-.94-.94-2.06-.94 2.06-2.06.94zm-11 1L8.5 8.5l.94-2.06 2.06-.94-2.06-.94L8.5 2.5l-.94 2.06-2.06.94zm10 10l.94 2.06.94-2.06 2.06-.94-2.06-.94-.94-2.06-.94 2.06-2.06.94z\"/><path d=\"M17.41 7.96l-1.37-1.37c-.4-.4-.92-.59-1.43-.59-.52 0-1.04.2-1.43.59L10.3 9.45l-7.72 7.72c-.78.78-.78 2.05 0 2.83L4 21.41c.39.39.9.59 1.41.59.51 0 1.02-.2 1.41-.59l7.78-7.78 2.81-2.81c.8-.78.8-2.07 0-2.86zM5.41 20L4 18.59l7.72-7.72 1.47 1.35L5.41 20z\"/>\n",
              "  </svg>\n",
              "      </button>\n",
              "      \n",
              "  <style>\n",
              "    .colab-df-container {\n",
              "      display:flex;\n",
              "      flex-wrap:wrap;\n",
              "      gap: 12px;\n",
              "    }\n",
              "\n",
              "    .colab-df-convert {\n",
              "      background-color: #E8F0FE;\n",
              "      border: none;\n",
              "      border-radius: 50%;\n",
              "      cursor: pointer;\n",
              "      display: none;\n",
              "      fill: #1967D2;\n",
              "      height: 32px;\n",
              "      padding: 0 0 0 0;\n",
              "      width: 32px;\n",
              "    }\n",
              "\n",
              "    .colab-df-convert:hover {\n",
              "      background-color: #E2EBFA;\n",
              "      box-shadow: 0px 1px 2px rgba(60, 64, 67, 0.3), 0px 1px 3px 1px rgba(60, 64, 67, 0.15);\n",
              "      fill: #174EA6;\n",
              "    }\n",
              "\n",
              "    [theme=dark] .colab-df-convert {\n",
              "      background-color: #3B4455;\n",
              "      fill: #D2E3FC;\n",
              "    }\n",
              "\n",
              "    [theme=dark] .colab-df-convert:hover {\n",
              "      background-color: #434B5C;\n",
              "      box-shadow: 0px 1px 3px 1px rgba(0, 0, 0, 0.15);\n",
              "      filter: drop-shadow(0px 1px 2px rgba(0, 0, 0, 0.3));\n",
              "      fill: #FFFFFF;\n",
              "    }\n",
              "  </style>\n",
              "\n",
              "      <script>\n",
              "        const buttonEl =\n",
              "          document.querySelector('#df-5be0b634-70e7-426a-9a13-abd562baf7ad button.colab-df-convert');\n",
              "        buttonEl.style.display =\n",
              "          google.colab.kernel.accessAllowed ? 'block' : 'none';\n",
              "\n",
              "        async function convertToInteractive(key) {\n",
              "          const element = document.querySelector('#df-5be0b634-70e7-426a-9a13-abd562baf7ad');\n",
              "          const dataTable =\n",
              "            await google.colab.kernel.invokeFunction('convertToInteractive',\n",
              "                                                     [key], {});\n",
              "          if (!dataTable) return;\n",
              "\n",
              "          const docLinkHtml = 'Like what you see? Visit the ' +\n",
              "            '<a target=\"_blank\" href=https://colab.research.google.com/notebooks/data_table.ipynb>data table notebook</a>'\n",
              "            + ' to learn more about interactive tables.';\n",
              "          element.innerHTML = '';\n",
              "          dataTable['output_type'] = 'display_data';\n",
              "          await google.colab.output.renderOutput(dataTable, element);\n",
              "          const docLink = document.createElement('div');\n",
              "          docLink.innerHTML = docLinkHtml;\n",
              "          element.appendChild(docLink);\n",
              "        }\n",
              "      </script>\n",
              "    </div>\n",
              "  </div>\n",
              "  "
            ]
          },
          "metadata": {},
          "execution_count": 56
        }
      ]
    },
    {
      "cell_type": "code",
      "source": [
        "for ele in train_df.columns :\n",
        "  if ele[0] != 'B':\n",
        "    train_df_B.drop(ele, axis=1, inplace=True)\n",
        "\n",
        "train_df_B.shape"
      ],
      "metadata": {
        "colab": {
          "base_uri": "https://localhost:8080/"
        },
        "id": "w1sjvab9WkuS",
        "outputId": "c6305d07-dc35-4ce5-99af-a509034e5dab"
      },
      "execution_count": 57,
      "outputs": [
        {
          "output_type": "execute_result",
          "data": {
            "text/plain": [
              "(300000, 40)"
            ]
          },
          "metadata": {},
          "execution_count": 57
        }
      ]
    },
    {
      "cell_type": "code",
      "source": [
        "train_df_B.info()"
      ],
      "metadata": {
        "colab": {
          "base_uri": "https://localhost:8080/"
        },
        "id": "7yhC_gTjWuik",
        "outputId": "b534708d-f0e7-4bec-877d-89ace9dac74b"
      },
      "execution_count": 58,
      "outputs": [
        {
          "output_type": "stream",
          "name": "stdout",
          "text": [
            "<class 'pandas.core.frame.DataFrame'>\n",
            "RangeIndex: 300000 entries, 0 to 299999\n",
            "Data columns (total 40 columns):\n",
            " #   Column  Non-Null Count   Dtype  \n",
            "---  ------  --------------   -----  \n",
            " 0   B_1     300000 non-null  float64\n",
            " 1   B_2     299884 non-null  float64\n",
            " 2   B_3     299884 non-null  float64\n",
            " 3   B_4     300000 non-null  float64\n",
            " 4   B_5     300000 non-null  float64\n",
            " 5   B_6     299990 non-null  float64\n",
            " 6   B_7     300000 non-null  float64\n",
            " 7   B_8     298749 non-null  float64\n",
            " 8   B_9     300000 non-null  float64\n",
            " 9   B_10    300000 non-null  float64\n",
            " 10  B_11    300000 non-null  float64\n",
            " 11  B_12    300000 non-null  float64\n",
            " 12  B_13    297300 non-null  float64\n",
            " 13  B_14    300000 non-null  float64\n",
            " 14  B_15    299684 non-null  float64\n",
            " 15  B_16    299884 non-null  float64\n",
            " 16  B_17    130667 non-null  float64\n",
            " 17  B_18    300000 non-null  float64\n",
            " 18  B_19    299884 non-null  float64\n",
            " 19  B_20    299884 non-null  float64\n",
            " 20  B_21    300000 non-null  float64\n",
            " 21  B_22    299884 non-null  float64\n",
            " 22  B_23    300000 non-null  float64\n",
            " 23  B_24    300000 non-null  float64\n",
            " 24  B_25    299684 non-null  float64\n",
            " 25  B_26    299884 non-null  float64\n",
            " 26  B_27    299884 non-null  float64\n",
            " 27  B_28    300000 non-null  float64\n",
            " 28  B_29    20266 non-null   float64\n",
            " 29  B_30    299884 non-null  float64\n",
            " 30  B_31    300000 non-null  int64  \n",
            " 31  B_32    300000 non-null  float64\n",
            " 32  B_33    299884 non-null  float64\n",
            " 33  B_36    300000 non-null  float64\n",
            " 34  B_37    299997 non-null  float64\n",
            " 35  B_38    299884 non-null  float64\n",
            " 36  B_39    2004 non-null    float64\n",
            " 37  B_40    299997 non-null  float64\n",
            " 38  B_41    299947 non-null  float64\n",
            " 39  B_42    3761 non-null    float64\n",
            "dtypes: float64(39), int64(1)\n",
            "memory usage: 91.6 MB\n"
          ]
        }
      ]
    },
    {
      "cell_type": "code",
      "source": [
        "train_df_B.drop('B_42', axis=1, inplace=True)"
      ],
      "metadata": {
        "id": "-GVEteS0W9Cw"
      },
      "execution_count": 59,
      "outputs": []
    },
    {
      "cell_type": "markdown",
      "source": [
        "### Feature Selection using VarianceThreshold"
      ],
      "metadata": {
        "id": "eZeCChA8XKI1"
      }
    },
    {
      "cell_type": "code",
      "source": [
        "from sklearn.feature_selection import VarianceThreshold\n",
        "sel_b = VarianceThreshold(threshold=0)\n",
        "sel_b.fit(train_df_B)"
      ],
      "metadata": {
        "colab": {
          "base_uri": "https://localhost:8080/"
        },
        "id": "HB3EMpTeXIab",
        "outputId": "eb44bc80-4c84-4505-d885-a1a727a140a3"
      },
      "execution_count": 60,
      "outputs": [
        {
          "output_type": "execute_result",
          "data": {
            "text/plain": [
              "VarianceThreshold(threshold=0)"
            ]
          },
          "metadata": {},
          "execution_count": 60
        }
      ]
    },
    {
      "cell_type": "code",
      "source": [
        "sel_b.get_support()"
      ],
      "metadata": {
        "colab": {
          "base_uri": "https://localhost:8080/"
        },
        "id": "EvnYhD0-XTdp",
        "outputId": "f086155f-0e12-4657-f5f5-e79856aece1f"
      },
      "execution_count": 61,
      "outputs": [
        {
          "output_type": "execute_result",
          "data": {
            "text/plain": [
              "array([ True,  True,  True,  True,  True,  True,  True,  True,  True,\n",
              "        True,  True,  True,  True,  True,  True,  True,  True,  True,\n",
              "        True,  True,  True,  True,  True,  True,  True,  True,  True,\n",
              "        True,  True,  True,  True,  True,  True,  True,  True,  True,\n",
              "        True,  True,  True])"
            ]
          },
          "metadata": {},
          "execution_count": 61
        }
      ]
    },
    {
      "cell_type": "markdown",
      "source": [
        "* So there are no **B-variables** with zero variance or same values throughout."
      ],
      "metadata": {
        "id": "wNKRetaXXWG6"
      }
    },
    {
      "cell_type": "markdown",
      "source": [
        "### Wrapper Techniques"
      ],
      "metadata": {
        "id": "E2V5MPEVXihL"
      }
    },
    {
      "cell_type": "code",
      "source": [
        "from sklearn.model_selection import train_test_split\n",
        "from sklearn.ensemble import RandomForestClassifier"
      ],
      "metadata": {
        "id": "M-QYYlXaXv9G"
      },
      "execution_count": 62,
      "outputs": []
    },
    {
      "cell_type": "code",
      "source": [
        "y_train = pd.read_csv(\"/content/drive/MyDrive/AMEX_default_prediction_kaggle/labels_300000\")['target']\n",
        "y_train.value_counts()"
      ],
      "metadata": {
        "colab": {
          "base_uri": "https://localhost:8080/"
        },
        "id": "gycCkOkKXwpB",
        "outputId": "a38ebd9c-a7ee-41b3-cd79-206260c657e4"
      },
      "execution_count": 63,
      "outputs": [
        {
          "output_type": "execute_result",
          "data": {
            "text/plain": [
              "0    224534\n",
              "1     75466\n",
              "Name: target, dtype: int64"
            ]
          },
          "metadata": {},
          "execution_count": 63
        }
      ]
    },
    {
      "cell_type": "code",
      "source": [
        "X_train_forward_B, X_test_forward_B, y_train_forward_B, y_test_forward_B = train_test_split(train_df_B, y_train, test_size=0.2, random_state=42)\n",
        "X_train_forward_B.shape, X_test_forward_B.shape, y_train_forward_B.shape, y_test_forward_B.shape"
      ],
      "metadata": {
        "colab": {
          "base_uri": "https://localhost:8080/"
        },
        "id": "X6yShwwCXz4g",
        "outputId": "80ffabfa-5952-47af-8dab-4f323830561c"
      },
      "execution_count": 64,
      "outputs": [
        {
          "output_type": "execute_result",
          "data": {
            "text/plain": [
              "((240000, 39), (60000, 39), (240000,), (60000,))"
            ]
          },
          "metadata": {},
          "execution_count": 64
        }
      ]
    },
    {
      "cell_type": "code",
      "source": [
        "corr_features = correlation(X_train_forward_B, 0.8)\n",
        "print('correlated features: ', len(set(corr_features)) )"
      ],
      "metadata": {
        "colab": {
          "base_uri": "https://localhost:8080/"
        },
        "id": "uWTH1oADX98E",
        "outputId": "6162fe6a-a941-42e3-8b28-7c37b01ac18c"
      },
      "execution_count": 65,
      "outputs": [
        {
          "output_type": "stream",
          "name": "stdout",
          "text": [
            "correlated features:  8\n"
          ]
        }
      ]
    },
    {
      "cell_type": "code",
      "source": [
        "corr_features"
      ],
      "metadata": {
        "colab": {
          "base_uri": "https://localhost:8080/"
        },
        "id": "q-BCV5pHYMB4",
        "outputId": "ec0362a2-6b8e-4c12-87c6-44c5154f8467"
      },
      "execution_count": 66,
      "outputs": [
        {
          "output_type": "execute_result",
          "data": {
            "text/plain": [
              "{'B_11', 'B_13', 'B_15', 'B_18', 'B_20', 'B_23', 'B_33', 'B_37'}"
            ]
          },
          "metadata": {},
          "execution_count": 66
        }
      ]
    },
    {
      "cell_type": "code",
      "source": [
        "X_train_forward_B.drop(labels=corr_features, axis=1, inplace=True)\n",
        "X_train_forward_B.shape"
      ],
      "metadata": {
        "colab": {
          "base_uri": "https://localhost:8080/"
        },
        "id": "Bbi3GBRmYTy0",
        "outputId": "5f4bce5f-5018-4e2e-8dc8-f26dbb2ed098"
      },
      "execution_count": 67,
      "outputs": [
        {
          "output_type": "execute_result",
          "data": {
            "text/plain": [
              "(240000, 31)"
            ]
          },
          "metadata": {},
          "execution_count": 67
        }
      ]
    },
    {
      "cell_type": "code",
      "source": [
        "X_test_forward_B.drop(labels=corr_features, axis=1, inplace=True)\n",
        "X_test_forward_B.shape"
      ],
      "metadata": {
        "colab": {
          "base_uri": "https://localhost:8080/"
        },
        "id": "Um12vrl_YX7l",
        "outputId": "4c3132ea-56d6-4272-82f8-6f837ba17f77"
      },
      "execution_count": 68,
      "outputs": [
        {
          "output_type": "execute_result",
          "data": {
            "text/plain": [
              "(60000, 31)"
            ]
          },
          "metadata": {},
          "execution_count": 68
        }
      ]
    },
    {
      "cell_type": "code",
      "source": [
        "X_train_forward_B.info()"
      ],
      "metadata": {
        "colab": {
          "base_uri": "https://localhost:8080/"
        },
        "id": "8CuB94WbYdjk",
        "outputId": "c3aa6ea4-99a7-457a-e438-05845ad626e8"
      },
      "execution_count": 70,
      "outputs": [
        {
          "output_type": "stream",
          "name": "stdout",
          "text": [
            "<class 'pandas.core.frame.DataFrame'>\n",
            "Int64Index: 240000 entries, 254099 to 121958\n",
            "Data columns (total 31 columns):\n",
            " #   Column  Non-Null Count   Dtype  \n",
            "---  ------  --------------   -----  \n",
            " 0   B_1     240000 non-null  float64\n",
            " 1   B_2     239908 non-null  float64\n",
            " 2   B_3     239908 non-null  float64\n",
            " 3   B_4     240000 non-null  float64\n",
            " 4   B_5     240000 non-null  float64\n",
            " 5   B_6     239992 non-null  float64\n",
            " 6   B_7     240000 non-null  float64\n",
            " 7   B_8     239002 non-null  float64\n",
            " 8   B_9     240000 non-null  float64\n",
            " 9   B_10    240000 non-null  float64\n",
            " 10  B_12    240000 non-null  float64\n",
            " 11  B_14    240000 non-null  float64\n",
            " 12  B_16    239908 non-null  float64\n",
            " 13  B_17    104583 non-null  float64\n",
            " 14  B_19    239908 non-null  float64\n",
            " 15  B_21    240000 non-null  float64\n",
            " 16  B_22    239908 non-null  float64\n",
            " 17  B_24    240000 non-null  float64\n",
            " 18  B_25    239755 non-null  float64\n",
            " 19  B_26    239908 non-null  float64\n",
            " 20  B_27    239908 non-null  float64\n",
            " 21  B_28    240000 non-null  float64\n",
            " 22  B_29    16247 non-null   float64\n",
            " 23  B_30    239908 non-null  float64\n",
            " 24  B_31    240000 non-null  int64  \n",
            " 25  B_32    240000 non-null  float64\n",
            " 26  B_36    240000 non-null  float64\n",
            " 27  B_38    239908 non-null  float64\n",
            " 28  B_39    1603 non-null    float64\n",
            " 29  B_40    239997 non-null  float64\n",
            " 30  B_41    239955 non-null  float64\n",
            "dtypes: float64(30), int64(1)\n",
            "memory usage: 58.6 MB\n"
          ]
        }
      ]
    },
    {
      "cell_type": "code",
      "source": [
        "X_train_forward_B.drop(labels=['B_29','B_39','B_17'], axis=1, inplace=True)"
      ],
      "metadata": {
        "id": "4IP3IC8EYszK"
      },
      "execution_count": 71,
      "outputs": []
    },
    {
      "cell_type": "code",
      "source": [
        "X_train_forward_B['target'] = y_train_forward_B"
      ],
      "metadata": {
        "id": "F19xgiv_ZKSs"
      },
      "execution_count": 72,
      "outputs": []
    },
    {
      "cell_type": "code",
      "source": [
        "X_train_forward_B_sample = X_train_forward_B.sample(n=20000)"
      ],
      "metadata": {
        "id": "zBMNZfjDZXS9"
      },
      "execution_count": 73,
      "outputs": []
    },
    {
      "cell_type": "code",
      "source": [
        "y_train_forward_B_sample = X_train_forward_B_sample['target']\n",
        "X_train_forward_B_sample.drop('target', axis=1, inplace=True)"
      ],
      "metadata": {
        "id": "2_CGHcnJZlO4"
      },
      "execution_count": 74,
      "outputs": []
    },
    {
      "cell_type": "code",
      "source": [
        "for ele in X_train_forward_B_sample.columns :\n",
        "  if X_train_forward_B_sample[ele].isna().sum() != 0:\n",
        "    mean_value = X_train_forward_B_sample[ele].mean()\n",
        "    X_train_forward_B_sample[ele].fillna(mean_value, inplace=True)"
      ],
      "metadata": {
        "id": "SbJQmC7bZ0sK"
      },
      "execution_count": 75,
      "outputs": []
    },
    {
      "cell_type": "code",
      "source": [
        "X_train_forward_B_sample.info()"
      ],
      "metadata": {
        "colab": {
          "base_uri": "https://localhost:8080/"
        },
        "id": "f31ovY5oaDHg",
        "outputId": "4bc8ef92-7c69-4e2e-d390-a6480c88ac76"
      },
      "execution_count": 76,
      "outputs": [
        {
          "output_type": "stream",
          "name": "stdout",
          "text": [
            "<class 'pandas.core.frame.DataFrame'>\n",
            "Int64Index: 20000 entries, 177772 to 12863\n",
            "Data columns (total 28 columns):\n",
            " #   Column  Non-Null Count  Dtype  \n",
            "---  ------  --------------  -----  \n",
            " 0   B_1     20000 non-null  float64\n",
            " 1   B_2     20000 non-null  float64\n",
            " 2   B_3     20000 non-null  float64\n",
            " 3   B_4     20000 non-null  float64\n",
            " 4   B_5     20000 non-null  float64\n",
            " 5   B_6     20000 non-null  float64\n",
            " 6   B_7     20000 non-null  float64\n",
            " 7   B_8     20000 non-null  float64\n",
            " 8   B_9     20000 non-null  float64\n",
            " 9   B_10    20000 non-null  float64\n",
            " 10  B_12    20000 non-null  float64\n",
            " 11  B_14    20000 non-null  float64\n",
            " 12  B_16    20000 non-null  float64\n",
            " 13  B_19    20000 non-null  float64\n",
            " 14  B_21    20000 non-null  float64\n",
            " 15  B_22    20000 non-null  float64\n",
            " 16  B_24    20000 non-null  float64\n",
            " 17  B_25    20000 non-null  float64\n",
            " 18  B_26    20000 non-null  float64\n",
            " 19  B_27    20000 non-null  float64\n",
            " 20  B_28    20000 non-null  float64\n",
            " 21  B_30    20000 non-null  float64\n",
            " 22  B_31    20000 non-null  int64  \n",
            " 23  B_32    20000 non-null  float64\n",
            " 24  B_36    20000 non-null  float64\n",
            " 25  B_38    20000 non-null  float64\n",
            " 26  B_40    20000 non-null  float64\n",
            " 27  B_41    20000 non-null  float64\n",
            "dtypes: float64(27), int64(1)\n",
            "memory usage: 4.4 MB\n"
          ]
        }
      ]
    },
    {
      "cell_type": "code",
      "source": [
        "X_train_forward_B_sample = X_train_forward_B_sample.astype('float64')"
      ],
      "metadata": {
        "id": "X5RK8NuYaKBG"
      },
      "execution_count": 77,
      "outputs": []
    },
    {
      "cell_type": "markdown",
      "source": [
        "### Forward Feature Selection"
      ],
      "metadata": {
        "id": "wQYKz3vDv9WR"
      }
    },
    {
      "cell_type": "code",
      "source": [
        "sfs_b = SFS(estimator=RandomForestClassifier(),\n",
        "            k_features=14,\n",
        "            forward=True,\n",
        "            floating=False, \n",
        "            verbose=2,\n",
        "            scoring='roc_auc',\n",
        "            cv=3)\n",
        "\n",
        "sfs_b.fit(np.array(X_train_forward_B_sample), y_train_forward_B_sample)"
      ],
      "metadata": {
        "colab": {
          "base_uri": "https://localhost:8080/"
        },
        "id": "ZTI1MYHDaUUL",
        "outputId": "c8228616-200f-4079-c130-c156623eccb3"
      },
      "execution_count": 78,
      "outputs": [
        {
          "output_type": "stream",
          "name": "stderr",
          "text": [
            "[Parallel(n_jobs=1)]: Using backend SequentialBackend with 1 concurrent workers.\n",
            "[Parallel(n_jobs=1)]: Done   1 out of   1 | elapsed:   10.5s remaining:    0.0s\n",
            "[Parallel(n_jobs=1)]: Done  28 out of  28 | elapsed:  4.7min finished\n",
            "\n",
            "[2022-07-19 07:50:39] Features: 1/14 -- score: 0.5108859268656065[Parallel(n_jobs=1)]: Using backend SequentialBackend with 1 concurrent workers.\n",
            "[Parallel(n_jobs=1)]: Done   1 out of   1 | elapsed:    8.4s remaining:    0.0s\n",
            "[Parallel(n_jobs=1)]: Done  27 out of  27 | elapsed:  4.0min finished\n",
            "\n",
            "[2022-07-19 07:54:40] Features: 2/14 -- score: 0.5171712038619743[Parallel(n_jobs=1)]: Using backend SequentialBackend with 1 concurrent workers.\n",
            "[Parallel(n_jobs=1)]: Done   1 out of   1 | elapsed:    8.4s remaining:    0.0s\n",
            "[Parallel(n_jobs=1)]: Done  26 out of  26 | elapsed:  3.7min finished\n",
            "\n",
            "[2022-07-19 07:58:21] Features: 3/14 -- score: 0.5205205169905397[Parallel(n_jobs=1)]: Using backend SequentialBackend with 1 concurrent workers.\n",
            "[Parallel(n_jobs=1)]: Done   1 out of   1 | elapsed:   13.9s remaining:    0.0s\n",
            "[Parallel(n_jobs=1)]: Done  25 out of  25 | elapsed:  5.8min finished\n",
            "\n",
            "[2022-07-19 08:04:11] Features: 4/14 -- score: 0.5239577749286096[Parallel(n_jobs=1)]: Using backend SequentialBackend with 1 concurrent workers.\n",
            "[Parallel(n_jobs=1)]: Done   1 out of   1 | elapsed:   13.4s remaining:    0.0s\n",
            "[Parallel(n_jobs=1)]: Done  24 out of  24 | elapsed:  5.3min finished\n",
            "\n",
            "[2022-07-19 08:09:31] Features: 5/14 -- score: 0.5245271226358675[Parallel(n_jobs=1)]: Using backend SequentialBackend with 1 concurrent workers.\n",
            "[Parallel(n_jobs=1)]: Done   1 out of   1 | elapsed:   13.3s remaining:    0.0s\n",
            "[Parallel(n_jobs=1)]: Done  23 out of  23 | elapsed:  5.1min finished\n",
            "\n",
            "[2022-07-19 08:14:36] Features: 6/14 -- score: 0.5258565887770706[Parallel(n_jobs=1)]: Using backend SequentialBackend with 1 concurrent workers.\n",
            "[Parallel(n_jobs=1)]: Done   1 out of   1 | elapsed:   13.4s remaining:    0.0s\n",
            "[Parallel(n_jobs=1)]: Done  22 out of  22 | elapsed:  4.9min finished\n",
            "\n",
            "[2022-07-19 08:19:27] Features: 7/14 -- score: 0.5268648470464193[Parallel(n_jobs=1)]: Using backend SequentialBackend with 1 concurrent workers.\n",
            "[Parallel(n_jobs=1)]: Done   1 out of   1 | elapsed:   13.3s remaining:    0.0s\n",
            "[Parallel(n_jobs=1)]: Done  21 out of  21 | elapsed:  4.6min finished\n",
            "\n",
            "[2022-07-19 08:24:05] Features: 8/14 -- score: 0.527731483645654[Parallel(n_jobs=1)]: Using backend SequentialBackend with 1 concurrent workers.\n",
            "[Parallel(n_jobs=1)]: Done   1 out of   1 | elapsed:   17.8s remaining:    0.0s\n",
            "[Parallel(n_jobs=1)]: Done  20 out of  20 | elapsed:  6.1min finished\n",
            "\n",
            "[2022-07-19 08:30:10] Features: 9/14 -- score: 0.5282438172807683[Parallel(n_jobs=1)]: Using backend SequentialBackend with 1 concurrent workers.\n",
            "[Parallel(n_jobs=1)]: Done   1 out of   1 | elapsed:   17.4s remaining:    0.0s\n",
            "[Parallel(n_jobs=1)]: Done  19 out of  19 | elapsed:  5.5min finished\n",
            "\n",
            "[2022-07-19 08:35:43] Features: 10/14 -- score: 0.5264958130306426[Parallel(n_jobs=1)]: Using backend SequentialBackend with 1 concurrent workers.\n",
            "[Parallel(n_jobs=1)]: Done   1 out of   1 | elapsed:   17.4s remaining:    0.0s\n",
            "[Parallel(n_jobs=1)]: Done  18 out of  18 | elapsed:  5.3min finished\n",
            "\n",
            "[2022-07-19 08:41:01] Features: 11/14 -- score: 0.5255846602418193[Parallel(n_jobs=1)]: Using backend SequentialBackend with 1 concurrent workers.\n",
            "[Parallel(n_jobs=1)]: Done   1 out of   1 | elapsed:   16.0s remaining:    0.0s\n",
            "[Parallel(n_jobs=1)]: Done  17 out of  17 | elapsed:  4.5min finished\n",
            "\n",
            "[2022-07-19 08:45:32] Features: 12/14 -- score: 0.5250351743289773[Parallel(n_jobs=1)]: Using backend SequentialBackend with 1 concurrent workers.\n",
            "[Parallel(n_jobs=1)]: Done   1 out of   1 | elapsed:   16.3s remaining:    0.0s\n",
            "[Parallel(n_jobs=1)]: Done  16 out of  16 | elapsed:  4.3min finished\n",
            "\n",
            "[2022-07-19 08:49:50] Features: 13/14 -- score: 0.5217399119784077[Parallel(n_jobs=1)]: Using backend SequentialBackend with 1 concurrent workers.\n",
            "[Parallel(n_jobs=1)]: Done   1 out of   1 | elapsed:   16.1s remaining:    0.0s\n",
            "[Parallel(n_jobs=1)]: Done  15 out of  15 | elapsed:  4.2min finished\n",
            "\n",
            "[2022-07-19 08:54:03] Features: 14/14 -- score: 0.5227273587723992"
          ]
        },
        {
          "output_type": "execute_result",
          "data": {
            "text/plain": [
              "SequentialFeatureSelector(cv=3, estimator=RandomForestClassifier(),\n",
              "                          k_features=14, scoring='roc_auc', verbose=2)"
            ]
          },
          "metadata": {},
          "execution_count": 78
        }
      ]
    },
    {
      "cell_type": "code",
      "source": [
        "X_train_forward_B_sample.columns[list(sfs_b.k_feature_idx_)]"
      ],
      "metadata": {
        "colab": {
          "base_uri": "https://localhost:8080/"
        },
        "id": "V8IB2E_Ca6wY",
        "outputId": "f4a78742-7788-4552-f12a-9e3bfcd35e23"
      },
      "execution_count": 79,
      "outputs": [
        {
          "output_type": "execute_result",
          "data": {
            "text/plain": [
              "Index(['B_1', 'B_2', 'B_6', 'B_7', 'B_9', 'B_12', 'B_14', 'B_16', 'B_22',\n",
              "       'B_26', 'B_30', 'B_36', 'B_38', 'B_40'],\n",
              "      dtype='object')"
            ]
          },
          "metadata": {},
          "execution_count": 79
        }
      ]
    },
    {
      "cell_type": "markdown",
      "source": [
        "### Recursive Feature Elimination"
      ],
      "metadata": {
        "id": "2NVsQtx-rPXY"
      }
    },
    {
      "cell_type": "code",
      "source": [
        "from sklearn.feature_selection import RFE"
      ],
      "metadata": {
        "id": "fzz5ozDorUzL"
      },
      "execution_count": 80,
      "outputs": []
    },
    {
      "cell_type": "code",
      "source": [
        "# Init the transformer\n",
        "rfe_B = RFE(estimator=RandomForestClassifier(), n_features_to_select=14)\n",
        "\n",
        "# Fit to the training data\n",
        "rfe_B = rfe_B.fit(X_train_forward_B_sample, y_train_forward_B_sample)"
      ],
      "metadata": {
        "id": "A_C3xfMFrZTx"
      },
      "execution_count": 81,
      "outputs": []
    },
    {
      "cell_type": "code",
      "source": [
        "X_train_forward_B_sample.columns[rfe_B.support_]"
      ],
      "metadata": {
        "colab": {
          "base_uri": "https://localhost:8080/"
        },
        "id": "sqVopRBirkxx",
        "outputId": "fe34a9a0-677d-4fd9-d1d5-46ce6cbf8dc5"
      },
      "execution_count": 82,
      "outputs": [
        {
          "output_type": "execute_result",
          "data": {
            "text/plain": [
              "Index(['B_1', 'B_4', 'B_8', 'B_9', 'B_12', 'B_16', 'B_19', 'B_21', 'B_22',\n",
              "       'B_26', 'B_27', 'B_32', 'B_36', 'B_41'],\n",
              "      dtype='object')"
            ]
          },
          "metadata": {},
          "execution_count": 82
        }
      ]
    },
    {
      "cell_type": "markdown",
      "source": [
        "## R-Variables"
      ],
      "metadata": {
        "id": "lGVeDbI-rqAc"
      }
    },
    {
      "cell_type": "code",
      "source": [
        "train_df_R = train_df.copy()\n",
        "train_df_R.head()"
      ],
      "metadata": {
        "colab": {
          "base_uri": "https://localhost:8080/",
          "height": 386
        },
        "id": "HHZ-gkgDssEt",
        "outputId": "3d794b05-e1bd-499f-ef7f-3966bf6ac172"
      },
      "execution_count": 83,
      "outputs": [
        {
          "output_type": "execute_result",
          "data": {
            "text/plain": [
              "                                         customer_ID         S_2       P_2  \\\n",
              "0  0000099d6bd597052cdcda90ffabf56573fe9d7c79be5f...  2017-03-09  0.938469   \n",
              "1  0000099d6bd597052cdcda90ffabf56573fe9d7c79be5f...  2017-04-07  0.936665   \n",
              "2  0000099d6bd597052cdcda90ffabf56573fe9d7c79be5f...  2017-05-28  0.954180   \n",
              "3  0000099d6bd597052cdcda90ffabf56573fe9d7c79be5f...  2017-06-13  0.960384   \n",
              "4  0000099d6bd597052cdcda90ffabf56573fe9d7c79be5f...  2017-07-16  0.947248   \n",
              "\n",
              "       D_39       B_1       B_2       R_1       S_3      D_41       B_3  ...  \\\n",
              "0  0.001733  0.008724  1.006838  0.009228  0.124035  0.008771  0.004709  ...   \n",
              "1  0.005775  0.004923  1.000653  0.006151  0.126750  0.000798  0.002714  ...   \n",
              "2  0.091505  0.021655  1.009672  0.006815  0.123977  0.007598  0.009423  ...   \n",
              "3  0.002455  0.013683  1.002700  0.001373  0.117169  0.000685  0.005531  ...   \n",
              "4  0.002483  0.015193  1.000727  0.007605  0.117325  0.004653  0.009312  ...   \n",
              "\n",
              "   D_136  D_137  D_138     D_139     D_140     D_141  D_142     D_143  \\\n",
              "0    NaN    NaN    NaN  0.002427  0.003706  0.003818    NaN  0.000569   \n",
              "1    NaN    NaN    NaN  0.003954  0.003167  0.005032    NaN  0.009576   \n",
              "2    NaN    NaN    NaN  0.003269  0.007329  0.000427    NaN  0.003429   \n",
              "3    NaN    NaN    NaN  0.006117  0.004516  0.003200    NaN  0.008419   \n",
              "4    NaN    NaN    NaN  0.003671  0.004946  0.008889    NaN  0.001670   \n",
              "\n",
              "      D_144     D_145  \n",
              "0  0.000610  0.002674  \n",
              "1  0.005492  0.009217  \n",
              "2  0.006986  0.002603  \n",
              "3  0.006527  0.009600  \n",
              "4  0.008126  0.009827  \n",
              "\n",
              "[5 rows x 190 columns]"
            ],
            "text/html": [
              "\n",
              "  <div id=\"df-fd0df959-5635-441a-b12e-e23cef151089\">\n",
              "    <div class=\"colab-df-container\">\n",
              "      <div>\n",
              "<style scoped>\n",
              "    .dataframe tbody tr th:only-of-type {\n",
              "        vertical-align: middle;\n",
              "    }\n",
              "\n",
              "    .dataframe tbody tr th {\n",
              "        vertical-align: top;\n",
              "    }\n",
              "\n",
              "    .dataframe thead th {\n",
              "        text-align: right;\n",
              "    }\n",
              "</style>\n",
              "<table border=\"1\" class=\"dataframe\">\n",
              "  <thead>\n",
              "    <tr style=\"text-align: right;\">\n",
              "      <th></th>\n",
              "      <th>customer_ID</th>\n",
              "      <th>S_2</th>\n",
              "      <th>P_2</th>\n",
              "      <th>D_39</th>\n",
              "      <th>B_1</th>\n",
              "      <th>B_2</th>\n",
              "      <th>R_1</th>\n",
              "      <th>S_3</th>\n",
              "      <th>D_41</th>\n",
              "      <th>B_3</th>\n",
              "      <th>...</th>\n",
              "      <th>D_136</th>\n",
              "      <th>D_137</th>\n",
              "      <th>D_138</th>\n",
              "      <th>D_139</th>\n",
              "      <th>D_140</th>\n",
              "      <th>D_141</th>\n",
              "      <th>D_142</th>\n",
              "      <th>D_143</th>\n",
              "      <th>D_144</th>\n",
              "      <th>D_145</th>\n",
              "    </tr>\n",
              "  </thead>\n",
              "  <tbody>\n",
              "    <tr>\n",
              "      <th>0</th>\n",
              "      <td>0000099d6bd597052cdcda90ffabf56573fe9d7c79be5f...</td>\n",
              "      <td>2017-03-09</td>\n",
              "      <td>0.938469</td>\n",
              "      <td>0.001733</td>\n",
              "      <td>0.008724</td>\n",
              "      <td>1.006838</td>\n",
              "      <td>0.009228</td>\n",
              "      <td>0.124035</td>\n",
              "      <td>0.008771</td>\n",
              "      <td>0.004709</td>\n",
              "      <td>...</td>\n",
              "      <td>NaN</td>\n",
              "      <td>NaN</td>\n",
              "      <td>NaN</td>\n",
              "      <td>0.002427</td>\n",
              "      <td>0.003706</td>\n",
              "      <td>0.003818</td>\n",
              "      <td>NaN</td>\n",
              "      <td>0.000569</td>\n",
              "      <td>0.000610</td>\n",
              "      <td>0.002674</td>\n",
              "    </tr>\n",
              "    <tr>\n",
              "      <th>1</th>\n",
              "      <td>0000099d6bd597052cdcda90ffabf56573fe9d7c79be5f...</td>\n",
              "      <td>2017-04-07</td>\n",
              "      <td>0.936665</td>\n",
              "      <td>0.005775</td>\n",
              "      <td>0.004923</td>\n",
              "      <td>1.000653</td>\n",
              "      <td>0.006151</td>\n",
              "      <td>0.126750</td>\n",
              "      <td>0.000798</td>\n",
              "      <td>0.002714</td>\n",
              "      <td>...</td>\n",
              "      <td>NaN</td>\n",
              "      <td>NaN</td>\n",
              "      <td>NaN</td>\n",
              "      <td>0.003954</td>\n",
              "      <td>0.003167</td>\n",
              "      <td>0.005032</td>\n",
              "      <td>NaN</td>\n",
              "      <td>0.009576</td>\n",
              "      <td>0.005492</td>\n",
              "      <td>0.009217</td>\n",
              "    </tr>\n",
              "    <tr>\n",
              "      <th>2</th>\n",
              "      <td>0000099d6bd597052cdcda90ffabf56573fe9d7c79be5f...</td>\n",
              "      <td>2017-05-28</td>\n",
              "      <td>0.954180</td>\n",
              "      <td>0.091505</td>\n",
              "      <td>0.021655</td>\n",
              "      <td>1.009672</td>\n",
              "      <td>0.006815</td>\n",
              "      <td>0.123977</td>\n",
              "      <td>0.007598</td>\n",
              "      <td>0.009423</td>\n",
              "      <td>...</td>\n",
              "      <td>NaN</td>\n",
              "      <td>NaN</td>\n",
              "      <td>NaN</td>\n",
              "      <td>0.003269</td>\n",
              "      <td>0.007329</td>\n",
              "      <td>0.000427</td>\n",
              "      <td>NaN</td>\n",
              "      <td>0.003429</td>\n",
              "      <td>0.006986</td>\n",
              "      <td>0.002603</td>\n",
              "    </tr>\n",
              "    <tr>\n",
              "      <th>3</th>\n",
              "      <td>0000099d6bd597052cdcda90ffabf56573fe9d7c79be5f...</td>\n",
              "      <td>2017-06-13</td>\n",
              "      <td>0.960384</td>\n",
              "      <td>0.002455</td>\n",
              "      <td>0.013683</td>\n",
              "      <td>1.002700</td>\n",
              "      <td>0.001373</td>\n",
              "      <td>0.117169</td>\n",
              "      <td>0.000685</td>\n",
              "      <td>0.005531</td>\n",
              "      <td>...</td>\n",
              "      <td>NaN</td>\n",
              "      <td>NaN</td>\n",
              "      <td>NaN</td>\n",
              "      <td>0.006117</td>\n",
              "      <td>0.004516</td>\n",
              "      <td>0.003200</td>\n",
              "      <td>NaN</td>\n",
              "      <td>0.008419</td>\n",
              "      <td>0.006527</td>\n",
              "      <td>0.009600</td>\n",
              "    </tr>\n",
              "    <tr>\n",
              "      <th>4</th>\n",
              "      <td>0000099d6bd597052cdcda90ffabf56573fe9d7c79be5f...</td>\n",
              "      <td>2017-07-16</td>\n",
              "      <td>0.947248</td>\n",
              "      <td>0.002483</td>\n",
              "      <td>0.015193</td>\n",
              "      <td>1.000727</td>\n",
              "      <td>0.007605</td>\n",
              "      <td>0.117325</td>\n",
              "      <td>0.004653</td>\n",
              "      <td>0.009312</td>\n",
              "      <td>...</td>\n",
              "      <td>NaN</td>\n",
              "      <td>NaN</td>\n",
              "      <td>NaN</td>\n",
              "      <td>0.003671</td>\n",
              "      <td>0.004946</td>\n",
              "      <td>0.008889</td>\n",
              "      <td>NaN</td>\n",
              "      <td>0.001670</td>\n",
              "      <td>0.008126</td>\n",
              "      <td>0.009827</td>\n",
              "    </tr>\n",
              "  </tbody>\n",
              "</table>\n",
              "<p>5 rows × 190 columns</p>\n",
              "</div>\n",
              "      <button class=\"colab-df-convert\" onclick=\"convertToInteractive('df-fd0df959-5635-441a-b12e-e23cef151089')\"\n",
              "              title=\"Convert this dataframe to an interactive table.\"\n",
              "              style=\"display:none;\">\n",
              "        \n",
              "  <svg xmlns=\"http://www.w3.org/2000/svg\" height=\"24px\"viewBox=\"0 0 24 24\"\n",
              "       width=\"24px\">\n",
              "    <path d=\"M0 0h24v24H0V0z\" fill=\"none\"/>\n",
              "    <path d=\"M18.56 5.44l.94 2.06.94-2.06 2.06-.94-2.06-.94-.94-2.06-.94 2.06-2.06.94zm-11 1L8.5 8.5l.94-2.06 2.06-.94-2.06-.94L8.5 2.5l-.94 2.06-2.06.94zm10 10l.94 2.06.94-2.06 2.06-.94-2.06-.94-.94-2.06-.94 2.06-2.06.94z\"/><path d=\"M17.41 7.96l-1.37-1.37c-.4-.4-.92-.59-1.43-.59-.52 0-1.04.2-1.43.59L10.3 9.45l-7.72 7.72c-.78.78-.78 2.05 0 2.83L4 21.41c.39.39.9.59 1.41.59.51 0 1.02-.2 1.41-.59l7.78-7.78 2.81-2.81c.8-.78.8-2.07 0-2.86zM5.41 20L4 18.59l7.72-7.72 1.47 1.35L5.41 20z\"/>\n",
              "  </svg>\n",
              "      </button>\n",
              "      \n",
              "  <style>\n",
              "    .colab-df-container {\n",
              "      display:flex;\n",
              "      flex-wrap:wrap;\n",
              "      gap: 12px;\n",
              "    }\n",
              "\n",
              "    .colab-df-convert {\n",
              "      background-color: #E8F0FE;\n",
              "      border: none;\n",
              "      border-radius: 50%;\n",
              "      cursor: pointer;\n",
              "      display: none;\n",
              "      fill: #1967D2;\n",
              "      height: 32px;\n",
              "      padding: 0 0 0 0;\n",
              "      width: 32px;\n",
              "    }\n",
              "\n",
              "    .colab-df-convert:hover {\n",
              "      background-color: #E2EBFA;\n",
              "      box-shadow: 0px 1px 2px rgba(60, 64, 67, 0.3), 0px 1px 3px 1px rgba(60, 64, 67, 0.15);\n",
              "      fill: #174EA6;\n",
              "    }\n",
              "\n",
              "    [theme=dark] .colab-df-convert {\n",
              "      background-color: #3B4455;\n",
              "      fill: #D2E3FC;\n",
              "    }\n",
              "\n",
              "    [theme=dark] .colab-df-convert:hover {\n",
              "      background-color: #434B5C;\n",
              "      box-shadow: 0px 1px 3px 1px rgba(0, 0, 0, 0.15);\n",
              "      filter: drop-shadow(0px 1px 2px rgba(0, 0, 0, 0.3));\n",
              "      fill: #FFFFFF;\n",
              "    }\n",
              "  </style>\n",
              "\n",
              "      <script>\n",
              "        const buttonEl =\n",
              "          document.querySelector('#df-fd0df959-5635-441a-b12e-e23cef151089 button.colab-df-convert');\n",
              "        buttonEl.style.display =\n",
              "          google.colab.kernel.accessAllowed ? 'block' : 'none';\n",
              "\n",
              "        async function convertToInteractive(key) {\n",
              "          const element = document.querySelector('#df-fd0df959-5635-441a-b12e-e23cef151089');\n",
              "          const dataTable =\n",
              "            await google.colab.kernel.invokeFunction('convertToInteractive',\n",
              "                                                     [key], {});\n",
              "          if (!dataTable) return;\n",
              "\n",
              "          const docLinkHtml = 'Like what you see? Visit the ' +\n",
              "            '<a target=\"_blank\" href=https://colab.research.google.com/notebooks/data_table.ipynb>data table notebook</a>'\n",
              "            + ' to learn more about interactive tables.';\n",
              "          element.innerHTML = '';\n",
              "          dataTable['output_type'] = 'display_data';\n",
              "          await google.colab.output.renderOutput(dataTable, element);\n",
              "          const docLink = document.createElement('div');\n",
              "          docLink.innerHTML = docLinkHtml;\n",
              "          element.appendChild(docLink);\n",
              "        }\n",
              "      </script>\n",
              "    </div>\n",
              "  </div>\n",
              "  "
            ]
          },
          "metadata": {},
          "execution_count": 83
        }
      ]
    },
    {
      "cell_type": "code",
      "source": [
        "for ele in train_df.columns :\n",
        "  if ele[0] != 'R':\n",
        "    train_df_R.drop(ele, axis=1, inplace=True)\n",
        "\n",
        "train_df_R.shape"
      ],
      "metadata": {
        "colab": {
          "base_uri": "https://localhost:8080/"
        },
        "id": "7UTQv64usySH",
        "outputId": "e49f2533-0584-46c6-bc7d-5eb9a1a63d37"
      },
      "execution_count": 84,
      "outputs": [
        {
          "output_type": "execute_result",
          "data": {
            "text/plain": [
              "(300000, 28)"
            ]
          },
          "metadata": {},
          "execution_count": 84
        }
      ]
    },
    {
      "cell_type": "code",
      "source": [
        "train_df_R.info()"
      ],
      "metadata": {
        "colab": {
          "base_uri": "https://localhost:8080/"
        },
        "id": "GUxmRBsXs6Jl",
        "outputId": "61a4ce5e-a9d1-465c-96f9-eec42f385321"
      },
      "execution_count": 86,
      "outputs": [
        {
          "output_type": "stream",
          "name": "stdout",
          "text": [
            "<class 'pandas.core.frame.DataFrame'>\n",
            "RangeIndex: 300000 entries, 0 to 299999\n",
            "Data columns (total 28 columns):\n",
            " #   Column  Non-Null Count   Dtype  \n",
            "---  ------  --------------   -----  \n",
            " 0   R_1     300000 non-null  float64\n",
            " 1   R_2     300000 non-null  float64\n",
            " 2   R_3     300000 non-null  float64\n",
            " 3   R_4     300000 non-null  float64\n",
            " 4   R_5     300000 non-null  float64\n",
            " 5   R_6     300000 non-null  float64\n",
            " 6   R_7     300000 non-null  float64\n",
            " 7   R_8     300000 non-null  float64\n",
            " 8   R_9     17776 non-null   float64\n",
            " 9   R_10    300000 non-null  float64\n",
            " 10  R_11    300000 non-null  float64\n",
            " 11  R_12    299997 non-null  float64\n",
            " 12  R_13    300000 non-null  float64\n",
            " 13  R_14    300000 non-null  float64\n",
            " 14  R_15    300000 non-null  float64\n",
            " 15  R_16    300000 non-null  float64\n",
            " 16  R_17    300000 non-null  float64\n",
            " 17  R_18    300000 non-null  float64\n",
            " 18  R_19    300000 non-null  float64\n",
            " 19  R_20    299994 non-null  float64\n",
            " 20  R_21    300000 non-null  float64\n",
            " 21  R_22    300000 non-null  float64\n",
            " 22  R_23    300000 non-null  float64\n",
            " 23  R_24    300000 non-null  float64\n",
            " 24  R_25    300000 non-null  float64\n",
            " 25  R_26    32094 non-null   float64\n",
            " 26  R_27    293155 non-null  float64\n",
            " 27  R_28    300000 non-null  float64\n",
            "dtypes: float64(28)\n",
            "memory usage: 64.1 MB\n"
          ]
        }
      ]
    },
    {
      "cell_type": "code",
      "source": [
        "train_df_R.drop('R_9', axis=1, inplace=True)"
      ],
      "metadata": {
        "id": "YAh0RwBotEJF"
      },
      "execution_count": 87,
      "outputs": []
    },
    {
      "cell_type": "markdown",
      "source": [
        "### Feature Selection using VarianceThreshold"
      ],
      "metadata": {
        "id": "96i2-_2ktQ-M"
      }
    },
    {
      "cell_type": "code",
      "source": [
        "from sklearn.feature_selection import VarianceThreshold\n",
        "sel_r = VarianceThreshold(threshold=0)\n",
        "sel_r.fit(train_df_R)"
      ],
      "metadata": {
        "colab": {
          "base_uri": "https://localhost:8080/"
        },
        "id": "Bg4BRPDOtcmX",
        "outputId": "cea5f7e6-20fa-41ba-8403-b2098445032d"
      },
      "execution_count": 88,
      "outputs": [
        {
          "output_type": "execute_result",
          "data": {
            "text/plain": [
              "VarianceThreshold(threshold=0)"
            ]
          },
          "metadata": {},
          "execution_count": 88
        }
      ]
    },
    {
      "cell_type": "code",
      "source": [
        "sel_r.get_support()"
      ],
      "metadata": {
        "colab": {
          "base_uri": "https://localhost:8080/"
        },
        "id": "t_1Gvuj1tlQ_",
        "outputId": "4c3895a2-867c-4508-8060-596e8e1f517a"
      },
      "execution_count": 89,
      "outputs": [
        {
          "output_type": "execute_result",
          "data": {
            "text/plain": [
              "array([ True,  True,  True,  True,  True,  True,  True,  True,  True,\n",
              "        True,  True,  True,  True,  True,  True,  True,  True,  True,\n",
              "        True,  True,  True,  True,  True,  True,  True,  True,  True])"
            ]
          },
          "metadata": {},
          "execution_count": 89
        }
      ]
    },
    {
      "cell_type": "markdown",
      "source": [
        "* So there are no **R-variables** with zero variance or same values throughout."
      ],
      "metadata": {
        "id": "5gjVGaJDtn6K"
      }
    },
    {
      "cell_type": "markdown",
      "source": [
        "### Wrapper Techniques"
      ],
      "metadata": {
        "id": "MumXqN28tuOS"
      }
    },
    {
      "cell_type": "code",
      "source": [
        "from sklearn.model_selection import train_test_split\n",
        "from sklearn.ensemble import RandomForestClassifier"
      ],
      "metadata": {
        "id": "NnCZPjl6t0gd"
      },
      "execution_count": 90,
      "outputs": []
    },
    {
      "cell_type": "code",
      "source": [
        "y_train = pd.read_csv(\"/content/drive/MyDrive/AMEX_default_prediction_kaggle/labels_300000\")['target']\n",
        "y_train.value_counts()"
      ],
      "metadata": {
        "colab": {
          "base_uri": "https://localhost:8080/"
        },
        "id": "O8AqlwfOt0x0",
        "outputId": "d3f3cdb2-f847-41a0-83d6-e0f3f832c9c1"
      },
      "execution_count": 91,
      "outputs": [
        {
          "output_type": "execute_result",
          "data": {
            "text/plain": [
              "0    224534\n",
              "1     75466\n",
              "Name: target, dtype: int64"
            ]
          },
          "metadata": {},
          "execution_count": 91
        }
      ]
    },
    {
      "cell_type": "code",
      "source": [
        "X_train_forward_R, X_test_forward_R, y_train_forward_R, y_test_forward_R = train_test_split(train_df_R, y_train, test_size=0.2, random_state=42)\n",
        "X_train_forward_R.shape, X_test_forward_R.shape, y_train_forward_R.shape, y_test_forward_R.shape"
      ],
      "metadata": {
        "colab": {
          "base_uri": "https://localhost:8080/"
        },
        "id": "DwRdV9xct4Mc",
        "outputId": "94df79c4-5484-4686-d81a-8952cf720d0c"
      },
      "execution_count": 93,
      "outputs": [
        {
          "output_type": "execute_result",
          "data": {
            "text/plain": [
              "((240000, 27), (60000, 27), (240000,), (60000,))"
            ]
          },
          "metadata": {},
          "execution_count": 93
        }
      ]
    },
    {
      "cell_type": "code",
      "source": [
        "corr_features = correlation(X_train_forward_R, 0.8)\n",
        "print('correlated features: ', len(set(corr_features)) )"
      ],
      "metadata": {
        "colab": {
          "base_uri": "https://localhost:8080/"
        },
        "id": "OdV3YiYTt7L8",
        "outputId": "ff8a7814-2736-4cee-a40f-60cbb9e14a5a"
      },
      "execution_count": 94,
      "outputs": [
        {
          "output_type": "stream",
          "name": "stdout",
          "text": [
            "correlated features:  0\n"
          ]
        }
      ]
    },
    {
      "cell_type": "code",
      "source": [
        "X_train_forward_R.info()"
      ],
      "metadata": {
        "colab": {
          "base_uri": "https://localhost:8080/"
        },
        "id": "s1Xu1bgduKZm",
        "outputId": "ceb7558b-8aea-4343-9f99-8aa7c695c227"
      },
      "execution_count": 96,
      "outputs": [
        {
          "output_type": "stream",
          "name": "stdout",
          "text": [
            "<class 'pandas.core.frame.DataFrame'>\n",
            "Int64Index: 240000 entries, 254099 to 121958\n",
            "Data columns (total 27 columns):\n",
            " #   Column  Non-Null Count   Dtype  \n",
            "---  ------  --------------   -----  \n",
            " 0   R_1     240000 non-null  float64\n",
            " 1   R_2     240000 non-null  float64\n",
            " 2   R_3     240000 non-null  float64\n",
            " 3   R_4     240000 non-null  float64\n",
            " 4   R_5     240000 non-null  float64\n",
            " 5   R_6     240000 non-null  float64\n",
            " 6   R_7     240000 non-null  float64\n",
            " 7   R_8     240000 non-null  float64\n",
            " 8   R_10    240000 non-null  float64\n",
            " 9   R_11    240000 non-null  float64\n",
            " 10  R_12    239997 non-null  float64\n",
            " 11  R_13    240000 non-null  float64\n",
            " 12  R_14    240000 non-null  float64\n",
            " 13  R_15    240000 non-null  float64\n",
            " 14  R_16    240000 non-null  float64\n",
            " 15  R_17    240000 non-null  float64\n",
            " 16  R_18    240000 non-null  float64\n",
            " 17  R_19    240000 non-null  float64\n",
            " 18  R_20    239995 non-null  float64\n",
            " 19  R_21    240000 non-null  float64\n",
            " 20  R_22    240000 non-null  float64\n",
            " 21  R_23    240000 non-null  float64\n",
            " 22  R_24    240000 non-null  float64\n",
            " 23  R_25    240000 non-null  float64\n",
            " 24  R_26    25706 non-null   float64\n",
            " 25  R_27    234557 non-null  float64\n",
            " 26  R_28    240000 non-null  float64\n",
            "dtypes: float64(27)\n",
            "memory usage: 51.3 MB\n"
          ]
        }
      ]
    },
    {
      "cell_type": "code",
      "source": [
        "X_train_forward_R.drop(['R_26'], axis=1, inplace=True)"
      ],
      "metadata": {
        "id": "KYiJ4o-vuQJ5"
      },
      "execution_count": 97,
      "outputs": []
    },
    {
      "cell_type": "code",
      "source": [
        "X_train_forward_R['target'] = y_train_forward_R"
      ],
      "metadata": {
        "id": "1PXJo0BPusxM"
      },
      "execution_count": 98,
      "outputs": []
    },
    {
      "cell_type": "code",
      "source": [
        "X_train_forward_R_sample = X_train_forward_R.sample(n=20000)"
      ],
      "metadata": {
        "id": "u2l5qmVzu3Sc"
      },
      "execution_count": 101,
      "outputs": []
    },
    {
      "cell_type": "code",
      "source": [
        "y_train_forward_R_sample = X_train_forward_R_sample['target']\n",
        "X_train_forward_R_sample.drop('target', axis=1, inplace=True)"
      ],
      "metadata": {
        "id": "UycEmePSu-6_"
      },
      "execution_count": 102,
      "outputs": []
    },
    {
      "cell_type": "code",
      "source": [
        "for ele in X_train_forward_R_sample.columns :\n",
        "  if X_train_forward_R_sample[ele].isna().sum() != 0:\n",
        "    mean_value = X_train_forward_R_sample[ele].mean()\n",
        "    X_train_forward_R_sample[ele].fillna(mean_value, inplace=True)"
      ],
      "metadata": {
        "id": "P1k5aUQWvJ4S"
      },
      "execution_count": 103,
      "outputs": []
    },
    {
      "cell_type": "code",
      "source": [
        "X_train_forward_R_sample.info()"
      ],
      "metadata": {
        "colab": {
          "base_uri": "https://localhost:8080/"
        },
        "id": "nKp2Ts6kvckL",
        "outputId": "1b46e183-b3fc-4370-c1c0-cf6959264fab"
      },
      "execution_count": 104,
      "outputs": [
        {
          "output_type": "stream",
          "name": "stdout",
          "text": [
            "<class 'pandas.core.frame.DataFrame'>\n",
            "Int64Index: 20000 entries, 222321 to 171720\n",
            "Data columns (total 26 columns):\n",
            " #   Column  Non-Null Count  Dtype  \n",
            "---  ------  --------------  -----  \n",
            " 0   R_1     20000 non-null  float64\n",
            " 1   R_2     20000 non-null  float64\n",
            " 2   R_3     20000 non-null  float64\n",
            " 3   R_4     20000 non-null  float64\n",
            " 4   R_5     20000 non-null  float64\n",
            " 5   R_6     20000 non-null  float64\n",
            " 6   R_7     20000 non-null  float64\n",
            " 7   R_8     20000 non-null  float64\n",
            " 8   R_10    20000 non-null  float64\n",
            " 9   R_11    20000 non-null  float64\n",
            " 10  R_12    20000 non-null  float64\n",
            " 11  R_13    20000 non-null  float64\n",
            " 12  R_14    20000 non-null  float64\n",
            " 13  R_15    20000 non-null  float64\n",
            " 14  R_16    20000 non-null  float64\n",
            " 15  R_17    20000 non-null  float64\n",
            " 16  R_18    20000 non-null  float64\n",
            " 17  R_19    20000 non-null  float64\n",
            " 18  R_20    20000 non-null  float64\n",
            " 19  R_21    20000 non-null  float64\n",
            " 20  R_22    20000 non-null  float64\n",
            " 21  R_23    20000 non-null  float64\n",
            " 22  R_24    20000 non-null  float64\n",
            " 23  R_25    20000 non-null  float64\n",
            " 24  R_27    20000 non-null  float64\n",
            " 25  R_28    20000 non-null  float64\n",
            "dtypes: float64(26)\n",
            "memory usage: 4.1 MB\n"
          ]
        }
      ]
    },
    {
      "cell_type": "markdown",
      "source": [
        "### Forward Feature Selection"
      ],
      "metadata": {
        "id": "Zf89ZKwSvhDf"
      }
    },
    {
      "cell_type": "code",
      "source": [
        "sfs_r = SFS(estimator=RandomForestClassifier(),\n",
        "            k_features=10,\n",
        "            forward=True,\n",
        "            floating=False, \n",
        "            verbose=2,\n",
        "            scoring='roc_auc',\n",
        "            cv=3)\n",
        "\n",
        "sfs_r.fit(np.array(X_train_forward_R_sample), y_train_forward_R_sample)"
      ],
      "metadata": {
        "colab": {
          "base_uri": "https://localhost:8080/"
        },
        "id": "iLBSJgWqvx9o",
        "outputId": "69e3a5e9-3b04-4d1e-91ef-73d20a736b4d"
      },
      "execution_count": 105,
      "outputs": [
        {
          "output_type": "stream",
          "name": "stderr",
          "text": [
            "[Parallel(n_jobs=1)]: Using backend SequentialBackend with 1 concurrent workers.\n",
            "[Parallel(n_jobs=1)]: Done   1 out of   1 | elapsed:   11.0s remaining:    0.0s\n",
            "[Parallel(n_jobs=1)]: Done  26 out of  26 | elapsed:  4.8min finished\n",
            "\n",
            "[2022-07-19 09:22:23] Features: 1/10 -- score: 0.5113217901547241[Parallel(n_jobs=1)]: Using backend SequentialBackend with 1 concurrent workers.\n",
            "[Parallel(n_jobs=1)]: Done   1 out of   1 | elapsed:    9.5s remaining:    0.0s\n",
            "[Parallel(n_jobs=1)]: Done  25 out of  25 | elapsed:  3.9min finished\n",
            "\n",
            "[2022-07-19 09:26:15] Features: 2/10 -- score: 0.5113076195156233[Parallel(n_jobs=1)]: Using backend SequentialBackend with 1 concurrent workers.\n",
            "[Parallel(n_jobs=1)]: Done   1 out of   1 | elapsed:    8.8s remaining:    0.0s\n",
            "[Parallel(n_jobs=1)]: Done  24 out of  24 | elapsed:  3.6min finished\n",
            "\n",
            "[2022-07-19 09:29:49] Features: 3/10 -- score: 0.5150723355949641[Parallel(n_jobs=1)]: Using backend SequentialBackend with 1 concurrent workers.\n",
            "[Parallel(n_jobs=1)]: Done   1 out of   1 | elapsed:   14.0s remaining:    0.0s\n",
            "[Parallel(n_jobs=1)]: Done  23 out of  23 | elapsed:  5.4min finished\n",
            "\n",
            "[2022-07-19 09:35:11] Features: 4/10 -- score: 0.5167632793100724[Parallel(n_jobs=1)]: Using backend SequentialBackend with 1 concurrent workers.\n",
            "[Parallel(n_jobs=1)]: Done   1 out of   1 | elapsed:   14.0s remaining:    0.0s\n",
            "[Parallel(n_jobs=1)]: Done  22 out of  22 | elapsed:  5.1min finished\n",
            "\n",
            "[2022-07-19 09:40:14] Features: 5/10 -- score: 0.5153910095735341[Parallel(n_jobs=1)]: Using backend SequentialBackend with 1 concurrent workers.\n",
            "[Parallel(n_jobs=1)]: Done   1 out of   1 | elapsed:   14.0s remaining:    0.0s\n",
            "[Parallel(n_jobs=1)]: Done  21 out of  21 | elapsed:  4.7min finished\n",
            "\n",
            "[2022-07-19 09:44:59] Features: 6/10 -- score: 0.5156384788111735[Parallel(n_jobs=1)]: Using backend SequentialBackend with 1 concurrent workers.\n",
            "[Parallel(n_jobs=1)]: Done   1 out of   1 | elapsed:   13.4s remaining:    0.0s\n",
            "[Parallel(n_jobs=1)]: Done  20 out of  20 | elapsed:  4.5min finished\n",
            "\n",
            "[2022-07-19 09:49:31] Features: 7/10 -- score: 0.5109775259107119[Parallel(n_jobs=1)]: Using backend SequentialBackend with 1 concurrent workers.\n",
            "[Parallel(n_jobs=1)]: Done   1 out of   1 | elapsed:   13.8s remaining:    0.0s\n",
            "[Parallel(n_jobs=1)]: Done  19 out of  19 | elapsed:  4.3min finished\n",
            "\n",
            "[2022-07-19 09:53:50] Features: 8/10 -- score: 0.5115557825446903[Parallel(n_jobs=1)]: Using backend SequentialBackend with 1 concurrent workers.\n",
            "[Parallel(n_jobs=1)]: Done   1 out of   1 | elapsed:   19.5s remaining:    0.0s\n",
            "[Parallel(n_jobs=1)]: Done  18 out of  18 | elapsed:  5.8min finished\n",
            "\n",
            "[2022-07-19 09:59:40] Features: 9/10 -- score: 0.5111211969440593[Parallel(n_jobs=1)]: Using backend SequentialBackend with 1 concurrent workers.\n",
            "[Parallel(n_jobs=1)]: Done   1 out of   1 | elapsed:   18.5s remaining:    0.0s\n",
            "[Parallel(n_jobs=1)]: Done  17 out of  17 | elapsed:  5.2min finished\n",
            "\n",
            "[2022-07-19 10:04:52] Features: 10/10 -- score: 0.5148715128973231"
          ]
        },
        {
          "output_type": "execute_result",
          "data": {
            "text/plain": [
              "SequentialFeatureSelector(cv=3, estimator=RandomForestClassifier(),\n",
              "                          k_features=10, scoring='roc_auc', verbose=2)"
            ]
          },
          "metadata": {},
          "execution_count": 105
        }
      ]
    },
    {
      "cell_type": "code",
      "source": [
        "X_train_forward_R_sample.columns[list(sfs_r.k_feature_idx_)]"
      ],
      "metadata": {
        "colab": {
          "base_uri": "https://localhost:8080/"
        },
        "id": "qHunE4PTAvJ-",
        "outputId": "74492827-96f1-4400-8f0c-771192b5f773"
      },
      "execution_count": 112,
      "outputs": [
        {
          "output_type": "execute_result",
          "data": {
            "text/plain": [
              "Index(['R_3', 'R_4', 'R_7', 'R_14', 'R_15', 'R_16', 'R_23', 'R_25', 'R_27',\n",
              "       'R_28'],\n",
              "      dtype='object')"
            ]
          },
          "metadata": {},
          "execution_count": 112
        }
      ]
    },
    {
      "cell_type": "markdown",
      "source": [
        "### Recursive Feature Elimination"
      ],
      "metadata": {
        "id": "JmxRmys7v5Dz"
      }
    },
    {
      "cell_type": "code",
      "source": [
        "from sklearn.feature_selection import RFE"
      ],
      "metadata": {
        "id": "Y-kdLLc-_UkU"
      },
      "execution_count": 106,
      "outputs": []
    },
    {
      "cell_type": "code",
      "source": [
        "# Init the transformer\n",
        "rfe_R = RFE(estimator=RandomForestClassifier(), n_features_to_select=10)\n",
        "\n",
        "# Fit to the training data\n",
        "rfe_R = rfe_R.fit(X_train_forward_R_sample, y_train_forward_R_sample)"
      ],
      "metadata": {
        "id": "_2TS1o_5_U4f"
      },
      "execution_count": 107,
      "outputs": []
    },
    {
      "cell_type": "code",
      "source": [
        "X_train_forward_R_sample.columns[rfe_R.support_]"
      ],
      "metadata": {
        "colab": {
          "base_uri": "https://localhost:8080/"
        },
        "id": "PyOYpcFH_eK0",
        "outputId": "440d2608-a114-4446-d4b6-cb4794a178c8"
      },
      "execution_count": 110,
      "outputs": [
        {
          "output_type": "execute_result",
          "data": {
            "text/plain": [
              "Index(['R_1', 'R_3', 'R_4', 'R_8', 'R_11', 'R_17', 'R_22', 'R_23', 'R_24',\n",
              "       'R_28'],\n",
              "      dtype='object')"
            ]
          },
          "metadata": {},
          "execution_count": 110
        }
      ]
    }
  ],
  "metadata": {
    "accelerator": "GPU",
    "colab": {
      "collapsed_sections": [],
      "machine_shape": "hm",
      "name": "AMEX_Default_prediction_feature_selection.ipynb",
      "provenance": [],
      "toc_visible": true,
      "authorship_tag": "ABX9TyNiUARrELl2xBQvE2U1ZJLt",
      "include_colab_link": true
    },
    "gpuClass": "standard",
    "kernelspec": {
      "display_name": "Python 3",
      "name": "python3"
    },
    "language_info": {
      "name": "python"
    }
  },
  "nbformat": 4,
  "nbformat_minor": 0
}